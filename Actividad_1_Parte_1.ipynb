{
  "nbformat": 4,
  "nbformat_minor": 0,
  "metadata": {
    "colab": {
      "name": "Actividad_1_Parte_1.ipynb",
      "provenance": [],
      "collapsed_sections": [],
      "include_colab_link": true
    },
    "kernelspec": {
      "display_name": "Python 3",
      "language": "python",
      "name": "python3"
    }
  },
  "cells": [
    {
      "cell_type": "markdown",
      "metadata": {
        "id": "view-in-github",
        "colab_type": "text"
      },
      "source": [
        "<a href=\"https://colab.research.google.com/github/DanielProanoGuevara/SistemasCognitivosArtificiales/blob/master/Actividad_1_Parte_1.ipynb\" target=\"_parent\"><img src=\"https://colab.research.google.com/assets/colab-badge.svg\" alt=\"Open In Colab\"/></a>"
      ]
    },
    {
      "cell_type": "markdown",
      "metadata": {
        "id": "iiDzBoKGwmMZ",
        "colab_type": "text"
      },
      "source": [
        "# Primera parte: Introducción a las redes neuronales con Keras\n",
        "\n",
        "En esta primera parte, vamos a utilizar una red neuronal para clasificar imágenes de prendas de ropa. Para ello, utilizaremos Keras con TensorFlow.\n",
        "\n",
        "El dataset a utilizar es Fashion MNIST, un problema sencillo con imágenes pequeñas de ropa, pero más interesante que el dataset de MNIST. Puedes consultar más información sobre el dataset en [este enlace](https://github.com/zalandoresearch/fashion-mnist).\n",
        "\n",
        "El código utilizado para contestar tiene que quedar claramente reflejado en el Notebook. Puedes crear nuevas cells si así lo deseas para estructurar tu código y sus salidas. A la hora de entregar el notebook, **asegúrate de que los resultados de ejecutar tu código han quedado guardados** (por ejemplo, a la hora de entrenar una red neuronal tiene que verse claramente un log de los resultados de cada epoch)."
      ]
    },
    {
      "cell_type": "code",
      "metadata": {
        "id": "gSHr268SwmMa",
        "colab_type": "code",
        "colab": {
          "base_uri": "https://localhost:8080/",
          "height": 35
        },
        "outputId": "80210d3d-8d42-40dd-b54a-9f5d59268350"
      },
      "source": [
        "import keras\n",
        "from keras.datasets import fashion_mnist\n",
        "from keras.models import Sequential\n",
        "from keras.layers import Dense\n",
        "import tensorflow as tf\n",
        "\n",
        "import matplotlib.pyplot as plt\n",
        "import numpy as np"
      ],
      "execution_count": 1,
      "outputs": [
        {
          "output_type": "stream",
          "text": [
            "Using TensorFlow backend.\n"
          ],
          "name": "stderr"
        }
      ]
    },
    {
      "cell_type": "markdown",
      "metadata": {
        "id": "PhYq8-CvwmMc",
        "colab_type": "text"
      },
      "source": [
        "Primero, vamos a obtener los datos. Por suerte para nosotros, estos pueden ser descargados directamente desde Keras, por lo que no tendremos que preocuparnos de tratar con ficheros."
      ]
    },
    {
      "cell_type": "code",
      "metadata": {
        "id": "0mjrFULOwmMd",
        "colab_type": "code",
        "colab": {}
      },
      "source": [
        "(x_train, y_train), (x_test, y_test) = fashion_mnist.load_data()"
      ],
      "execution_count": 0,
      "outputs": []
    },
    {
      "cell_type": "markdown",
      "metadata": {
        "id": "AOVoeoj0wmMe",
        "colab_type": "text"
      },
      "source": [
        "Acto seguido, normalizamos esos datos de manera similar a como hemos visto con MNIST, obteniendo valores entre 0 y 1. Este paso es muy importante para el correcto funcionamiento de nuestra red."
      ]
    },
    {
      "cell_type": "code",
      "metadata": {
        "id": "5EgKN2YWwmMf",
        "colab_type": "code",
        "colab": {}
      },
      "source": [
        "x_train = x_train / 255.0\n",
        "x_test = x_test / 255.0"
      ],
      "execution_count": 0,
      "outputs": []
    },
    {
      "cell_type": "markdown",
      "metadata": {
        "id": "BaqXlSMBwmMg",
        "colab_type": "text"
      },
      "source": [
        "## 1. Información sobre el dataset"
      ]
    },
    {
      "cell_type": "markdown",
      "metadata": {
        "id": "e0aer8ZZwmMh",
        "colab_type": "text"
      },
      "source": [
        "Una vez tenemos los datos cargados en memoria, vamos a obtener información sobre los mismos."
      ]
    },
    {
      "cell_type": "markdown",
      "metadata": {
        "id": "E-im9PnEwmMh",
        "colab_type": "text"
      },
      "source": [
        "**Pregunta 1.1 *(0.25 puntos)*** ¿Cuántas imágenes hay de *training* y de *test*? ¿Qué tamaño tienen las imágenes?"
      ]
    },
    {
      "cell_type": "code",
      "metadata": {
        "id": "lvP0Y4SCwmMi",
        "colab_type": "code",
        "colab": {
          "base_uri": "https://localhost:8080/",
          "height": 52
        },
        "outputId": "121756f4-874b-42fe-ce98-350bd2235e98"
      },
      "source": [
        "print(len(x_train))\n",
        "print(len(x_test))"
      ],
      "execution_count": 4,
      "outputs": [
        {
          "output_type": "stream",
          "text": [
            "60000\n",
            "10000\n"
          ],
          "name": "stdout"
        }
      ]
    },
    {
      "cell_type": "markdown",
      "metadata": {
        "id": "Xwp5ljFKwmMj",
        "colab_type": "text"
      },
      "source": [
        "En el conjunto de training hay 60000 Muestras\n",
        "\n",
        "En el conjunto de test hay 10000 Muestras"
      ]
    },
    {
      "cell_type": "markdown",
      "metadata": {
        "id": "F2LsvfHOwmMk",
        "colab_type": "text"
      },
      "source": [
        "**Pregunta 1.2 *(0.25 puntos)*** Realizar una exploración de las variables que contienen los datos. Describir en qué consiste un example del dataset (qué información se guarda en cada imagen) y describir qué contiene la información en y."
      ]
    },
    {
      "cell_type": "markdown",
      "metadata": {
        "id": "A9mkjN87UED6",
        "colab_type": "text"
      },
      "source": [
        "Un ejemplo del dataset se conforma por una imagen (o matrix de pixeles) como se muestra a continuación"
      ]
    },
    {
      "cell_type": "code",
      "metadata": {
        "id": "3W5rzaGxwmMk",
        "colab_type": "code",
        "colab": {
          "base_uri": "https://localhost:8080/",
          "height": 1000
        },
        "outputId": "e7226211-9230-4351-e24a-f12bbecc06a1"
      },
      "source": [
        "print(x_test[0])"
      ],
      "execution_count": 5,
      "outputs": [
        {
          "output_type": "stream",
          "text": [
            "[[0.         0.         0.         0.         0.         0.\n",
            "  0.         0.         0.         0.         0.         0.\n",
            "  0.         0.         0.         0.         0.         0.\n",
            "  0.         0.         0.         0.         0.         0.\n",
            "  0.         0.         0.         0.        ]\n",
            " [0.         0.         0.         0.         0.         0.\n",
            "  0.         0.         0.         0.         0.         0.\n",
            "  0.         0.         0.         0.         0.         0.\n",
            "  0.         0.         0.         0.         0.         0.\n",
            "  0.         0.         0.         0.        ]\n",
            " [0.         0.         0.         0.         0.         0.\n",
            "  0.         0.         0.         0.         0.         0.\n",
            "  0.         0.         0.         0.         0.         0.\n",
            "  0.         0.         0.         0.         0.         0.\n",
            "  0.         0.         0.         0.        ]\n",
            " [0.         0.         0.         0.         0.         0.\n",
            "  0.         0.         0.         0.         0.         0.\n",
            "  0.         0.         0.         0.         0.         0.\n",
            "  0.         0.         0.         0.         0.         0.\n",
            "  0.         0.         0.         0.        ]\n",
            " [0.         0.         0.         0.         0.         0.\n",
            "  0.         0.         0.         0.         0.         0.\n",
            "  0.         0.         0.         0.         0.         0.\n",
            "  0.         0.         0.         0.         0.         0.\n",
            "  0.         0.         0.         0.        ]\n",
            " [0.         0.         0.         0.         0.         0.\n",
            "  0.         0.         0.         0.         0.         0.\n",
            "  0.         0.         0.         0.         0.         0.\n",
            "  0.         0.         0.         0.         0.         0.\n",
            "  0.         0.         0.         0.        ]\n",
            " [0.         0.         0.         0.         0.         0.\n",
            "  0.         0.         0.         0.         0.         0.\n",
            "  0.         0.         0.         0.         0.         0.\n",
            "  0.         0.         0.         0.         0.         0.\n",
            "  0.         0.         0.         0.        ]\n",
            " [0.         0.         0.         0.         0.         0.\n",
            "  0.         0.         0.         0.         0.         0.\n",
            "  0.         0.         0.         0.         0.         0.\n",
            "  0.         0.01176471 0.00392157 0.         0.         0.02745098\n",
            "  0.         0.14509804 0.         0.        ]\n",
            " [0.         0.         0.         0.         0.         0.\n",
            "  0.         0.         0.         0.         0.         0.\n",
            "  0.         0.00392157 0.00784314 0.         0.10588235 0.32941176\n",
            "  0.04313725 0.         0.         0.         0.         0.\n",
            "  0.         0.46666667 0.         0.        ]\n",
            " [0.         0.         0.         0.         0.         0.\n",
            "  0.         0.         0.         0.         0.         0.\n",
            "  0.         0.00392157 0.         0.         0.34509804 0.56078431\n",
            "  0.43137255 0.         0.         0.         0.         0.08627451\n",
            "  0.36470588 0.41568627 0.         0.        ]\n",
            " [0.         0.         0.         0.         0.         0.\n",
            "  0.         0.         0.         0.         0.         0.\n",
            "  0.         0.01568627 0.         0.20784314 0.50588235 0.47058824\n",
            "  0.57647059 0.68627451 0.61568627 0.65098039 0.52941176 0.60392157\n",
            "  0.65882353 0.54901961 0.         0.        ]\n",
            " [0.         0.         0.         0.         0.         0.\n",
            "  0.         0.         0.         0.         0.         0.\n",
            "  0.00784314 0.         0.04313725 0.5372549  0.50980392 0.50196078\n",
            "  0.62745098 0.69019608 0.62352941 0.65490196 0.69803922 0.58431373\n",
            "  0.59215686 0.56470588 0.         0.        ]\n",
            " [0.         0.         0.         0.         0.         0.\n",
            "  0.00392157 0.         0.00784314 0.00392157 0.         0.01176471\n",
            "  0.         0.         0.45098039 0.44705882 0.41568627 0.5372549\n",
            "  0.65882353 0.6        0.61176471 0.64705882 0.65490196 0.56078431\n",
            "  0.61568627 0.61960784 0.04313725 0.        ]\n",
            " [0.         0.         0.         0.         0.00392157 0.\n",
            "  0.         0.         0.         0.         0.01176471 0.\n",
            "  0.         0.34901961 0.54509804 0.35294118 0.36862745 0.6\n",
            "  0.58431373 0.51372549 0.59215686 0.6627451  0.6745098  0.56078431\n",
            "  0.62352941 0.6627451  0.18823529 0.        ]\n",
            " [0.         0.         0.         0.         0.         0.\n",
            "  0.00784314 0.01568627 0.00392157 0.         0.         0.\n",
            "  0.38431373 0.53333333 0.43137255 0.42745098 0.43137255 0.63529412\n",
            "  0.52941176 0.56470588 0.58431373 0.62352941 0.65490196 0.56470588\n",
            "  0.61960784 0.6627451  0.46666667 0.        ]\n",
            " [0.         0.         0.00784314 0.00784314 0.00392157 0.00784314\n",
            "  0.         0.         0.         0.         0.10196078 0.42352941\n",
            "  0.45882353 0.38823529 0.43529412 0.45882353 0.53333333 0.61176471\n",
            "  0.5254902  0.60392157 0.60392157 0.61176471 0.62745098 0.55294118\n",
            "  0.57647059 0.61176471 0.69803922 0.        ]\n",
            " [0.01176471 0.         0.         0.         0.         0.\n",
            "  0.         0.08235294 0.20784314 0.36078431 0.45882353 0.43529412\n",
            "  0.40392157 0.45098039 0.50588235 0.5254902  0.56078431 0.60392157\n",
            "  0.64705882 0.66666667 0.60392157 0.59215686 0.60392157 0.56078431\n",
            "  0.54117647 0.58823529 0.64705882 0.16862745]\n",
            " [0.         0.         0.09019608 0.21176471 0.25490196 0.29803922\n",
            "  0.33333333 0.4627451  0.50196078 0.48235294 0.43529412 0.44313725\n",
            "  0.4627451  0.49803922 0.49019608 0.54509804 0.52156863 0.53333333\n",
            "  0.62745098 0.54901961 0.60784314 0.63137255 0.56470588 0.60784314\n",
            "  0.6745098  0.63137255 0.74117647 0.24313725]\n",
            " [0.         0.26666667 0.36862745 0.35294118 0.43529412 0.44705882\n",
            "  0.43529412 0.44705882 0.45098039 0.49803922 0.52941176 0.53333333\n",
            "  0.56078431 0.49411765 0.49803922 0.59215686 0.60392157 0.56078431\n",
            "  0.58039216 0.49019608 0.63529412 0.63529412 0.56470588 0.54117647\n",
            "  0.6        0.63529412 0.76862745 0.22745098]\n",
            " [0.2745098  0.6627451  0.50588235 0.40784314 0.38431373 0.39215686\n",
            "  0.36862745 0.38039216 0.38431373 0.4        0.42352941 0.41568627\n",
            "  0.46666667 0.47058824 0.50588235 0.58431373 0.61176471 0.65490196\n",
            "  0.74509804 0.74509804 0.76862745 0.77647059 0.77647059 0.73333333\n",
            "  0.77254902 0.74117647 0.72156863 0.14117647]\n",
            " [0.0627451  0.49411765 0.67058824 0.7372549  0.7372549  0.72156863\n",
            "  0.67058824 0.6        0.52941176 0.47058824 0.49411765 0.49803922\n",
            "  0.57254902 0.7254902  0.76470588 0.81960784 0.81568627 1.\n",
            "  0.81960784 0.69411765 0.96078431 0.98823529 0.98431373 0.98431373\n",
            "  0.96862745 0.8627451  0.80784314 0.19215686]\n",
            " [0.         0.         0.         0.04705882 0.2627451  0.41568627\n",
            "  0.64313725 0.7254902  0.78039216 0.82352941 0.82745098 0.82352941\n",
            "  0.81568627 0.74509804 0.58823529 0.32156863 0.03137255 0.\n",
            "  0.         0.         0.69803922 0.81568627 0.7372549  0.68627451\n",
            "  0.63529412 0.61960784 0.59215686 0.04313725]\n",
            " [0.         0.         0.         0.         0.         0.\n",
            "  0.         0.         0.         0.         0.         0.\n",
            "  0.         0.         0.         0.         0.         0.\n",
            "  0.         0.         0.         0.         0.         0.\n",
            "  0.         0.         0.         0.        ]\n",
            " [0.         0.         0.         0.         0.         0.\n",
            "  0.         0.         0.         0.         0.         0.\n",
            "  0.         0.         0.         0.         0.         0.\n",
            "  0.         0.         0.         0.         0.         0.\n",
            "  0.         0.         0.         0.        ]\n",
            " [0.         0.         0.         0.         0.         0.\n",
            "  0.         0.         0.         0.         0.         0.\n",
            "  0.         0.         0.         0.         0.         0.\n",
            "  0.         0.         0.         0.         0.         0.\n",
            "  0.         0.         0.         0.        ]\n",
            " [0.         0.         0.         0.         0.         0.\n",
            "  0.         0.         0.         0.         0.         0.\n",
            "  0.         0.         0.         0.         0.         0.\n",
            "  0.         0.         0.         0.         0.         0.\n",
            "  0.         0.         0.         0.        ]\n",
            " [0.         0.         0.         0.         0.         0.\n",
            "  0.         0.         0.         0.         0.         0.\n",
            "  0.         0.         0.         0.         0.         0.\n",
            "  0.         0.         0.         0.         0.         0.\n",
            "  0.         0.         0.         0.        ]\n",
            " [0.         0.         0.         0.         0.         0.\n",
            "  0.         0.         0.         0.         0.         0.\n",
            "  0.         0.         0.         0.         0.         0.\n",
            "  0.         0.         0.         0.         0.         0.\n",
            "  0.         0.         0.         0.        ]]\n"
          ],
          "name": "stdout"
        }
      ]
    },
    {
      "cell_type": "code",
      "metadata": {
        "id": "5xVCoIwiTo7R",
        "colab_type": "code",
        "colab": {
          "base_uri": "https://localhost:8080/",
          "height": 52
        },
        "outputId": "410e104a-186f-41fb-edcf-9fec97f56e81"
      },
      "source": [
        "print(x_test[0].shape)\n",
        "print(x_test[0].size)"
      ],
      "execution_count": 6,
      "outputs": [
        {
          "output_type": "stream",
          "text": [
            "(28, 28)\n",
            "784\n"
          ],
          "name": "stdout"
        }
      ]
    },
    {
      "cell_type": "markdown",
      "metadata": {
        "id": "zaEWKFyvwmMm",
        "colab_type": "text"
      },
      "source": [
        "Muestra como 0 el blanco y entre 0 y 1 la composición de la imagen\n",
        "Cada ejemplo del dataset tiene dimensiones (28, 28) dando un total de 784 pixeles\n",
        "\n",
        "En la variable 'y' se muestra la categoría a la que pertenece cada imágen con un total de 10 categorías"
      ]
    },
    {
      "cell_type": "markdown",
      "metadata": {
        "id": "HPNa3nH0wmMn",
        "colab_type": "text"
      },
      "source": [
        "Vamos a **visualizar** una imagen de ejemplo. Prueba tu mismo a cambiar la imagen en uso para explorar el dataset visualmente ejecutando el siguiente código:"
      ]
    },
    {
      "cell_type": "code",
      "metadata": {
        "id": "WlQx9uk3wmMn",
        "colab_type": "code",
        "colab": {}
      },
      "source": [
        "def visualize_example(x):\n",
        "    plt.figure()\n",
        "    plt.imshow(x)\n",
        "    plt.colorbar()\n",
        "    plt.grid(False)\n",
        "    plt.show()"
      ],
      "execution_count": 0,
      "outputs": []
    },
    {
      "cell_type": "code",
      "metadata": {
        "id": "YTHt4fd2wmMp",
        "colab_type": "code",
        "outputId": "51fa1118-02d4-4612-b4df-78494339a469",
        "colab": {
          "base_uri": "https://localhost:8080/",
          "height": 269
        }
      },
      "source": [
        "visualize_example(x_train[0])"
      ],
      "execution_count": 8,
      "outputs": [
        {
          "output_type": "display_data",
          "data": {
            "image/png": "[encoded data removed]",
            "text/plain": [
              "<Figure size 432x288 with 2 Axes>"
            ]
          },
          "metadata": {
            "tags": [],
            "needs_background": "light"
          }
        }
      ]
    },
    {
      "cell_type": "markdown",
      "metadata": {
        "id": "USVefNOIwmMt",
        "colab_type": "text"
      },
      "source": [
        "## 2. Entrenamiento de una red neuronal simple"
      ]
    },
    {
      "cell_type": "markdown",
      "metadata": {
        "id": "sSWjUeOdwmMt",
        "colab_type": "text"
      },
      "source": [
        "**Pregunta 2 *(3.5 puntos)***. Utilizando Keras, y preparando los datos de X e y como fuera necesario, define y entrena una red neuronal que sea capaz de clasificar imágenes de Fashion MNIST con las siguientes características:\n",
        "\n",
        "* Dos hidden layers de tamaños 128 y 64, utilizando unidades **sigmoid**\n",
        "* Optimizador **sgd**.\n",
        "* Durante el entrenamiento, la red tiene que mostrar resultados de **loss** y **accuracy** por cada epoch.\n",
        "* La red debe entrenar durante **20 epochs** y batch size de **64**.\n",
        "* La última capa debe de ser una capa **softmax**.\n",
        "\n",
        "Tu red tendría que ser capaz de superar fácilmente 60% de accuracy."
      ]
    },
    {
      "cell_type": "markdown",
      "metadata": {
        "id": "203TDqdWU4Mx",
        "colab_type": "text"
      },
      "source": [
        "### Preprocesamiento de datos\n",
        "Cambiamos la forma de las entradas de imágenes de 28x28 a un vector de 784 elementos"
      ]
    },
    {
      "cell_type": "code",
      "metadata": {
        "id": "mWbhRU3-U3MU",
        "colab_type": "code",
        "colab": {}
      },
      "source": [
        "X_test = np.reshape(x_test,(10000,784))\n",
        "X_train = np.reshape(x_train,(60000,784))"
      ],
      "execution_count": 0,
      "outputs": []
    },
    {
      "cell_type": "markdown",
      "metadata": {
        "id": "Rg55-3K3VCpU",
        "colab_type": "text"
      },
      "source": [
        "Dado que las variables en y representan categorías, es necesario codificarlas para que el modelo con las considere como más o menos relevantes por su numero"
      ]
    },
    {
      "cell_type": "code",
      "metadata": {
        "id": "2sV5tlAtVH8N",
        "colab_type": "code",
        "colab": {}
      },
      "source": [
        "from sklearn.preprocessing import OneHotEncoder\n",
        "onehotencoder_y = OneHotEncoder()\n",
        "y_train = onehotencoder_y.fit_transform(y_train.reshape(-1,1)).toarray()\n",
        "y_test = onehotencoder_y.transform(y_test.reshape(-1,1)).toarray()"
      ],
      "execution_count": 0,
      "outputs": []
    },
    {
      "cell_type": "markdown",
      "metadata": {
        "id": "NRtr_1eKVpEJ",
        "colab_type": "text"
      },
      "source": [
        "### Crear el clasificador"
      ]
    },
    {
      "cell_type": "markdown",
      "metadata": {
        "id": "NBMFvR8mVtu8",
        "colab_type": "text"
      },
      "source": [
        "#### Crear la arquitectura de la red"
      ]
    },
    {
      "cell_type": "code",
      "metadata": {
        "id": "cCh7qRMTwmMt",
        "colab_type": "code",
        "colab": {}
      },
      "source": [
        "#Inicializar la red\n",
        "classifier = Sequential()\n",
        "\n",
        "#Capa inicial y primera capa oculta de 128 nodos\n",
        "classifier.add(Dense(128, input_shape=(784,), activation = 'sigmoid', kernel_initializer = 'uniform'))\n",
        "\n",
        "#Segunda capa oculta de 64 nodos\n",
        "classifier.add(Dense(64, activation = 'sigmoid', kernel_initializer = 'uniform'))\n",
        "\n",
        "#Capa de salida\n",
        "classifier.add(Dense(10, activation = 'softmax', kernel_initializer = 'uniform'))"
      ],
      "execution_count": 0,
      "outputs": []
    },
    {
      "cell_type": "markdown",
      "metadata": {
        "id": "NtIo7FdMVz2H",
        "colab_type": "text"
      },
      "source": [
        "#### Compilar la red utilizando SGD y entrenar la red neuronal"
      ]
    },
    {
      "cell_type": "code",
      "metadata": {
        "id": "7dM0I7g7VzOw",
        "colab_type": "code",
        "colab": {
          "base_uri": "https://localhost:8080/",
          "height": 728
        },
        "outputId": "523a7ed7-3b03-4f88-b657-e5eb5075fd16"
      },
      "source": [
        "#Compilar la red y utilizar SGD\n",
        "classifier.compile(optimizer = 'SGD', loss = 'categorical_crossentropy', metrics = ['accuracy', 'categorical_crossentropy'])\n",
        "\n",
        "#Entrenar la red neuronal\n",
        "classifier.fit(X_train, y_train, batch_size = 64, epochs = 20, verbose = 2)"
      ],
      "execution_count": 12,
      "outputs": [
        {
          "output_type": "stream",
          "text": [
            "Epoch 1/20\n",
            " - 2s - loss: 2.3027 - accuracy: 0.1023 - categorical_crossentropy: 2.3027\n",
            "Epoch 2/20\n",
            " - 2s - loss: 2.3005 - accuracy: 0.1130 - categorical_crossentropy: 2.3005\n",
            "Epoch 3/20\n",
            " - 2s - loss: 2.2968 - accuracy: 0.1330 - categorical_crossentropy: 2.2968\n",
            "Epoch 4/20\n",
            " - 2s - loss: 2.2884 - accuracy: 0.1794 - categorical_crossentropy: 2.2884\n",
            "Epoch 5/20\n",
            " - 2s - loss: 2.2587 - accuracy: 0.2424 - categorical_crossentropy: 2.2587\n",
            "Epoch 6/20\n",
            " - 2s - loss: 2.1239 - accuracy: 0.2693 - categorical_crossentropy: 2.1239\n",
            "Epoch 7/20\n",
            " - 2s - loss: 1.8484 - accuracy: 0.3265 - categorical_crossentropy: 1.8484\n",
            "Epoch 8/20\n",
            " - 2s - loss: 1.6837 - accuracy: 0.4049 - categorical_crossentropy: 1.6837\n",
            "Epoch 9/20\n",
            " - 2s - loss: 1.5637 - accuracy: 0.4693 - categorical_crossentropy: 1.5637\n",
            "Epoch 10/20\n",
            " - 2s - loss: 1.4268 - accuracy: 0.5298 - categorical_crossentropy: 1.4268\n",
            "Epoch 11/20\n",
            " - 2s - loss: 1.3031 - accuracy: 0.5656 - categorical_crossentropy: 1.3031\n",
            "Epoch 12/20\n",
            " - 2s - loss: 1.2060 - accuracy: 0.5842 - categorical_crossentropy: 1.2060\n",
            "Epoch 13/20\n",
            " - 2s - loss: 1.1311 - accuracy: 0.5968 - categorical_crossentropy: 1.1311\n",
            "Epoch 14/20\n",
            " - 2s - loss: 1.0734 - accuracy: 0.6054 - categorical_crossentropy: 1.0734\n",
            "Epoch 15/20\n",
            " - 2s - loss: 1.0279 - accuracy: 0.6155 - categorical_crossentropy: 1.0279\n",
            "Epoch 16/20\n",
            " - 2s - loss: 0.9909 - accuracy: 0.6225 - categorical_crossentropy: 0.9909\n",
            "Epoch 17/20\n",
            " - 2s - loss: 0.9593 - accuracy: 0.6296 - categorical_crossentropy: 0.9593\n",
            "Epoch 18/20\n",
            " - 2s - loss: 0.9321 - accuracy: 0.6381 - categorical_crossentropy: 0.9321\n",
            "Epoch 19/20\n",
            " - 2s - loss: 0.9083 - accuracy: 0.6438 - categorical_crossentropy: 0.9083\n",
            "Epoch 20/20\n",
            " - 2s - loss: 0.8872 - accuracy: 0.6498 - categorical_crossentropy: 0.8872\n"
          ],
          "name": "stdout"
        },
        {
          "output_type": "execute_result",
          "data": {
            "text/plain": [
              "<keras.callbacks.callbacks.History at 0x7fe48f793e48>"
            ]
          },
          "metadata": {
            "tags": []
          },
          "execution_count": 12
        }
      ]
    },
    {
      "cell_type": "markdown",
      "metadata": {
        "id": "CZux6TmvwmMv",
        "colab_type": "text"
      },
      "source": [
        "## 3. Evaluación del modelo en datos de test"
      ]
    },
    {
      "cell_type": "markdown",
      "metadata": {
        "id": "0SzHBkzrwmMw",
        "colab_type": "text"
      },
      "source": [
        "Una vez hemos entrenado nuestro modelo, vamos a evaluarlo en los datos de test de Fashion MNIST.\n",
        "\n",
        "**Pregunta 3.1 *(0.5 puntos)***. Utilizando el modelo recién entrenado, obtener la accuracy resultante en el dataset de test."
      ]
    },
    {
      "cell_type": "code",
      "metadata": {
        "id": "9CSLZkW1wmMw",
        "colab_type": "code",
        "colab": {
          "base_uri": "https://localhost:8080/",
          "height": 121
        },
        "outputId": "1c28cec2-ec72-48bf-ae52-a408ae2d5a21"
      },
      "source": [
        "acc = classifier.evaluate(X_test, y_test, verbose = 1)[1]\n",
        "print(\"El accuracy en el dataset de test es: \", acc)\n",
        "\n",
        "y_pred = classifier.predict(X_test)\n",
        "print(\"El array de predicción se ve de la forma\")\n",
        "print(y_pred[0])\n",
        "print(\"Expresa la probabilidad de que pertenezca a una u otra categoría\")"
      ],
      "execution_count": 13,
      "outputs": [
        {
          "output_type": "stream",
          "text": [
            "10000/10000 [==============================] - 0s 25us/step\n",
            "El accuracy en el dataset de test es:  0.6557000279426575\n",
            "El array de predicción se ve de la forma\n",
            "[3.2449661e-06 8.7629800e-08 1.5883188e-04 1.4013362e-04 1.3900624e-04\n",
            " 2.2996373e-01 3.3518480e-04 1.9291258e-01 2.6878387e-02 5.4946876e-01]\n",
            "Expresa la probabilidad de que pertenezca a una u otra categoría\n"
          ],
          "name": "stdout"
        }
      ]
    },
    {
      "cell_type": "markdown",
      "metadata": {
        "id": "ud0JCcZpwmMx",
        "colab_type": "text"
      },
      "source": [
        "**Pregunta 3.2 *(0.5 puntos)***. Utilizando el método **predict** de Keras, realizar predicciones para los datos de test. Por cada predicción resultante, ¿qué significan los números que obtenemos al hacer predict? ¿Cómo podemos obtener el valor de la clase resultante? (recordar que estamos utilizando una capa softmax para clasificar)."
      ]
    },
    {
      "cell_type": "code",
      "metadata": {
        "id": "0wrXVJJ9wmMy",
        "colab_type": "code",
        "colab": {
          "base_uri": "https://localhost:8080/",
          "height": 470
        },
        "outputId": "070b369c-5612-433a-9b1e-60264a6fcc29"
      },
      "source": [
        "from mlxtend.evaluate import confusion_matrix\n",
        "from mlxtend.plotting import plot_confusion_matrix\n",
        "\n",
        "#para obtener a qué categoría pertenece cada dato se utiliza la función argmax\n",
        "print(\"El dato de prueba 0 es: \", np.argmax(y_test[0]), \" y el dato predicho es: \", np.argmax(y_pred[0]))\n",
        "\n",
        "#devolver al las categorías originales la variable 'y'\n",
        "y_pred = onehotencoder_y.inverse_transform(y_pred)\n",
        "y_test = onehotencoder_y.inverse_transform(y_test)\n",
        "\n",
        "cm = confusion_matrix(y_test, y_pred)\n",
        "print(cm)\n",
        "\n",
        "fig, ax = plot_confusion_matrix(conf_mat = cm)\n",
        "plt.show()"
      ],
      "execution_count": 14,
      "outputs": [
        {
          "output_type": "stream",
          "text": [
            "El dato de prueba 0 es:  9  y el dato predicho es:  9\n",
            "[[755   2   1 138  42   3  44   0  15   0]\n",
            " [ 24 909   1  47   9   3   6   0   1   0]\n",
            " [ 33   0  35  16 753   1 146   0  16   0]\n",
            " [248 112   0 563  19   5  48   0   5   0]\n",
            " [ 70   0  35  36 735   0 106   0  18   0]\n",
            " [  0   0   0   2   0 734   0 113  18 133]\n",
            " [252   1  24  57 449   1 175   0  41   0]\n",
            " [  0   0   0   0   0  67   0 847   0  86]\n",
            " [  1   0   6  10  28  37  15   3 895   5]\n",
            " [  0   0   0   0   0  18   0  60  13 909]]\n"
          ],
          "name": "stdout"
        },
        {
          "output_type": "display_data",
          "data": {
            "image/png": "[encoded data removed]",
            "text/plain": [
              "<Figure size 432x288 with 1 Axes>"
            ]
          },
          "metadata": {
            "tags": [],
            "needs_background": "light"
          }
        }
      ]
    },
    {
      "cell_type": "markdown",
      "metadata": {
        "id": "fZynBpMBwmM2",
        "colab_type": "text"
      },
      "source": [
        "Los números que obtenemos al hacerl el predict representan la probabilidad de que el ejemplo pertenezca a alguna categoría\n",
        "\n",
        "El valor resultante de cada clase se puede obtener con *argmax* aplicado a cada uno de los elementos del array o aplicando el decodificador *one_hot* con la información de codificación de los datos"
      ]
    }
  ]
}