{
  "nbformat": 4,
  "nbformat_minor": 0,
  "metadata": {
    "colab": {
      "name": "Actividad_1_Parte_1.ipynb",
      "provenance": [],
      "collapsed_sections": [],
      "include_colab_link": true
    },
    "kernelspec": {
      "display_name": "Python 3",
      "language": "python",
      "name": "python3"
    },
    "accelerator": "TPU"
  },
  "cells": [
    {
      "cell_type": "markdown",
      "metadata": {
        "id": "view-in-github",
        "colab_type": "text"
      },
      "source": [
        "<a href=\"https://colab.research.google.com/github/DanielProanoGuevara/SistemasCognitivosArtificiales/blob/master/Actividad_1_Parte_1.ipynb\" target=\"_parent\"><img src=\"https://colab.research.google.com/assets/colab-badge.svg\" alt=\"Open In Colab\"/></a>"
      ]
    },
    {
      "cell_type": "markdown",
      "metadata": {
        "id": "iiDzBoKGwmMZ",
        "colab_type": "text"
      },
      "source": [
        "# Primera parte: Introducción a las redes neuronales con Keras\n",
        "\n",
        "En esta primera parte, vamos a utilizar una red neuronal para clasificar imágenes de prendas de ropa. Para ello, utilizaremos Keras con TensorFlow.\n",
        "\n",
        "El dataset a utilizar es Fashion MNIST, un problema sencillo con imágenes pequeñas de ropa, pero más interesante que el dataset de MNIST. Puedes consultar más información sobre el dataset en [este enlace](https://github.com/zalandoresearch/fashion-mnist).\n",
        "\n",
        "El código utilizado para contestar tiene que quedar claramente reflejado en el Notebook. Puedes crear nuevas cells si así lo deseas para estructurar tu código y sus salidas. A la hora de entregar el notebook, **asegúrate de que los resultados de ejecutar tu código han quedado guardados** (por ejemplo, a la hora de entrenar una red neuronal tiene que verse claramente un log de los resultados de cada epoch)."
      ]
    },
    {
      "cell_type": "code",
      "metadata": {
        "id": "gSHr268SwmMa",
        "colab_type": "code",
        "colab": {}
      },
      "source": [
        "import keras\n",
        "from keras.datasets import fashion_mnist\n",
        "from keras.models import Sequential\n",
        "from keras.layers import Dense\n",
        "import tensorflow as tf\n",
        "\n",
        "import matplotlib.pyplot as plt\n",
        "import numpy as np"
      ],
      "execution_count": 0,
      "outputs": []
    },
    {
      "cell_type": "markdown",
      "metadata": {
        "id": "PhYq8-CvwmMc",
        "colab_type": "text"
      },
      "source": [
        "Primero, vamos a obtener los datos. Por suerte para nosotros, estos pueden ser descargados directamente desde Keras, por lo que no tendremos que preocuparnos de tratar con ficheros."
      ]
    },
    {
      "cell_type": "code",
      "metadata": {
        "id": "0mjrFULOwmMd",
        "colab_type": "code",
        "colab": {}
      },
      "source": [
        "(x_train, y_train), (x_test, y_test) = fashion_mnist.load_data()"
      ],
      "execution_count": 0,
      "outputs": []
    },
    {
      "cell_type": "markdown",
      "metadata": {
        "id": "AOVoeoj0wmMe",
        "colab_type": "text"
      },
      "source": [
        "Acto seguido, normalizamos esos datos de manera similar a como hemos visto con MNIST, obteniendo valores entre 0 y 1. Este paso es muy importante para el correcto funcionamiento de nuestra red."
      ]
    },
    {
      "cell_type": "code",
      "metadata": {
        "id": "5EgKN2YWwmMf",
        "colab_type": "code",
        "colab": {}
      },
      "source": [
        "x_train = x_train / 255.0\n",
        "x_test = x_test / 255.0"
      ],
      "execution_count": 0,
      "outputs": []
    },
    {
      "cell_type": "markdown",
      "metadata": {
        "id": "BaqXlSMBwmMg",
        "colab_type": "text"
      },
      "source": [
        "## 1. Información sobre el dataset"
      ]
    },
    {
      "cell_type": "markdown",
      "metadata": {
        "id": "e0aer8ZZwmMh",
        "colab_type": "text"
      },
      "source": [
        "Una vez tenemos los datos cargados en memoria, vamos a obtener información sobre los mismos."
      ]
    },
    {
      "cell_type": "markdown",
      "metadata": {
        "id": "E-im9PnEwmMh",
        "colab_type": "text"
      },
      "source": [
        "**Pregunta 1.1 *(0.25 puntos)*** ¿Cuántas imágenes hay de *training* y de *test*? ¿Qué tamaño tienen las imágenes?"
      ]
    },
    {
      "cell_type": "code",
      "metadata": {
        "id": "lvP0Y4SCwmMi",
        "colab_type": "code",
        "outputId": "996b1e84-7932-4ce1-eadf-7c9d13680af4",
        "colab": {
          "base_uri": "https://localhost:8080/",
          "height": 52
        }
      },
      "source": [
        "print(len(x_train))\n",
        "print(len(x_test))"
      ],
      "execution_count": 30,
      "outputs": [
        {
          "output_type": "stream",
          "text": [
            "60000\n",
            "10000\n"
          ],
          "name": "stdout"
        }
      ]
    },
    {
      "cell_type": "markdown",
      "metadata": {
        "id": "Xwp5ljFKwmMj",
        "colab_type": "text"
      },
      "source": [
        "En el conjunto de training hay 60000 Muestras\n",
        "\n",
        "En el conjunto de test hay 10000 Muestras"
      ]
    },
    {
      "cell_type": "markdown",
      "metadata": {
        "id": "F2LsvfHOwmMk",
        "colab_type": "text"
      },
      "source": [
        "**Pregunta 1.2 *(0.25 puntos)*** Realizar una exploración de las variables que contienen los datos. Describir en qué consiste un example del dataset (qué información se guarda en cada imagen) y describir qué contiene la información en y."
      ]
    },
    {
      "cell_type": "markdown",
      "metadata": {
        "id": "A9mkjN87UED6",
        "colab_type": "text"
      },
      "source": [
        "Un ejemplo del dataset se conforma por una imagen (o matrix de pixeles) como se muestra a continuación"
      ]
    },
    {
      "cell_type": "code",
      "metadata": {
        "id": "3W5rzaGxwmMk",
        "colab_type": "code",
        "outputId": "05c80f21-849f-4564-a013-9b770a7e905b",
        "colab": {
          "base_uri": "https://localhost:8080/",
          "height": 1000
        }
      },
      "source": [
        "print(x_test[0])"
      ],
      "execution_count": 31,
      "outputs": [
        {
          "output_type": "stream",
          "text": [
            "[[0.         0.         0.         0.         0.         0.\n",
            "  0.         0.         0.         0.         0.         0.\n",
            "  0.         0.         0.         0.         0.         0.\n",
            "  0.         0.         0.         0.         0.         0.\n",
            "  0.         0.         0.         0.        ]\n",
            " [0.         0.         0.         0.         0.         0.\n",
            "  0.         0.         0.         0.         0.         0.\n",
            "  0.         0.         0.         0.         0.         0.\n",
            "  0.         0.         0.         0.         0.         0.\n",
            "  0.         0.         0.         0.        ]\n",
            " [0.         0.         0.         0.         0.         0.\n",
            "  0.         0.         0.         0.         0.         0.\n",
            "  0.         0.         0.         0.         0.         0.\n",
            "  0.         0.         0.         0.         0.         0.\n",
            "  0.         0.         0.         0.        ]\n",
            " [0.         0.         0.         0.         0.         0.\n",
            "  0.         0.         0.         0.         0.         0.\n",
            "  0.         0.         0.         0.         0.         0.\n",
            "  0.         0.         0.         0.         0.         0.\n",
            "  0.         0.         0.         0.        ]\n",
            " [0.         0.         0.         0.         0.         0.\n",
            "  0.         0.         0.         0.         0.         0.\n",
            "  0.         0.         0.         0.         0.         0.\n",
            "  0.         0.         0.         0.         0.         0.\n",
            "  0.         0.         0.         0.        ]\n",
            " [0.         0.         0.         0.         0.         0.\n",
            "  0.         0.         0.         0.         0.         0.\n",
            "  0.         0.         0.         0.         0.         0.\n",
            "  0.         0.         0.         0.         0.         0.\n",
            "  0.         0.         0.         0.        ]\n",
            " [0.         0.         0.         0.         0.         0.\n",
            "  0.         0.         0.         0.         0.         0.\n",
            "  0.         0.         0.         0.         0.         0.\n",
            "  0.         0.         0.         0.         0.         0.\n",
            "  0.         0.         0.         0.        ]\n",
            " [0.         0.         0.         0.         0.         0.\n",
            "  0.         0.         0.         0.         0.         0.\n",
            "  0.         0.         0.         0.         0.         0.\n",
            "  0.         0.01176471 0.00392157 0.         0.         0.02745098\n",
            "  0.         0.14509804 0.         0.        ]\n",
            " [0.         0.         0.         0.         0.         0.\n",
            "  0.         0.         0.         0.         0.         0.\n",
            "  0.         0.00392157 0.00784314 0.         0.10588235 0.32941176\n",
            "  0.04313725 0.         0.         0.         0.         0.\n",
            "  0.         0.46666667 0.         0.        ]\n",
            " [0.         0.         0.         0.         0.         0.\n",
            "  0.         0.         0.         0.         0.         0.\n",
            "  0.         0.00392157 0.         0.         0.34509804 0.56078431\n",
            "  0.43137255 0.         0.         0.         0.         0.08627451\n",
            "  0.36470588 0.41568627 0.         0.        ]\n",
            " [0.         0.         0.         0.         0.         0.\n",
            "  0.         0.         0.         0.         0.         0.\n",
            "  0.         0.01568627 0.         0.20784314 0.50588235 0.47058824\n",
            "  0.57647059 0.68627451 0.61568627 0.65098039 0.52941176 0.60392157\n",
            "  0.65882353 0.54901961 0.         0.        ]\n",
            " [0.         0.         0.         0.         0.         0.\n",
            "  0.         0.         0.         0.         0.         0.\n",
            "  0.00784314 0.         0.04313725 0.5372549  0.50980392 0.50196078\n",
            "  0.62745098 0.69019608 0.62352941 0.65490196 0.69803922 0.58431373\n",
            "  0.59215686 0.56470588 0.         0.        ]\n",
            " [0.         0.         0.         0.         0.         0.\n",
            "  0.00392157 0.         0.00784314 0.00392157 0.         0.01176471\n",
            "  0.         0.         0.45098039 0.44705882 0.41568627 0.5372549\n",
            "  0.65882353 0.6        0.61176471 0.64705882 0.65490196 0.56078431\n",
            "  0.61568627 0.61960784 0.04313725 0.        ]\n",
            " [0.         0.         0.         0.         0.00392157 0.\n",
            "  0.         0.         0.         0.         0.01176471 0.\n",
            "  0.         0.34901961 0.54509804 0.35294118 0.36862745 0.6\n",
            "  0.58431373 0.51372549 0.59215686 0.6627451  0.6745098  0.56078431\n",
            "  0.62352941 0.6627451  0.18823529 0.        ]\n",
            " [0.         0.         0.         0.         0.         0.\n",
            "  0.00784314 0.01568627 0.00392157 0.         0.         0.\n",
            "  0.38431373 0.53333333 0.43137255 0.42745098 0.43137255 0.63529412\n",
            "  0.52941176 0.56470588 0.58431373 0.62352941 0.65490196 0.56470588\n",
            "  0.61960784 0.6627451  0.46666667 0.        ]\n",
            " [0.         0.         0.00784314 0.00784314 0.00392157 0.00784314\n",
            "  0.         0.         0.         0.         0.10196078 0.42352941\n",
            "  0.45882353 0.38823529 0.43529412 0.45882353 0.53333333 0.61176471\n",
            "  0.5254902  0.60392157 0.60392157 0.61176471 0.62745098 0.55294118\n",
            "  0.57647059 0.61176471 0.69803922 0.        ]\n",
            " [0.01176471 0.         0.         0.         0.         0.\n",
            "  0.         0.08235294 0.20784314 0.36078431 0.45882353 0.43529412\n",
            "  0.40392157 0.45098039 0.50588235 0.5254902  0.56078431 0.60392157\n",
            "  0.64705882 0.66666667 0.60392157 0.59215686 0.60392157 0.56078431\n",
            "  0.54117647 0.58823529 0.64705882 0.16862745]\n",
            " [0.         0.         0.09019608 0.21176471 0.25490196 0.29803922\n",
            "  0.33333333 0.4627451  0.50196078 0.48235294 0.43529412 0.44313725\n",
            "  0.4627451  0.49803922 0.49019608 0.54509804 0.52156863 0.53333333\n",
            "  0.62745098 0.54901961 0.60784314 0.63137255 0.56470588 0.60784314\n",
            "  0.6745098  0.63137255 0.74117647 0.24313725]\n",
            " [0.         0.26666667 0.36862745 0.35294118 0.43529412 0.44705882\n",
            "  0.43529412 0.44705882 0.45098039 0.49803922 0.52941176 0.53333333\n",
            "  0.56078431 0.49411765 0.49803922 0.59215686 0.60392157 0.56078431\n",
            "  0.58039216 0.49019608 0.63529412 0.63529412 0.56470588 0.54117647\n",
            "  0.6        0.63529412 0.76862745 0.22745098]\n",
            " [0.2745098  0.6627451  0.50588235 0.40784314 0.38431373 0.39215686\n",
            "  0.36862745 0.38039216 0.38431373 0.4        0.42352941 0.41568627\n",
            "  0.46666667 0.47058824 0.50588235 0.58431373 0.61176471 0.65490196\n",
            "  0.74509804 0.74509804 0.76862745 0.77647059 0.77647059 0.73333333\n",
            "  0.77254902 0.74117647 0.72156863 0.14117647]\n",
            " [0.0627451  0.49411765 0.67058824 0.7372549  0.7372549  0.72156863\n",
            "  0.67058824 0.6        0.52941176 0.47058824 0.49411765 0.49803922\n",
            "  0.57254902 0.7254902  0.76470588 0.81960784 0.81568627 1.\n",
            "  0.81960784 0.69411765 0.96078431 0.98823529 0.98431373 0.98431373\n",
            "  0.96862745 0.8627451  0.80784314 0.19215686]\n",
            " [0.         0.         0.         0.04705882 0.2627451  0.41568627\n",
            "  0.64313725 0.7254902  0.78039216 0.82352941 0.82745098 0.82352941\n",
            "  0.81568627 0.74509804 0.58823529 0.32156863 0.03137255 0.\n",
            "  0.         0.         0.69803922 0.81568627 0.7372549  0.68627451\n",
            "  0.63529412 0.61960784 0.59215686 0.04313725]\n",
            " [0.         0.         0.         0.         0.         0.\n",
            "  0.         0.         0.         0.         0.         0.\n",
            "  0.         0.         0.         0.         0.         0.\n",
            "  0.         0.         0.         0.         0.         0.\n",
            "  0.         0.         0.         0.        ]\n",
            " [0.         0.         0.         0.         0.         0.\n",
            "  0.         0.         0.         0.         0.         0.\n",
            "  0.         0.         0.         0.         0.         0.\n",
            "  0.         0.         0.         0.         0.         0.\n",
            "  0.         0.         0.         0.        ]\n",
            " [0.         0.         0.         0.         0.         0.\n",
            "  0.         0.         0.         0.         0.         0.\n",
            "  0.         0.         0.         0.         0.         0.\n",
            "  0.         0.         0.         0.         0.         0.\n",
            "  0.         0.         0.         0.        ]\n",
            " [0.         0.         0.         0.         0.         0.\n",
            "  0.         0.         0.         0.         0.         0.\n",
            "  0.         0.         0.         0.         0.         0.\n",
            "  0.         0.         0.         0.         0.         0.\n",
            "  0.         0.         0.         0.        ]\n",
            " [0.         0.         0.         0.         0.         0.\n",
            "  0.         0.         0.         0.         0.         0.\n",
            "  0.         0.         0.         0.         0.         0.\n",
            "  0.         0.         0.         0.         0.         0.\n",
            "  0.         0.         0.         0.        ]\n",
            " [0.         0.         0.         0.         0.         0.\n",
            "  0.         0.         0.         0.         0.         0.\n",
            "  0.         0.         0.         0.         0.         0.\n",
            "  0.         0.         0.         0.         0.         0.\n",
            "  0.         0.         0.         0.        ]]\n"
          ],
          "name": "stdout"
        }
      ]
    },
    {
      "cell_type": "code",
      "metadata": {
        "id": "5xVCoIwiTo7R",
        "colab_type": "code",
        "outputId": "6e446834-1fd1-47bf-eacc-c97e9eee21e3",
        "colab": {
          "base_uri": "https://localhost:8080/",
          "height": 52
        }
      },
      "source": [
        "print(x_test[0].shape)\n",
        "print(x_test[0].size)"
      ],
      "execution_count": 32,
      "outputs": [
        {
          "output_type": "stream",
          "text": [
            "(28, 28)\n",
            "784\n"
          ],
          "name": "stdout"
        }
      ]
    },
    {
      "cell_type": "markdown",
      "metadata": {
        "id": "zaEWKFyvwmMm",
        "colab_type": "text"
      },
      "source": [
        "Muestra como 0 el blanco y entre 0 y 1 la composición de la imagen\n",
        "Cada ejemplo del dataset tiene dimensiones (28, 28) dando un total de 784 pixeles\n",
        "\n",
        "En la variable 'y' se muestra la categoría a la que pertenece cada imágen con un total de 10 categorías"
      ]
    },
    {
      "cell_type": "markdown",
      "metadata": {
        "id": "HPNa3nH0wmMn",
        "colab_type": "text"
      },
      "source": [
        "Vamos a **visualizar** una imagen de ejemplo. Prueba tu mismo a cambiar la imagen en uso para explorar el dataset visualmente ejecutando el siguiente código:"
      ]
    },
    {
      "cell_type": "code",
      "metadata": {
        "id": "WlQx9uk3wmMn",
        "colab_type": "code",
        "colab": {}
      },
      "source": [
        "def visualize_example(x):\n",
        "    plt.figure()\n",
        "    plt.imshow(x)\n",
        "    plt.colorbar()\n",
        "    plt.grid(False)\n",
        "    plt.show()"
      ],
      "execution_count": 0,
      "outputs": []
    },
    {
      "cell_type": "code",
      "metadata": {
        "id": "YTHt4fd2wmMp",
        "colab_type": "code",
        "outputId": "2dcb1ccd-22a7-4e85-9241-a9ea151d9aca",
        "colab": {
          "base_uri": "https://localhost:8080/",
          "height": 269
        }
      },
      "source": [
        "visualize_example(x_train[0])"
      ],
      "execution_count": 34,
      "outputs": [
        {
          "output_type": "display_data",
          "data": {
            "image/png": "[encoded data removed]",
            "text/plain": [
              "<Figure size 432x288 with 2 Axes>"
            ]
          },
          "metadata": {
            "tags": [],
            "needs_background": "light"
          }
        }
      ]
    },
    {
      "cell_type": "markdown",
      "metadata": {
        "id": "USVefNOIwmMt",
        "colab_type": "text"
      },
      "source": [
        "## 2. Entrenamiento de una red neuronal simple"
      ]
    },
    {
      "cell_type": "markdown",
      "metadata": {
        "id": "sSWjUeOdwmMt",
        "colab_type": "text"
      },
      "source": [
        "**Pregunta 2 *(3.5 puntos)***. Utilizando Keras, y preparando los datos de X e y como fuera necesario, define y entrena una red neuronal que sea capaz de clasificar imágenes de Fashion MNIST con las siguientes características:\n",
        "\n",
        "* Dos hidden layers de tamaños 128 y 64, utilizando unidades **sigmoid**\n",
        "* Optimizador **sgd**.\n",
        "* Durante el entrenamiento, la red tiene que mostrar resultados de **loss** y **accuracy** por cada epoch.\n",
        "* La red debe entrenar durante **20 epochs** y batch size de **64**.\n",
        "* La última capa debe de ser una capa **softmax**.\n",
        "\n",
        "Tu red tendría que ser capaz de superar fácilmente 60% de accuracy."
      ]
    },
    {
      "cell_type": "markdown",
      "metadata": {
        "id": "203TDqdWU4Mx",
        "colab_type": "text"
      },
      "source": [
        "### Preprocesamiento de datos\n",
        "Cambiamos la forma de las entradas de imágenes de 28x28 a un vector de 784 elementos"
      ]
    },
    {
      "cell_type": "code",
      "metadata": {
        "id": "mWbhRU3-U3MU",
        "colab_type": "code",
        "colab": {}
      },
      "source": [
        "X_test = np.reshape(x_test,(10000,784))\n",
        "X_train = np.reshape(x_train,(60000,784))"
      ],
      "execution_count": 0,
      "outputs": []
    },
    {
      "cell_type": "markdown",
      "metadata": {
        "id": "Rg55-3K3VCpU",
        "colab_type": "text"
      },
      "source": [
        "Dado que las variables en y representan categorías, es necesario codificarlas para que el modelo con las considere como más o menos relevantes por su numero"
      ]
    },
    {
      "cell_type": "code",
      "metadata": {
        "id": "2sV5tlAtVH8N",
        "colab_type": "code",
        "colab": {}
      },
      "source": [
        "from sklearn.preprocessing import OneHotEncoder\n",
        "onehotencoder_y = OneHotEncoder()\n",
        "y_train = onehotencoder_y.fit_transform(y_train.reshape(-1,1)).toarray()\n",
        "y_test = onehotencoder_y.transform(y_test.reshape(-1,1)).toarray()"
      ],
      "execution_count": 0,
      "outputs": []
    },
    {
      "cell_type": "markdown",
      "metadata": {
        "id": "NRtr_1eKVpEJ",
        "colab_type": "text"
      },
      "source": [
        "### Crear el clasificador"
      ]
    },
    {
      "cell_type": "markdown",
      "metadata": {
        "id": "NBMFvR8mVtu8",
        "colab_type": "text"
      },
      "source": [
        "#### Crear la arquitectura de la red"
      ]
    },
    {
      "cell_type": "code",
      "metadata": {
        "id": "cCh7qRMTwmMt",
        "colab_type": "code",
        "colab": {}
      },
      "source": [
        "#Inicializar la red\n",
        "classifier = Sequential()\n",
        "\n",
        "#Capa inicial y primera capa oculta de 128 nodos\n",
        "classifier.add(Dense(128, input_shape=(784,), activation = 'sigmoid'))\n",
        "\n",
        "#Segunda capa oculta de 64 nodos\n",
        "classifier.add(Dense(64, activation = 'sigmoid'))\n",
        "\n",
        "#Capa de salida\n",
        "classifier.add(Dense(10, activation = 'softmax'))"
      ],
      "execution_count": 0,
      "outputs": []
    },
    {
      "cell_type": "markdown",
      "metadata": {
        "id": "NtIo7FdMVz2H",
        "colab_type": "text"
      },
      "source": [
        "#### Compilar la red utilizando SGD y entrenar la red neuronal"
      ]
    },
    {
      "cell_type": "code",
      "metadata": {
        "id": "7dM0I7g7VzOw",
        "colab_type": "code",
        "outputId": "6e361663-2f29-4284-f72a-069d37dfb855",
        "colab": {
          "base_uri": "https://localhost:8080/",
          "height": 745
        }
      },
      "source": [
        "#Compilar la red y utilizar SGD\n",
        "classifier.compile(optimizer = 'SGD', loss = 'categorical_crossentropy', metrics = ['accuracy'])\n",
        "\n",
        "#Entrenar la red neuronal\n",
        "classifier.fit(X_train, y_train, \n",
        "               batch_size = 64, \n",
        "               epochs = 20, \n",
        "               verbose = 2,\n",
        "               validation_data = (X_test, y_test))"
      ],
      "execution_count": 38,
      "outputs": [
        {
          "output_type": "stream",
          "text": [
            "Train on 60000 samples, validate on 10000 samples\n",
            "Epoch 1/20\n",
            " - 3s - loss: 2.1929 - accuracy: 0.3684 - val_loss: 2.0397 - val_accuracy: 0.4962\n",
            "Epoch 2/20\n",
            " - 2s - loss: 1.8045 - accuracy: 0.5321 - val_loss: 1.5728 - val_accuracy: 0.5580\n",
            "Epoch 3/20\n",
            " - 2s - loss: 1.4118 - accuracy: 0.5934 - val_loss: 1.2905 - val_accuracy: 0.6061\n",
            "Epoch 4/20\n",
            " - 2s - loss: 1.1991 - accuracy: 0.6311 - val_loss: 1.1301 - val_accuracy: 0.6413\n",
            "Epoch 5/20\n",
            " - 2s - loss: 1.0635 - accuracy: 0.6596 - val_loss: 1.0184 - val_accuracy: 0.6679\n",
            "Epoch 6/20\n",
            " - 2s - loss: 0.9652 - accuracy: 0.6866 - val_loss: 0.9339 - val_accuracy: 0.6977\n",
            "Epoch 7/20\n",
            " - 2s - loss: 0.8889 - accuracy: 0.7109 - val_loss: 0.8669 - val_accuracy: 0.7096\n",
            "Epoch 8/20\n",
            " - 2s - loss: 0.8273 - accuracy: 0.7254 - val_loss: 0.8130 - val_accuracy: 0.7220\n",
            "Epoch 9/20\n",
            " - 2s - loss: 0.7777 - accuracy: 0.7361 - val_loss: 0.7699 - val_accuracy: 0.7327\n",
            "Epoch 10/20\n",
            " - 2s - loss: 0.7383 - accuracy: 0.7432 - val_loss: 0.7364 - val_accuracy: 0.7381\n",
            "Epoch 11/20\n",
            " - 2s - loss: 0.7073 - accuracy: 0.7484 - val_loss: 0.7109 - val_accuracy: 0.7425\n",
            "Epoch 12/20\n",
            " - 2s - loss: 0.6827 - accuracy: 0.7534 - val_loss: 0.6888 - val_accuracy: 0.7530\n",
            "Epoch 13/20\n",
            " - 2s - loss: 0.6623 - accuracy: 0.7587 - val_loss: 0.6709 - val_accuracy: 0.7519\n",
            "Epoch 14/20\n",
            " - 3s - loss: 0.6453 - accuracy: 0.7630 - val_loss: 0.6555 - val_accuracy: 0.7610\n",
            "Epoch 15/20\n",
            " - 2s - loss: 0.6305 - accuracy: 0.7678 - val_loss: 0.6420 - val_accuracy: 0.7653\n",
            "Epoch 16/20\n",
            " - 2s - loss: 0.6172 - accuracy: 0.7728 - val_loss: 0.6306 - val_accuracy: 0.7671\n",
            "Epoch 17/20\n",
            " - 2s - loss: 0.6053 - accuracy: 0.7776 - val_loss: 0.6190 - val_accuracy: 0.7734\n",
            "Epoch 18/20\n",
            " - 2s - loss: 0.5943 - accuracy: 0.7829 - val_loss: 0.6088 - val_accuracy: 0.7765\n",
            "Epoch 19/20\n",
            " - 2s - loss: 0.5840 - accuracy: 0.7866 - val_loss: 0.5998 - val_accuracy: 0.7815\n",
            "Epoch 20/20\n",
            " - 2s - loss: 0.5742 - accuracy: 0.7914 - val_loss: 0.5910 - val_accuracy: 0.7847\n"
          ],
          "name": "stdout"
        },
        {
          "output_type": "execute_result",
          "data": {
            "text/plain": [
              "<keras.callbacks.callbacks.History at 0x7f69b06aefd0>"
            ]
          },
          "metadata": {
            "tags": []
          },
          "execution_count": 38
        }
      ]
    },
    {
      "cell_type": "markdown",
      "metadata": {
        "id": "CZux6TmvwmMv",
        "colab_type": "text"
      },
      "source": [
        "## 3. Evaluación del modelo en datos de test"
      ]
    },
    {
      "cell_type": "markdown",
      "metadata": {
        "id": "0SzHBkzrwmMw",
        "colab_type": "text"
      },
      "source": [
        "Una vez hemos entrenado nuestro modelo, vamos a evaluarlo en los datos de test de Fashion MNIST.\n",
        "\n",
        "**Pregunta 3.1 *(0.5 puntos)***. Utilizando el modelo recién entrenado, obtener la accuracy resultante en el dataset de test."
      ]
    },
    {
      "cell_type": "code",
      "metadata": {
        "id": "9CSLZkW1wmMw",
        "colab_type": "code",
        "outputId": "5f4509c0-2ff5-4954-fdce-83ee64eb7f11",
        "colab": {
          "base_uri": "https://localhost:8080/",
          "height": 139
        }
      },
      "source": [
        "score = classifier.evaluate(X_test, y_test, verbose = 1)\n",
        "print(\"El accuracy en el dataset de test es: \", score[1])\n",
        "print(\"El loss en el dataset de test es: \", score[0])\n",
        "\n",
        "y_pred = classifier.predict(X_test)\n",
        "print(\"El array de predicción se ve de la forma\")\n",
        "print(y_pred[0])\n",
        "print(\"Expresa la probabilidad de que pertenezca a una u otra categoría\")"
      ],
      "execution_count": 39,
      "outputs": [
        {
          "output_type": "stream",
          "text": [
            "10000/10000 [==============================] - 0s 28us/step\n",
            "El accuracy en el dataset de test es:  0.7846999764442444\n",
            "El loss en el dataset de test es:  0.5910268287658691\n",
            "El array de predicción se ve de la forma\n",
            "[4.0883482e-05 7.1673960e-05 1.3206666e-04 7.9160236e-04 4.1865543e-04\n",
            " 1.4460510e-01 1.9132532e-04 2.2572343e-01 1.1513260e-02 6.1651206e-01]\n",
            "Expresa la probabilidad de que pertenezca a una u otra categoría\n"
          ],
          "name": "stdout"
        }
      ]
    },
    {
      "cell_type": "markdown",
      "metadata": {
        "id": "ud0JCcZpwmMx",
        "colab_type": "text"
      },
      "source": [
        "**Pregunta 3.2 *(0.5 puntos)***. Utilizando el método **predict** de Keras, realizar predicciones para los datos de test. Por cada predicción resultante, ¿qué significan los números que obtenemos al hacer predict? ¿Cómo podemos obtener el valor de la clase resultante? (recordar que estamos utilizando una capa softmax para clasificar)."
      ]
    },
    {
      "cell_type": "code",
      "metadata": {
        "id": "0wrXVJJ9wmMy",
        "colab_type": "code",
        "outputId": "5ef3d25b-c84f-4eda-89c8-816d2c7ca18e",
        "colab": {
          "base_uri": "https://localhost:8080/",
          "height": 470
        }
      },
      "source": [
        "from mlxtend.evaluate import confusion_matrix\n",
        "from mlxtend.plotting import plot_confusion_matrix\n",
        "\n",
        "#para obtener a qué categoría pertenece cada dato se utiliza la función argmax\n",
        "print(\"El dato de prueba 0 es: \", np.argmax(y_test[0]), \" y el dato predicho es: \", np.argmax(y_pred[0]))\n",
        "\n",
        "#devolver al las categorías originales la variable 'y'\n",
        "y_pred = onehotencoder_y.inverse_transform(y_pred)\n",
        "y_test = onehotencoder_y.inverse_transform(y_test)\n",
        "\n",
        "cm = confusion_matrix(y_test, y_pred)\n",
        "print(cm)\n",
        "\n",
        "fig, ax = plot_confusion_matrix(conf_mat = cm)\n",
        "plt.show()"
      ],
      "execution_count": 40,
      "outputs": [
        {
          "output_type": "stream",
          "text": [
            "El dato de prueba 0 es:  9  y el dato predicho es:  9\n",
            "[[795   7   7  90   5   4  71   0  21   0]\n",
            " [  3 928  14  46   5   0   3   0   1   0]\n",
            " [ 18   2 581  11 208   1 167   0  12   0]\n",
            " [ 55  11   2 828  29   1  68   0   6   0]\n",
            " [  0   2 120  41 748   0  81   0   8   0]\n",
            " [  0   0   0   1   0 868   0  73   7  51]\n",
            " [214   2 116  61 195   2 375   0  35   0]\n",
            " [  0   0   0   0   0  56   0 858   0  86]\n",
            " [  5   1   8   9   2  14  24   5 931   1]\n",
            " [  0   0   0   0   0  19   0  45   1 935]]\n"
          ],
          "name": "stdout"
        },
        {
          "output_type": "display_data",
          "data": {
            "image/png": "[encoded data removed]",
            "text/plain": [
              "<Figure size 432x288 with 1 Axes>"
            ]
          },
          "metadata": {
            "tags": [],
            "needs_background": "light"
          }
        }
      ]
    },
    {
      "cell_type": "markdown",
      "metadata": {
        "id": "fZynBpMBwmM2",
        "colab_type": "text"
      },
      "source": [
        "Los números que obtenemos al hacerl el predict representan la probabilidad de que el ejemplo pertenezca a alguna categoría\n",
        "\n",
        "El valor resultante de cada clase se puede obtener con *argmax* aplicado a cada uno de los elementos del array o aplicando el decodificador *one_hot* con la información de codificación de los datos"
      ]
    }
  ]
}