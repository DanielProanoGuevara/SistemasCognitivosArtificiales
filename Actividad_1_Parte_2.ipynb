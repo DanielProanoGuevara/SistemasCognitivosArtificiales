{
  "nbformat": 4,
  "nbformat_minor": 0,
  "metadata": {
    "kernelspec": {
      "display_name": "Python 3",
      "language": "python",
      "name": "python3"
    },
    "language_info": {
      "codemirror_mode": {
        "name": "ipython",
        "version": 3
      },
      "file_extension": ".py",
      "mimetype": "text/x-python",
      "name": "python",
      "nbconvert_exporter": "python",
      "pygments_lexer": "ipython3",
      "version": "3.5.2"
    },
    "colab": {
      "name": "Actividad_1_Parte_2.ipynb",
      "provenance": [],
      "collapsed_sections": [],
      "include_colab_link": true
    }
  },
  "cells": [
    {
      "cell_type": "markdown",
      "metadata": {
        "id": "view-in-github",
        "colab_type": "text"
      },
      "source": [
        "<a href=\"https://colab.research.google.com/github/DanielProanoGuevara/SistemasCognitivosArtificiales/blob/master/Actividad_1_Parte_2.ipynb\" target=\"_parent\"><img src=\"https://colab.research.google.com/assets/colab-badge.svg\" alt=\"Open In Colab\"/></a>"
      ]
    },
    {
      "cell_type": "markdown",
      "metadata": {
        "id": "4ip9ysnsTFqJ",
        "colab_type": "text"
      },
      "source": [
        "# Segunda parte: Aspectos prácticos de las redes neuronales\n",
        "\n",
        "En esta segunda parte, vamos a continuar desarrollando el problema de Fashion MNIST, con el objetivo de entender los aspectos prácticos del entrenamiento de redes neuronales que hemos visto en el Tema 4.\n",
        "\n",
        "El código utilizado para contestar tiene que quedar claramente reflejado en el Notebook. Puedes crear nuevas cells si así lo deseas para estructurar tu código y sus salidas. A la hora de entregar el notebook, **asegúrate de que los resultados de ejecutar tu código han quedado guardados**. "
      ]
    },
    {
      "cell_type": "code",
      "metadata": {
        "id": "yQ1DOKSRTFqK",
        "colab_type": "code",
        "colab": {
          "base_uri": "https://localhost:8080/",
          "height": 35
        },
        "outputId": "7341be2e-3bd0-4df0-f9b2-bd39549552b6"
      },
      "source": [
        "# Puedes añadir todos los imports adicionales que necesites aquí\n",
        "import keras\n",
        "from keras.datasets import fashion_mnist\n",
        "from keras.models import Sequential\n",
        "from keras.layers import Dense, Dropout\n",
        "import tensorflow as tf\n",
        "\n",
        "import matplotlib\n",
        "import matplotlib.pyplot as plt\n",
        "import numpy as np"
      ],
      "execution_count": 1,
      "outputs": [
        {
          "output_type": "stream",
          "text": [
            "Using TensorFlow backend.\n"
          ],
          "name": "stderr"
        }
      ]
    },
    {
      "cell_type": "markdown",
      "metadata": {
        "id": "lBY7qt3mTFqM",
        "colab_type": "text"
      },
      "source": [
        "#### Obtención de los datos y pre-processing"
      ]
    },
    {
      "cell_type": "code",
      "metadata": {
        "id": "PImY4g9yTFqM",
        "colab_type": "code",
        "colab": {
          "base_uri": "https://localhost:8080/",
          "height": 156
        },
        "outputId": "34c8e8dd-ee12-4353-fb3a-99d544252ddb"
      },
      "source": [
        "(x_train, y_train), (x_test, y_test) = fashion_mnist.load_data()\n",
        "x_train = x_train / 255.0\n",
        "x_test = x_test / 255.0\n",
        "\n",
        "### Preprocesamiento de datos\n",
        "#Cambiamos la forma de las entradas de imágenes de 28x28 a un vector de 784 elementos\n",
        "X_test = np.reshape(x_test,(10000,784))\n",
        "X_train = np.reshape(x_train,(60000,784))\n",
        "\n",
        "#Dado que las variables en y representan categorías, es necesario codificarlas para que \n",
        "#el modelo con las considere como más o menos relevantes por su numero\n",
        "from sklearn.preprocessing import OneHotEncoder\n",
        "onehotencoder_y = OneHotEncoder()\n",
        "y_train = onehotencoder_y.fit_transform(y_train.reshape(-1,1)).toarray()\n",
        "y_test = onehotencoder_y.transform(y_test.reshape(-1,1)).toarray()"
      ],
      "execution_count": 2,
      "outputs": [
        {
          "output_type": "stream",
          "text": [
            "Downloading data from http://fashion-mnist.s3-website.eu-central-1.amazonaws.com/train-labels-idx1-ubyte.gz\n",
            "32768/29515 [=================================] - 0s 3us/step\n",
            "Downloading data from http://fashion-mnist.s3-website.eu-central-1.amazonaws.com/train-images-idx3-ubyte.gz\n",
            "26427392/26421880 [==============================] - 2s 0us/step\n",
            "Downloading data from http://fashion-mnist.s3-website.eu-central-1.amazonaws.com/t10k-labels-idx1-ubyte.gz\n",
            "8192/5148 [===============================================] - 0s 0us/step\n",
            "Downloading data from http://fashion-mnist.s3-website.eu-central-1.amazonaws.com/t10k-images-idx3-ubyte.gz\n",
            "4423680/4422102 [==============================] - 1s 0us/step\n"
          ],
          "name": "stdout"
        }
      ]
    },
    {
      "cell_type": "markdown",
      "metadata": {
        "id": "zJyX2Bk8TFqO",
        "colab_type": "text"
      },
      "source": [
        "## Consideraciones iniciales"
      ]
    },
    {
      "cell_type": "markdown",
      "metadata": {
        "id": "jRmct5ogTFqO",
        "colab_type": "text"
      },
      "source": [
        "### Train-validation-test split\n",
        "\n",
        "En todos los modelos que entrenemos, vamos a partir los datos de training (x_train) en dos sets: training y validación. De este modo, al final tendremos tres datasets distintos: training, validation, y test. Esta es una estrategia común en el aprendizaje automático, en la que los datos de test (o held-out data) se \n",
        "\"esconden\" hasta el final. Los datos de validación se utilizan para estimar cómo de bien están funcionando nuestros modelos y para observar si estamos cayendo en overfitting. Esto nos permite cambiar hiperparámetros y probar distintas arquitecturas **sabiendo que no estamos utilizando información del test set para \"optimizar\" los resultados en éste** (si eligiéramos nuestro mejor modelo en base a los resultados de test, estaríamos \"haciendo trampas\", ya que se ha utilizado la información contenida en éste para elegir el modelo y las métricas reportadas serían optimistas).\n",
        "\n",
        "Para utilizar un split training-validation data durante el entrenamiento, podemos partir nosotros mismos los datos o dejar que Keras lo haga. Podéis ver cómo hacer estas particiones en la documentación de *fit*.\n",
        "\n",
        "**Requisito: En todos los entrenamientos de esta práctica, se requiere utilizar el 20% de los datos en x_train como  conjunto de datos de validación**"
      ]
    },
    {
      "cell_type": "markdown",
      "metadata": {
        "id": "BttR0CzHTFqP",
        "colab_type": "text"
      },
      "source": [
        "### Un error común con modelos de Keras\n",
        "\n",
        "En esta práctica entrenaremos varios modelos para comparar resultados. Un error común en Keras es no instanciar un nuevo modelo cada vez que hacemos un nuevo entrenamiento. Al hacer\n",
        "\n",
        "*model = Sequential()*\n",
        "\n",
        "*model.add(lo que sea)  # Definición del modelo*\n",
        "\n",
        "*model.fit()*\n",
        "\n",
        "si queremos entrenar un nuevo modelo o el mismo modelo otra vez, es necesario volver a inicializar el modelo con model = Sequential(). Si olvidamos este paso y volvemos a hacer fit(), el modelo seguirá entrenando por donde se quedó en el último fit()."
      ]
    },
    {
      "cell_type": "markdown",
      "metadata": {
        "id": "X7REMbqlTFqP",
        "colab_type": "text"
      },
      "source": [
        "### Análisis de resultados \n",
        "\n",
        "A la hora de escribir las respuestas y los análisis pedidos, es importante presentar las conclusiones de manera adecuada a partir de lo visto en nuestros experimentos. Los Jupyter Notebook son una herramienta imprescindible para *data scientists* e ingenieros de Machine Learning para presentar los resultados, incluyendo soporte para incluir gráficas y elementos visuales. Podéis explicar vuestras observaciones del modo que consideréis adecuado, si bien recomendamos la utilización de gráficas para evaluar los entrenamientos y comparar resultados.\n",
        "\n",
        "Como ayuda, las siguientes funciones pueden resultar interesantes a la hora de evaluar resultados. Todas ellas utilizan el objeto *history* que podéis obtener como salida del método *fit()* de Keras:\n",
        "\n",
        "history = model.fit(x_train, y_train, ...)\n",
        "\n",
        "Por supuesto, podéis modificarlas y utilizarlas como prefiráis para crear vuestros propios informes."
      ]
    },
    {
      "cell_type": "code",
      "metadata": {
        "id": "L5epQBRpTFqP",
        "colab_type": "code",
        "colab": {}
      },
      "source": [
        "def plot_acc(history, title=\"Model Accuracy\"):\n",
        "    \"\"\"Imprime una gráfica mostrando la accuracy por epoch obtenida en un entrenamiento\"\"\"\n",
        "    plt.plot(history.history['acc'])\n",
        "    plt.plot(history.history['val_acc'])\n",
        "    plt.title(title)\n",
        "    plt.ylabel('Accuracy')\n",
        "    plt.xlabel('Epoch')\n",
        "    plt.legend(['Train', 'Val'], loc='upper left')\n",
        "    plt.show()\n",
        "    \n",
        "def plot_loss(history, title=\"Model Loss\"):\n",
        "    \"\"\"Imprime una gráfica mostrando la pérdida por epoch obtenida en un entrenamiento\"\"\"\n",
        "    plt.plot(history.history['loss'])\n",
        "    plt.plot(history.history['val_loss'])\n",
        "    plt.title(title)\n",
        "    plt.ylabel('Loss')\n",
        "    plt.xlabel('Epoch')\n",
        "    plt.legend(['Train', 'Val'], loc='upper right')\n",
        "    plt.show()\n",
        "    \n",
        "def plot_compare_losses(history1, history2, history3, name1=\"Red 1\",\n",
        "                        name2=\"Red 2\", name3=\"Red 3\", title=\"Graph title\"):\n",
        "    \"\"\"Compara losses de dos entrenamientos con nombres name1, name2 y name3\"\"\"\n",
        "    plt.plot(history1.history['loss'], color=\"green\")\n",
        "    plt.plot(history1.history['val_loss'], 'r--', color=\"green\")\n",
        "    plt.plot(history2.history['loss'], color=\"blue\")\n",
        "    plt.plot(history2.history['val_loss'], 'r--', color=\"blue\")\n",
        "    plt.plot(history3.history['loss'], color=\"red\")\n",
        "    plt.plot(history3.history['val_loss'], 'r--', color=\"red\")\n",
        "    plt.title(title)\n",
        "    plt.ylabel('Loss')\n",
        "    plt.xlabel('Epoch')\n",
        "    plt.legend(['Train ' + name1, 'Val ' + name1, \n",
        "                'Train ' + name2, 'Val ' + name2,\n",
        "                'Train ' + name3, 'Val ' + name3],\n",
        "               loc='upper right')\n",
        "    plt.show()\n",
        "    \n",
        "    \n",
        "def plot_compare_accs(history1, history2, history3, name1=\"Red 1\",\n",
        "                      name2=\"Red 2\", name3=\"Red 3\", title=\"Graph title\"):\n",
        "    \"\"\"Compara accuracies de dos entrenamientos con nombres name1, name2 y name3\"\"\"\n",
        "    plt.plot(history1.history['acc'], color=\"green\")\n",
        "    plt.plot(history1.history['val_acc'], 'r--', color=\"green\")\n",
        "    plt.plot(history2.history['acc'], color=\"blue\")\n",
        "    plt.plot(history2.history['val_acc'], 'r--', color=\"blue\")\n",
        "    plt.plot(history3.history['loss'], color=\"red\")\n",
        "    plt.plot(history3.history['val_loss'], 'r--', color=\"red\")\n",
        "    plt.title(title)\n",
        "    plt.ylabel('Accuracy')\n",
        "    plt.xlabel('Epoch')\n",
        "    plt.legend(['Train ' + name1, 'Val ' + name1, \n",
        "                'Train ' + name2, 'Val ' + name2,\n",
        "                'Train ' + name3, 'Val ' + name3], \n",
        "               loc='lower right')\n",
        "    plt.show()\n",
        "\n",
        "def plot_compare_losses2(history1, history2, name1=\"Red 1\",\n",
        "                        name2=\"Red 2\", title=\"Graph title\"):\n",
        "    \"\"\"Compara losses de dos entrenamientos con nombres name1 y name2\"\"\"\n",
        "    plt.plot(history1.history['loss'], color=\"green\")\n",
        "    plt.plot(history1.history['val_loss'], 'r--', color=\"green\")\n",
        "    plt.plot(history2.history['loss'], color=\"blue\")\n",
        "    plt.plot(history2.history['val_loss'], 'r--', color=\"blue\")\n",
        "    plt.title(title)\n",
        "    plt.ylabel('Loss')\n",
        "    plt.xlabel('Epoch')\n",
        "    plt.legend(['Train ' + name1, 'Val ' + name1, \n",
        "                'Train ' + name2, 'Val ' + name2],\n",
        "               loc='upper right')\n",
        "    plt.show()\n",
        "    \n",
        "def plot_compare_accs2(history1, history2, name1=\"Red 1\",\n",
        "                      name2=\"Red 2\", title=\"Graph title\"):\n",
        "    \"\"\"Compara accuracies de dos entrenamientos con nombres name1 y name2\"\"\"\n",
        "    plt.plot(history1.history['acc'], color=\"green\")\n",
        "    plt.plot(history1.history['val_acc'], 'r--', color=\"green\")\n",
        "    plt.plot(history2.history['acc'], color=\"blue\")\n",
        "    plt.plot(history2.history['val_acc'], 'r--', color=\"blue\")\n",
        "    plt.title(title)\n",
        "    plt.ylabel('Accuracy')\n",
        "    plt.xlabel('Epoch')\n",
        "    plt.legend(['Train ' + name1, 'Val ' + name1, \n",
        "                'Train ' + name2, 'Val ' + name2], \n",
        "               loc='lower right')\n",
        "    plt.show()\n",
        "    \n",
        "# Nota: podéis cambiar los números aquí presentes y ejecutar esta línea si queréis cambiar el tamaño\n",
        "# de las gráficas\n",
        "# matplotlib.rcParams['figure.figsize'] = [8, 8]\n"
      ],
      "execution_count": 0,
      "outputs": []
    },
    {
      "cell_type": "markdown",
      "metadata": {
        "id": "M_yZ9B8gTFqR",
        "colab_type": "text"
      },
      "source": [
        "## 1. Unidades de activación"
      ]
    },
    {
      "cell_type": "markdown",
      "metadata": {
        "id": "MuVNxmXSTFqR",
        "colab_type": "text"
      },
      "source": [
        "En este ejercicio, vamos a evaluar la importancia de utilizar las unidades de activación adecuadas. Como hemos visto en clase, funciones de activación como sigmoid han dejado de utilizarse en favor de otras unidades como ReLU.\n",
        "\n",
        "**Ejercicio 1 *(1.25 puntos)***: Partiendo de una red sencilla como la desarrollada en el Trabajo 1, escribir un breve análisis comparando la utilización de unidades sigmoid y ReLU (por ejemplo, se pueden comentar aspectos como velocidad de convergencia, métricas obtenidas...). Explicar por qué pueden darse estas diferencias. Opcionalmente, comparar con otras activaciones disponibles en Keras.\n",
        "\n",
        "*Pista: Usando redes más grandes se hace más sencillo apreciar las diferencias. Es mejor utilizar al menos 3 o 4 capas densas.*"
      ]
    },
    {
      "cell_type": "markdown",
      "metadata": {
        "id": "Xz_rSTsJH3lT",
        "colab_type": "text"
      },
      "source": [
        "### Clasificador Sigmoid"
      ]
    },
    {
      "cell_type": "code",
      "metadata": {
        "id": "hoYUajTuTFqS",
        "colab_type": "code",
        "colab": {
          "base_uri": "https://localhost:8080/",
          "height": 1000
        },
        "outputId": "c2ed70c6-d7fa-4ad5-807e-5926a538ac52"
      },
      "source": [
        "batch_size = 64\n",
        "epochs = 50\n",
        "### Crear el clasificador sigmoid\n",
        "NN_sig = Sequential()\n",
        "\n",
        "NN_sig.add(Dense(397, input_shape=(784,), activation = 'sigmoid'))\n",
        "NN_sig.add(Dense(128, activation = 'sigmoid'))\n",
        "NN_sig.add(Dense(128, activation = 'sigmoid'))\n",
        "NN_sig.add(Dense(64, activation = 'sigmoid'))\n",
        "NN_sig.add(Dense(10, activation = 'softmax'))\n",
        "\n",
        "NN_sig.compile(optimizer = 'SGD', \n",
        "               loss = 'categorical_crossentropy', \n",
        "               metrics = ['acc'])\n",
        "\n",
        "hist_sig = NN_sig.fit(X_train, y_train, \n",
        "                      batch_size = batch_size, \n",
        "                      epochs = epochs, \n",
        "                      verbose = 1, \n",
        "                      validation_split=0.2)\n",
        "\n",
        "acc_nn_sig = NN_sig.evaluate(X_test, y_test, verbose = 1)[1]\n",
        "\n",
        "#plt.figure()\n",
        "#plot_acc(hist_sig, title = \"Accuracy de sigmoid\")\n",
        "\n",
        "#plt.figure()\n",
        "#plot_loss(hist_sig, title = \"Loss de sigmoid\")"
      ],
      "execution_count": 4,
      "outputs": [
        {
          "output_type": "stream",
          "text": [
            "Train on 48000 samples, validate on 12000 samples\n",
            "Epoch 1/50\n",
            "48000/48000 [==============================] - 5s 113us/step - loss: 2.3093 - acc: 0.1032 - val_loss: 2.3015 - val_acc: 0.0983\n",
            "Epoch 2/50\n",
            "48000/48000 [==============================] - 5s 114us/step - loss: 2.3016 - acc: 0.1066 - val_loss: 2.3009 - val_acc: 0.1517\n",
            "Epoch 3/50\n",
            "48000/48000 [==============================] - 5s 109us/step - loss: 2.3005 - acc: 0.1107 - val_loss: 2.3000 - val_acc: 0.0995\n",
            "Epoch 4/50\n",
            "48000/48000 [==============================] - 5s 109us/step - loss: 2.2994 - acc: 0.1166 - val_loss: 2.2984 - val_acc: 0.1013\n",
            "Epoch 5/50\n",
            "48000/48000 [==============================] - 5s 102us/step - loss: 2.2979 - acc: 0.1203 - val_loss: 2.2965 - val_acc: 0.1805\n",
            "Epoch 6/50\n",
            "48000/48000 [==============================] - 5s 105us/step - loss: 2.2961 - acc: 0.1421 - val_loss: 2.2955 - val_acc: 0.1003\n",
            "Epoch 7/50\n",
            "48000/48000 [==============================] - 5s 109us/step - loss: 2.2944 - acc: 0.1514 - val_loss: 2.2931 - val_acc: 0.2436\n",
            "Epoch 8/50\n",
            "48000/48000 [==============================] - 5s 103us/step - loss: 2.2918 - acc: 0.1548 - val_loss: 2.2906 - val_acc: 0.1567\n",
            "Epoch 9/50\n",
            "48000/48000 [==============================] - 5s 102us/step - loss: 2.2890 - acc: 0.1842 - val_loss: 2.2869 - val_acc: 0.2846\n",
            "Epoch 10/50\n",
            "48000/48000 [==============================] - 5s 96us/step - loss: 2.2844 - acc: 0.1865 - val_loss: 2.2820 - val_acc: 0.1293\n",
            "Epoch 11/50\n",
            "48000/48000 [==============================] - 5s 97us/step - loss: 2.2784 - acc: 0.2378 - val_loss: 2.2742 - val_acc: 0.1308\n",
            "Epoch 12/50\n",
            "48000/48000 [==============================] - 5s 100us/step - loss: 2.2688 - acc: 0.2817 - val_loss: 2.2621 - val_acc: 0.3977\n",
            "Epoch 13/50\n",
            "48000/48000 [==============================] - 5s 112us/step - loss: 2.2529 - acc: 0.3259 - val_loss: 2.2406 - val_acc: 0.4194\n",
            "Epoch 14/50\n",
            "48000/48000 [==============================] - 5s 104us/step - loss: 2.2232 - acc: 0.3614 - val_loss: 2.1985 - val_acc: 0.3521\n",
            "Epoch 15/50\n",
            "48000/48000 [==============================] - 5s 98us/step - loss: 2.1580 - acc: 0.3741 - val_loss: 2.1010 - val_acc: 0.4065\n",
            "Epoch 16/50\n",
            "48000/48000 [==============================] - 5s 96us/step - loss: 2.0049 - acc: 0.3836 - val_loss: 1.8849 - val_acc: 0.3907\n",
            "Epoch 17/50\n",
            "48000/48000 [==============================] - 5s 97us/step - loss: 1.7607 - acc: 0.4221 - val_loss: 1.6407 - val_acc: 0.4771\n",
            "Epoch 18/50\n",
            "48000/48000 [==============================] - 5s 97us/step - loss: 1.5465 - acc: 0.4878 - val_loss: 1.4523 - val_acc: 0.4940\n",
            "Epoch 19/50\n",
            "48000/48000 [==============================] - 5s 96us/step - loss: 1.3850 - acc: 0.5244 - val_loss: 1.3165 - val_acc: 0.5467\n",
            "Epoch 20/50\n",
            "48000/48000 [==============================] - 5s 102us/step - loss: 1.2752 - acc: 0.5520 - val_loss: 1.2281 - val_acc: 0.5719\n",
            "Epoch 21/50\n",
            "48000/48000 [==============================] - 5s 100us/step - loss: 1.2023 - acc: 0.5618 - val_loss: 1.1667 - val_acc: 0.5808\n",
            "Epoch 22/50\n",
            "48000/48000 [==============================] - 5s 109us/step - loss: 1.1493 - acc: 0.5721 - val_loss: 1.1199 - val_acc: 0.5936\n",
            "Epoch 23/50\n",
            "48000/48000 [==============================] - 5s 97us/step - loss: 1.1072 - acc: 0.5823 - val_loss: 1.0812 - val_acc: 0.5844\n",
            "Epoch 24/50\n",
            "48000/48000 [==============================] - 5s 105us/step - loss: 1.0715 - acc: 0.5906 - val_loss: 1.0472 - val_acc: 0.6097\n",
            "Epoch 25/50\n",
            "48000/48000 [==============================] - 6s 120us/step - loss: 1.0398 - acc: 0.6003 - val_loss: 1.0173 - val_acc: 0.6084\n",
            "Epoch 26/50\n",
            "48000/48000 [==============================] - 6s 121us/step - loss: 1.0110 - acc: 0.6066 - val_loss: 0.9891 - val_acc: 0.6284\n",
            "Epoch 27/50\n",
            "48000/48000 [==============================] - 6s 118us/step - loss: 0.9844 - acc: 0.6162 - val_loss: 0.9655 - val_acc: 0.6283\n",
            "Epoch 28/50\n",
            "48000/48000 [==============================] - 6s 118us/step - loss: 0.9599 - acc: 0.6283 - val_loss: 0.9404 - val_acc: 0.6367\n",
            "Epoch 29/50\n",
            "48000/48000 [==============================] - 5s 114us/step - loss: 0.9377 - acc: 0.6374 - val_loss: 0.9187 - val_acc: 0.6445\n",
            "Epoch 30/50\n",
            "48000/48000 [==============================] - 6s 115us/step - loss: 0.9174 - acc: 0.6461 - val_loss: 0.9018 - val_acc: 0.6467\n",
            "Epoch 31/50\n",
            "48000/48000 [==============================] - 6s 122us/step - loss: 0.9000 - acc: 0.6558 - val_loss: 0.8847 - val_acc: 0.6593\n",
            "Epoch 32/50\n",
            "48000/48000 [==============================] - 6s 118us/step - loss: 0.8842 - acc: 0.6660 - val_loss: 0.8709 - val_acc: 0.6646\n",
            "Epoch 33/50\n",
            "48000/48000 [==============================] - 6s 120us/step - loss: 0.8704 - acc: 0.6737 - val_loss: 0.8573 - val_acc: 0.6778\n",
            "Epoch 34/50\n",
            "48000/48000 [==============================] - 6s 116us/step - loss: 0.8577 - acc: 0.6798 - val_loss: 0.8461 - val_acc: 0.6945\n",
            "Epoch 35/50\n",
            "48000/48000 [==============================] - 6s 121us/step - loss: 0.8462 - acc: 0.6870 - val_loss: 0.8345 - val_acc: 0.6946\n",
            "Epoch 36/50\n",
            "48000/48000 [==============================] - 5s 107us/step - loss: 0.8352 - acc: 0.6921 - val_loss: 0.8273 - val_acc: 0.6957\n",
            "Epoch 37/50\n",
            "48000/48000 [==============================] - 6s 120us/step - loss: 0.8250 - acc: 0.6970 - val_loss: 0.8144 - val_acc: 0.6933\n",
            "Epoch 38/50\n",
            "48000/48000 [==============================] - 6s 124us/step - loss: 0.8153 - acc: 0.7010 - val_loss: 0.8064 - val_acc: 0.7066\n",
            "Epoch 39/50\n",
            "48000/48000 [==============================] - 5s 110us/step - loss: 0.8060 - acc: 0.7067 - val_loss: 0.7964 - val_acc: 0.7148\n",
            "Epoch 40/50\n",
            "48000/48000 [==============================] - 6s 115us/step - loss: 0.7969 - acc: 0.7110 - val_loss: 0.7887 - val_acc: 0.7116\n",
            "Epoch 41/50\n",
            "48000/48000 [==============================] - 6s 119us/step - loss: 0.7883 - acc: 0.7145 - val_loss: 0.7790 - val_acc: 0.7178\n",
            "Epoch 42/50\n",
            "48000/48000 [==============================] - 6s 116us/step - loss: 0.7800 - acc: 0.7170 - val_loss: 0.7720 - val_acc: 0.7159\n",
            "Epoch 43/50\n",
            "48000/48000 [==============================] - 6s 118us/step - loss: 0.7721 - acc: 0.7214 - val_loss: 0.7647 - val_acc: 0.7206\n",
            "Epoch 44/50\n",
            "48000/48000 [==============================] - 5s 111us/step - loss: 0.7643 - acc: 0.7240 - val_loss: 0.7569 - val_acc: 0.7230\n",
            "Epoch 45/50\n",
            "48000/48000 [==============================] - 6s 123us/step - loss: 0.7569 - acc: 0.7284 - val_loss: 0.7510 - val_acc: 0.7303\n",
            "Epoch 46/50\n",
            "48000/48000 [==============================] - 6s 118us/step - loss: 0.7499 - acc: 0.7302 - val_loss: 0.7450 - val_acc: 0.7337\n",
            "Epoch 47/50\n",
            "48000/48000 [==============================] - 6s 117us/step - loss: 0.7432 - acc: 0.7328 - val_loss: 0.7368 - val_acc: 0.7324\n",
            "Epoch 48/50\n",
            "48000/48000 [==============================] - 5s 113us/step - loss: 0.7364 - acc: 0.7360 - val_loss: 0.7308 - val_acc: 0.7343\n",
            "Epoch 49/50\n",
            "48000/48000 [==============================] - 5s 110us/step - loss: 0.7301 - acc: 0.7384 - val_loss: 0.7246 - val_acc: 0.7372\n",
            "Epoch 50/50\n",
            "48000/48000 [==============================] - 5s 107us/step - loss: 0.7239 - acc: 0.7408 - val_loss: 0.7185 - val_acc: 0.7386\n",
            "10000/10000 [==============================] - 1s 56us/step\n"
          ],
          "name": "stdout"
        }
      ]
    },
    {
      "cell_type": "markdown",
      "metadata": {
        "id": "_3c-J0_UIEdW",
        "colab_type": "text"
      },
      "source": [
        "### Clasificador relu"
      ]
    },
    {
      "cell_type": "code",
      "metadata": {
        "id": "YT_Smz_YIHnv",
        "colab_type": "code",
        "colab": {
          "base_uri": "https://localhost:8080/",
          "height": 1000
        },
        "outputId": "f514735a-6b57-414c-a672-2cd7d9a24fd8"
      },
      "source": [
        "NN_relu = Sequential()\n",
        "\n",
        "NN_relu.add(Dense(397, input_shape=(784,), activation = 'relu'))\n",
        "NN_relu.add(Dense(128, activation = 'relu'))\n",
        "NN_relu.add(Dense(128, activation = 'relu'))\n",
        "NN_relu.add(Dense(64, activation = 'relu'))\n",
        "NN_relu.add(Dense(10, activation = 'softmax'))\n",
        "\n",
        "NN_relu.compile(optimizer = 'SGD', \n",
        "                loss = 'categorical_crossentropy', \n",
        "                metrics = ['acc'])\n",
        "\n",
        "hist_relu = NN_relu.fit(X_train, y_train, \n",
        "                       batch_size = batch_size, \n",
        "                       epochs = epochs, \n",
        "                       verbose = 1, \n",
        "                       validation_split=0.2)\n",
        "\n",
        "acc_nn_relu = NN_relu.evaluate(X_test, y_test, verbose = 1)[1]\n",
        "\n",
        "#plt.figure()\n",
        "#plot_acc(hist_relu, title = \"Accuracy de relu\")\n",
        "\n",
        "#plt.figure()\n",
        "#plot_loss(hist_relu, title = \"Loss de relu\")"
      ],
      "execution_count": 5,
      "outputs": [
        {
          "output_type": "stream",
          "text": [
            "Train on 48000 samples, validate on 12000 samples\n",
            "Epoch 1/50\n",
            "48000/48000 [==============================] - 6s 119us/step - loss: 1.0069 - acc: 0.6687 - val_loss: 0.6320 - val_acc: 0.7896\n",
            "Epoch 2/50\n",
            "48000/48000 [==============================] - 6s 127us/step - loss: 0.5719 - acc: 0.8041 - val_loss: 0.5462 - val_acc: 0.8000\n",
            "Epoch 3/50\n",
            "48000/48000 [==============================] - 6s 130us/step - loss: 0.4930 - acc: 0.8280 - val_loss: 0.4688 - val_acc: 0.8358\n",
            "Epoch 4/50\n",
            "48000/48000 [==============================] - 6s 135us/step - loss: 0.4526 - acc: 0.8420 - val_loss: 0.4401 - val_acc: 0.8472\n",
            "Epoch 5/50\n",
            "48000/48000 [==============================] - 6s 124us/step - loss: 0.4285 - acc: 0.8491 - val_loss: 0.4691 - val_acc: 0.8337\n",
            "Epoch 6/50\n",
            "48000/48000 [==============================] - 6s 118us/step - loss: 0.4090 - acc: 0.8557 - val_loss: 0.4206 - val_acc: 0.8506\n",
            "Epoch 7/50\n",
            "48000/48000 [==============================] - 6s 118us/step - loss: 0.3935 - acc: 0.8596 - val_loss: 0.4289 - val_acc: 0.8512\n",
            "Epoch 8/50\n",
            "48000/48000 [==============================] - 5s 110us/step - loss: 0.3804 - acc: 0.8655 - val_loss: 0.3968 - val_acc: 0.8595\n",
            "Epoch 9/50\n",
            "48000/48000 [==============================] - 5s 107us/step - loss: 0.3672 - acc: 0.8691 - val_loss: 0.3886 - val_acc: 0.8632\n",
            "Epoch 10/50\n",
            "48000/48000 [==============================] - 6s 117us/step - loss: 0.3568 - acc: 0.8723 - val_loss: 0.3740 - val_acc: 0.8698\n",
            "Epoch 11/50\n",
            "48000/48000 [==============================] - 5s 114us/step - loss: 0.3488 - acc: 0.8744 - val_loss: 0.3920 - val_acc: 0.8577\n",
            "Epoch 12/50\n",
            "48000/48000 [==============================] - 6s 122us/step - loss: 0.3389 - acc: 0.8785 - val_loss: 0.3636 - val_acc: 0.8683\n",
            "Epoch 13/50\n",
            "48000/48000 [==============================] - 5s 114us/step - loss: 0.3301 - acc: 0.8810 - val_loss: 0.3543 - val_acc: 0.8723\n",
            "Epoch 14/50\n",
            "48000/48000 [==============================] - 5s 110us/step - loss: 0.3214 - acc: 0.8842 - val_loss: 0.3874 - val_acc: 0.8641\n",
            "Epoch 15/50\n",
            "48000/48000 [==============================] - 5s 105us/step - loss: 0.3144 - acc: 0.8864 - val_loss: 0.3451 - val_acc: 0.8755\n",
            "Epoch 16/50\n",
            "48000/48000 [==============================] - 5s 105us/step - loss: 0.3077 - acc: 0.8882 - val_loss: 0.3498 - val_acc: 0.8758\n",
            "Epoch 17/50\n",
            "48000/48000 [==============================] - 5s 109us/step - loss: 0.3026 - acc: 0.8905 - val_loss: 0.3410 - val_acc: 0.8780\n",
            "Epoch 18/50\n",
            "48000/48000 [==============================] - 5s 109us/step - loss: 0.2950 - acc: 0.8920 - val_loss: 0.3361 - val_acc: 0.8793\n",
            "Epoch 19/50\n",
            "48000/48000 [==============================] - 6s 119us/step - loss: 0.2897 - acc: 0.8953 - val_loss: 0.3367 - val_acc: 0.8783\n",
            "Epoch 20/50\n",
            "48000/48000 [==============================] - 6s 122us/step - loss: 0.2836 - acc: 0.8966 - val_loss: 0.3316 - val_acc: 0.8794\n",
            "Epoch 21/50\n",
            "48000/48000 [==============================] - 6s 121us/step - loss: 0.2789 - acc: 0.8988 - val_loss: 0.3378 - val_acc: 0.8808\n",
            "Epoch 22/50\n",
            "48000/48000 [==============================] - 5s 114us/step - loss: 0.2733 - acc: 0.9010 - val_loss: 0.3474 - val_acc: 0.8764\n",
            "Epoch 23/50\n",
            "48000/48000 [==============================] - 5s 107us/step - loss: 0.2679 - acc: 0.9011 - val_loss: 0.3391 - val_acc: 0.8786\n",
            "Epoch 24/50\n",
            "48000/48000 [==============================] - 5s 108us/step - loss: 0.2643 - acc: 0.9036 - val_loss: 0.3325 - val_acc: 0.8805\n",
            "Epoch 25/50\n",
            "48000/48000 [==============================] - 5s 104us/step - loss: 0.2586 - acc: 0.9060 - val_loss: 0.3207 - val_acc: 0.8851\n",
            "Epoch 26/50\n",
            "48000/48000 [==============================] - 5s 106us/step - loss: 0.2544 - acc: 0.9070 - val_loss: 0.3309 - val_acc: 0.8819\n",
            "Epoch 27/50\n",
            "48000/48000 [==============================] - 5s 105us/step - loss: 0.2492 - acc: 0.9090 - val_loss: 0.3223 - val_acc: 0.8832\n",
            "Epoch 28/50\n",
            "48000/48000 [==============================] - 5s 105us/step - loss: 0.2464 - acc: 0.9101 - val_loss: 0.3271 - val_acc: 0.8817\n",
            "Epoch 29/50\n",
            "48000/48000 [==============================] - 5s 106us/step - loss: 0.2407 - acc: 0.9131 - val_loss: 0.3264 - val_acc: 0.8842\n",
            "Epoch 30/50\n",
            "48000/48000 [==============================] - 5s 111us/step - loss: 0.2379 - acc: 0.9128 - val_loss: 0.3272 - val_acc: 0.8827\n",
            "Epoch 31/50\n",
            "48000/48000 [==============================] - 5s 109us/step - loss: 0.2326 - acc: 0.9161 - val_loss: 0.3335 - val_acc: 0.8816\n",
            "Epoch 32/50\n",
            "48000/48000 [==============================] - 6s 117us/step - loss: 0.2283 - acc: 0.9167 - val_loss: 0.3124 - val_acc: 0.8863\n",
            "Epoch 33/50\n",
            "48000/48000 [==============================] - 5s 111us/step - loss: 0.2255 - acc: 0.9184 - val_loss: 0.3165 - val_acc: 0.8876\n",
            "Epoch 34/50\n",
            "48000/48000 [==============================] - 5s 107us/step - loss: 0.2199 - acc: 0.9205 - val_loss: 0.3211 - val_acc: 0.8869\n",
            "Epoch 35/50\n",
            "48000/48000 [==============================] - 6s 115us/step - loss: 0.2170 - acc: 0.9220 - val_loss: 0.3416 - val_acc: 0.8793\n",
            "Epoch 36/50\n",
            "48000/48000 [==============================] - 5s 114us/step - loss: 0.2131 - acc: 0.9230 - val_loss: 0.3255 - val_acc: 0.8838\n",
            "Epoch 37/50\n",
            "48000/48000 [==============================] - 5s 108us/step - loss: 0.2096 - acc: 0.9240 - val_loss: 0.3331 - val_acc: 0.8825\n",
            "Epoch 38/50\n",
            "48000/48000 [==============================] - 5s 112us/step - loss: 0.2072 - acc: 0.9249 - val_loss: 0.3180 - val_acc: 0.8879\n",
            "Epoch 39/50\n",
            "48000/48000 [==============================] - 6s 120us/step - loss: 0.2029 - acc: 0.9278 - val_loss: 0.3651 - val_acc: 0.8712\n",
            "Epoch 40/50\n",
            "48000/48000 [==============================] - 6s 120us/step - loss: 0.1986 - acc: 0.9280 - val_loss: 0.3281 - val_acc: 0.8868\n",
            "Epoch 41/50\n",
            "48000/48000 [==============================] - 6s 119us/step - loss: 0.1954 - acc: 0.9286 - val_loss: 0.3188 - val_acc: 0.8867\n",
            "Epoch 42/50\n",
            "48000/48000 [==============================] - 6s 115us/step - loss: 0.1920 - acc: 0.9295 - val_loss: 0.3277 - val_acc: 0.8848\n",
            "Epoch 43/50\n",
            "48000/48000 [==============================] - 6s 115us/step - loss: 0.1890 - acc: 0.9312 - val_loss: 0.3255 - val_acc: 0.8877\n",
            "Epoch 44/50\n",
            "48000/48000 [==============================] - 6s 120us/step - loss: 0.1848 - acc: 0.9335 - val_loss: 0.3271 - val_acc: 0.8870\n",
            "Epoch 45/50\n",
            "48000/48000 [==============================] - 5s 111us/step - loss: 0.1832 - acc: 0.9336 - val_loss: 0.3398 - val_acc: 0.8817\n",
            "Epoch 46/50\n",
            "48000/48000 [==============================] - 5s 109us/step - loss: 0.1798 - acc: 0.9351 - val_loss: 0.3323 - val_acc: 0.8857\n",
            "Epoch 47/50\n",
            "48000/48000 [==============================] - 5s 110us/step - loss: 0.1743 - acc: 0.9367 - val_loss: 0.3221 - val_acc: 0.8891\n",
            "Epoch 48/50\n",
            "48000/48000 [==============================] - 6s 115us/step - loss: 0.1724 - acc: 0.9383 - val_loss: 0.3538 - val_acc: 0.8778\n",
            "Epoch 49/50\n",
            "48000/48000 [==============================] - 6s 116us/step - loss: 0.1701 - acc: 0.9393 - val_loss: 0.3229 - val_acc: 0.8922\n",
            "Epoch 50/50\n",
            "48000/48000 [==============================] - 5s 109us/step - loss: 0.1657 - acc: 0.9407 - val_loss: 0.3274 - val_acc: 0.8887\n",
            "10000/10000 [==============================] - 1s 54us/step\n"
          ],
          "name": "stdout"
        }
      ]
    },
    {
      "cell_type": "markdown",
      "metadata": {
        "id": "eD0YUGlHIKj3",
        "colab_type": "text"
      },
      "source": [
        "### Clasificador tanh"
      ]
    },
    {
      "cell_type": "code",
      "metadata": {
        "id": "Wlz4_bBoIM3C",
        "colab_type": "code",
        "colab": {
          "base_uri": "https://localhost:8080/",
          "height": 1000
        },
        "outputId": "f8797ee7-efbe-4919-fbb7-36f411308e67"
      },
      "source": [
        "NN_tanh = Sequential()\n",
        "\n",
        "NN_tanh.add(Dense(397, input_shape=(784,), activation = 'tanh'))\n",
        "NN_tanh.add(Dense(128, activation = 'tanh'))\n",
        "NN_tanh.add(Dense(128, activation = 'tanh'))\n",
        "NN_tanh.add(Dense(64, activation = 'tanh'))\n",
        "NN_tanh.add(Dense(10, activation = 'softmax'))\n",
        "\n",
        "NN_tanh.compile(optimizer = 'SGD', \n",
        "                loss = 'categorical_crossentropy', \n",
        "                metrics = ['acc'])\n",
        "\n",
        "hist_tanh = NN_tanh.fit(X_train, y_train, \n",
        "                       batch_size = batch_size, \n",
        "                       epochs = epochs, \n",
        "                       verbose = 1, \n",
        "                       validation_split=0.2)\n",
        "\n",
        "acc_nn_tanh = NN_tanh.evaluate(X_test, y_test, verbose = 1)[1]\n",
        "\n",
        "#plt.figure()\n",
        "#plot_acc(hist_tanh, title = \"Accuracy de tanh\")\n",
        "\n",
        "#plt.figure()\n",
        "#plot_loss(hist_tanh, title = \"Loss de tanh\")"
      ],
      "execution_count": 6,
      "outputs": [
        {
          "output_type": "stream",
          "text": [
            "Train on 48000 samples, validate on 12000 samples\n",
            "Epoch 1/50\n",
            "48000/48000 [==============================] - 5s 110us/step - loss: 0.7994 - acc: 0.7460 - val_loss: 0.5607 - val_acc: 0.8074\n",
            "Epoch 2/50\n",
            "48000/48000 [==============================] - 5s 111us/step - loss: 0.5125 - acc: 0.8230 - val_loss: 0.4851 - val_acc: 0.8267\n",
            "Epoch 3/50\n",
            "48000/48000 [==============================] - 5s 112us/step - loss: 0.4598 - acc: 0.8383 - val_loss: 0.4511 - val_acc: 0.8378\n",
            "Epoch 4/50\n",
            "48000/48000 [==============================] - 5s 114us/step - loss: 0.4317 - acc: 0.8470 - val_loss: 0.4273 - val_acc: 0.8472\n",
            "Epoch 5/50\n",
            "48000/48000 [==============================] - 6s 115us/step - loss: 0.4119 - acc: 0.8535 - val_loss: 0.4220 - val_acc: 0.8493\n",
            "Epoch 6/50\n",
            "48000/48000 [==============================] - 6s 116us/step - loss: 0.3974 - acc: 0.8597 - val_loss: 0.4085 - val_acc: 0.8556\n",
            "Epoch 7/50\n",
            "48000/48000 [==============================] - 6s 122us/step - loss: 0.3866 - acc: 0.8616 - val_loss: 0.4010 - val_acc: 0.8573\n",
            "Epoch 8/50\n",
            "48000/48000 [==============================] - 5s 114us/step - loss: 0.3769 - acc: 0.8646 - val_loss: 0.3950 - val_acc: 0.8590\n",
            "Epoch 9/50\n",
            "48000/48000 [==============================] - 5s 114us/step - loss: 0.3684 - acc: 0.8695 - val_loss: 0.3843 - val_acc: 0.8605\n",
            "Epoch 10/50\n",
            "48000/48000 [==============================] - 5s 107us/step - loss: 0.3593 - acc: 0.8715 - val_loss: 0.3798 - val_acc: 0.8626\n",
            "Epoch 11/50\n",
            "48000/48000 [==============================] - 5s 105us/step - loss: 0.3532 - acc: 0.8727 - val_loss: 0.3779 - val_acc: 0.8633\n",
            "Epoch 12/50\n",
            "48000/48000 [==============================] - 5s 106us/step - loss: 0.3468 - acc: 0.8758 - val_loss: 0.3713 - val_acc: 0.8652\n",
            "Epoch 13/50\n",
            "48000/48000 [==============================] - 5s 109us/step - loss: 0.3398 - acc: 0.8783 - val_loss: 0.3802 - val_acc: 0.8632\n",
            "Epoch 14/50\n",
            "48000/48000 [==============================] - 5s 104us/step - loss: 0.3357 - acc: 0.8793 - val_loss: 0.3615 - val_acc: 0.8692\n",
            "Epoch 15/50\n",
            "48000/48000 [==============================] - 5s 102us/step - loss: 0.3288 - acc: 0.8814 - val_loss: 0.3619 - val_acc: 0.8683\n",
            "Epoch 16/50\n",
            "48000/48000 [==============================] - 5s 108us/step - loss: 0.3256 - acc: 0.8822 - val_loss: 0.3552 - val_acc: 0.8712\n",
            "Epoch 17/50\n",
            "48000/48000 [==============================] - 5s 106us/step - loss: 0.3198 - acc: 0.8853 - val_loss: 0.3554 - val_acc: 0.8717\n",
            "Epoch 18/50\n",
            "48000/48000 [==============================] - 5s 110us/step - loss: 0.3168 - acc: 0.8853 - val_loss: 0.3468 - val_acc: 0.8731\n",
            "Epoch 19/50\n",
            "48000/48000 [==============================] - 5s 107us/step - loss: 0.3107 - acc: 0.8889 - val_loss: 0.3569 - val_acc: 0.8698\n",
            "Epoch 20/50\n",
            "48000/48000 [==============================] - 5s 108us/step - loss: 0.3070 - acc: 0.8896 - val_loss: 0.3629 - val_acc: 0.8678\n",
            "Epoch 21/50\n",
            "48000/48000 [==============================] - 5s 108us/step - loss: 0.3031 - acc: 0.8897 - val_loss: 0.3793 - val_acc: 0.8583\n",
            "Epoch 22/50\n",
            "48000/48000 [==============================] - 5s 108us/step - loss: 0.2992 - acc: 0.8907 - val_loss: 0.3388 - val_acc: 0.8778\n",
            "Epoch 23/50\n",
            "48000/48000 [==============================] - 6s 116us/step - loss: 0.2954 - acc: 0.8926 - val_loss: 0.3336 - val_acc: 0.8778\n",
            "Epoch 24/50\n",
            "48000/48000 [==============================] - 6s 121us/step - loss: 0.2925 - acc: 0.8942 - val_loss: 0.3406 - val_acc: 0.8767\n",
            "Epoch 25/50\n",
            "48000/48000 [==============================] - 6s 117us/step - loss: 0.2882 - acc: 0.8954 - val_loss: 0.3313 - val_acc: 0.8811\n",
            "Epoch 26/50\n",
            "48000/48000 [==============================] - 6s 120us/step - loss: 0.2842 - acc: 0.8963 - val_loss: 0.3283 - val_acc: 0.8792\n",
            "Epoch 27/50\n",
            "48000/48000 [==============================] - 5s 110us/step - loss: 0.2810 - acc: 0.8973 - val_loss: 0.3377 - val_acc: 0.8771\n",
            "Epoch 28/50\n",
            "48000/48000 [==============================] - 6s 119us/step - loss: 0.2789 - acc: 0.8987 - val_loss: 0.3296 - val_acc: 0.8792\n",
            "Epoch 29/50\n",
            "48000/48000 [==============================] - 6s 122us/step - loss: 0.2740 - acc: 0.9014 - val_loss: 0.3429 - val_acc: 0.8718\n",
            "Epoch 30/50\n",
            "48000/48000 [==============================] - 5s 113us/step - loss: 0.2718 - acc: 0.9012 - val_loss: 0.3358 - val_acc: 0.8782\n",
            "Epoch 31/50\n",
            "48000/48000 [==============================] - 6s 121us/step - loss: 0.2672 - acc: 0.9029 - val_loss: 0.3343 - val_acc: 0.8801\n",
            "Epoch 32/50\n",
            "48000/48000 [==============================] - 5s 112us/step - loss: 0.2644 - acc: 0.9047 - val_loss: 0.3238 - val_acc: 0.8838\n",
            "Epoch 33/50\n",
            "48000/48000 [==============================] - 5s 112us/step - loss: 0.2623 - acc: 0.9048 - val_loss: 0.3195 - val_acc: 0.8835\n",
            "Epoch 34/50\n",
            "48000/48000 [==============================] - 5s 114us/step - loss: 0.2602 - acc: 0.9049 - val_loss: 0.3271 - val_acc: 0.8817\n",
            "Epoch 35/50\n",
            "48000/48000 [==============================] - 5s 107us/step - loss: 0.2567 - acc: 0.9064 - val_loss: 0.3336 - val_acc: 0.8789\n",
            "Epoch 36/50\n",
            "48000/48000 [==============================] - 5s 114us/step - loss: 0.2534 - acc: 0.9079 - val_loss: 0.3140 - val_acc: 0.8852\n",
            "Epoch 37/50\n",
            "48000/48000 [==============================] - 6s 117us/step - loss: 0.2512 - acc: 0.9086 - val_loss: 0.3439 - val_acc: 0.8742\n",
            "Epoch 38/50\n",
            "48000/48000 [==============================] - 6s 115us/step - loss: 0.2481 - acc: 0.9110 - val_loss: 0.3278 - val_acc: 0.8792\n",
            "Epoch 39/50\n",
            "48000/48000 [==============================] - 5s 114us/step - loss: 0.2462 - acc: 0.9112 - val_loss: 0.3195 - val_acc: 0.8865\n",
            "Epoch 40/50\n",
            "48000/48000 [==============================] - 6s 116us/step - loss: 0.2437 - acc: 0.9119 - val_loss: 0.3234 - val_acc: 0.8820\n",
            "Epoch 41/50\n",
            "48000/48000 [==============================] - 6s 117us/step - loss: 0.2397 - acc: 0.9139 - val_loss: 0.3128 - val_acc: 0.8880\n",
            "Epoch 42/50\n",
            "48000/48000 [==============================] - 6s 116us/step - loss: 0.2379 - acc: 0.9130 - val_loss: 0.3478 - val_acc: 0.8716\n",
            "Epoch 43/50\n",
            "48000/48000 [==============================] - 6s 116us/step - loss: 0.2360 - acc: 0.9151 - val_loss: 0.3174 - val_acc: 0.8807\n",
            "Epoch 44/50\n",
            "48000/48000 [==============================] - 5s 113us/step - loss: 0.2338 - acc: 0.9158 - val_loss: 0.3282 - val_acc: 0.8798\n",
            "Epoch 45/50\n",
            "48000/48000 [==============================] - 5s 115us/step - loss: 0.2316 - acc: 0.9158 - val_loss: 0.3234 - val_acc: 0.8836\n",
            "Epoch 46/50\n",
            "48000/48000 [==============================] - 6s 122us/step - loss: 0.2286 - acc: 0.9165 - val_loss: 0.3134 - val_acc: 0.8848\n",
            "Epoch 47/50\n",
            "48000/48000 [==============================] - 5s 112us/step - loss: 0.2261 - acc: 0.9178 - val_loss: 0.3156 - val_acc: 0.8861\n",
            "Epoch 48/50\n",
            "48000/48000 [==============================] - 5s 112us/step - loss: 0.2232 - acc: 0.9190 - val_loss: 0.3192 - val_acc: 0.8840\n",
            "Epoch 49/50\n",
            "48000/48000 [==============================] - 5s 108us/step - loss: 0.2217 - acc: 0.9210 - val_loss: 0.3139 - val_acc: 0.8856\n",
            "Epoch 50/50\n",
            "48000/48000 [==============================] - 5s 111us/step - loss: 0.2197 - acc: 0.9199 - val_loss: 0.3140 - val_acc: 0.8887\n",
            "10000/10000 [==============================] - 1s 52us/step\n"
          ],
          "name": "stdout"
        }
      ]
    },
    {
      "cell_type": "markdown",
      "metadata": {
        "id": "JlX41Vu-IPMj",
        "colab_type": "text"
      },
      "source": [
        "### Comparativa de las redes"
      ]
    },
    {
      "cell_type": "code",
      "metadata": {
        "id": "7vYmcn09IRdA",
        "colab_type": "code",
        "colab": {
          "base_uri": "https://localhost:8080/",
          "height": 295
        },
        "outputId": "d7e01950-d113-4ed5-b6bf-860940bf0e38"
      },
      "source": [
        "plot_compare_losses(hist_sig, hist_relu, hist_tanh, \n",
        "                    name1=\"Red Sigmoid\", name2=\"Red Relu\", name3=\"Red Tanh\", \n",
        "                    title = \"Comparativa de losses activaciones\")"
      ],
      "execution_count": 9,
      "outputs": [
        {
          "output_type": "display_data",
          "data": {
            "image/png": "[encoded data removed]",
            "text/plain": [
              "<Figure size 432x288 with 1 Axes>"
            ]
          },
          "metadata": {
            "tags": [],
            "needs_background": "light"
          }
        }
      ]
    },
    {
      "cell_type": "code",
      "metadata": {
        "id": "r5nGy3ZBITmd",
        "colab_type": "code",
        "colab": {
          "base_uri": "https://localhost:8080/",
          "height": 295
        },
        "outputId": "f08bd048-d06c-490a-e1ea-62243c38237c"
      },
      "source": [
        "plot_compare_accs(hist_sig, hist_relu, hist_tanh, \n",
        "                  name1=\"Red Sigmoid\", name2=\"Red Relu\", name3=\"Red Tanh\", \n",
        "                  title = \"Comparativa de accuracy activaciones\")"
      ],
      "execution_count": 10,
      "outputs": [
        {
          "output_type": "display_data",
          "data": {
            "image/png": "[encoded data removed]",
            "text/plain": [
              "<Figure size 432x288 with 1 Axes>"
            ]
          },
          "metadata": {
            "tags": [],
            "needs_background": "light"
          }
        }
      ]
    },
    {
      "cell_type": "code",
      "metadata": {
        "id": "w-fLPHTPIVsp",
        "colab_type": "code",
        "colab": {
          "base_uri": "https://localhost:8080/",
          "height": 87
        },
        "outputId": "60f2ceca-88c5-4720-848d-9001461ec4fb"
      },
      "source": [
        "print(\"Las comparativas de accuracy con el dataset de test es:\\n\", \n",
        "      acc_nn_sig, \"para Sigmoid\\n\", \n",
        "      acc_nn_relu, \"para Relu\\n\",\n",
        "      acc_nn_tanh, \"para Tanh\")"
      ],
      "execution_count": 11,
      "outputs": [
        {
          "output_type": "stream",
          "text": [
            "Las comparativas de accuracy con el dataset de test es:\n",
            " 0.7379999756813049 para Sigmoid\n",
            " 0.8816999793052673 para Relu\n",
            " 0.8784000277519226 para Tanh\n"
          ],
          "name": "stdout"
        }
      ]
    },
    {
      "cell_type": "markdown",
      "metadata": {
        "id": "-ic0FwFwIZD7",
        "colab_type": "text"
      },
      "source": [
        "Se evidencia que el activador Relu ofrece mejores resultados que las demás unidades de activación"
      ]
    },
    {
      "cell_type": "markdown",
      "metadata": {
        "id": "pu6RbUFKTFqT",
        "colab_type": "text"
      },
      "source": [
        "## 2. Inicialización de parámetros"
      ]
    },
    {
      "cell_type": "markdown",
      "metadata": {
        "id": "Abmm05UPTFqU",
        "colab_type": "text"
      },
      "source": [
        "En este ejercicio, vamos a evaluar la importancia de una correcta inicialización de parámetros en una red neuronal.\n",
        "\n",
        "**Ejercicio 2 *(1.25 puntos)***: Partiendo de una red similar a la del ejercicio anterior (usando ya ReLUs), comentar las diferencias que se aprecian en el entrenamiento al utilizar distintas estrategias de inicialización de parámetros. Para ello, inicializar todas las capas con las siguientes estrategias, disponibles en Keras, y analizar sus diferencias:\n",
        "\n",
        "* Inicialización con ceros.\n",
        "* Inicialización con una variable aleatoria normal.\n",
        "* Inicialización con los valores por defecto de Keras para una capa Dense (estrategia *glorot uniform*)"
      ]
    },
    {
      "cell_type": "markdown",
      "metadata": {
        "id": "jwVUerc2IuQc",
        "colab_type": "text"
      },
      "source": [
        "### Inicialización con ceros\n"
      ]
    },
    {
      "cell_type": "code",
      "metadata": {
        "id": "qcMt7pSkTFqU",
        "colab_type": "code",
        "colab": {
          "base_uri": "https://localhost:8080/",
          "height": 1000
        },
        "outputId": "633aa507-e4e4-488f-e7c5-9c0cd9847343"
      },
      "source": [
        "NN_relu_z = Sequential()\n",
        "\n",
        "NN_relu_z.add(Dense(397, input_shape=(784,), activation = 'relu', kernel_initializer = 'zeros'))\n",
        "NN_relu_z.add(Dense(128, activation = 'relu', kernel_initializer = 'zeros'))\n",
        "NN_relu_z.add(Dense(128, activation = 'relu', kernel_initializer = 'zeros'))\n",
        "NN_relu_z.add(Dense(64, activation = 'relu', kernel_initializer = 'zeros'))\n",
        "NN_relu_z.add(Dense(10, activation = 'softmax', kernel_initializer = 'zeros'))\n",
        "\n",
        "NN_relu_z.compile(optimizer = 'SGD', \n",
        "                loss = 'categorical_crossentropy', \n",
        "                metrics = ['acc'])\n",
        "\n",
        "hist_relu_z = NN_relu_z.fit(X_train, y_train, \n",
        "                       batch_size = batch_size, \n",
        "                       epochs = epochs, \n",
        "                       verbose = 1, \n",
        "                       validation_split=0.2)\n",
        "\n",
        "acc_nn_relu_z = NN_relu_z.evaluate(X_test, y_test, verbose = 1)[1]\n",
        "\n",
        "#plt.figure()\n",
        "#plot_acc(hist_relu_z, title = \"Accuracy de zeros\")\n",
        "\n",
        "#plt.figure()\n",
        "#plot_loss(hist_relu_z, title = \"Loss de zeros\")"
      ],
      "execution_count": 12,
      "outputs": [
        {
          "output_type": "stream",
          "text": [
            "Train on 48000 samples, validate on 12000 samples\n",
            "Epoch 1/50\n",
            "48000/48000 [==============================] - 5s 103us/step - loss: 2.3026 - acc: 0.0982 - val_loss: 2.3027 - val_acc: 0.0957\n",
            "Epoch 2/50\n",
            "48000/48000 [==============================] - 5s 103us/step - loss: 2.3026 - acc: 0.1001 - val_loss: 2.3027 - val_acc: 0.0957\n",
            "Epoch 3/50\n",
            "48000/48000 [==============================] - 5s 101us/step - loss: 2.3026 - acc: 0.1006 - val_loss: 2.3027 - val_acc: 0.0957\n",
            "Epoch 4/50\n",
            "48000/48000 [==============================] - 5s 101us/step - loss: 2.3026 - acc: 0.0980 - val_loss: 2.3027 - val_acc: 0.0957\n",
            "Epoch 5/50\n",
            "48000/48000 [==============================] - 5s 101us/step - loss: 2.3026 - acc: 0.1011 - val_loss: 2.3027 - val_acc: 0.0957\n",
            "Epoch 6/50\n",
            "48000/48000 [==============================] - 5s 101us/step - loss: 2.3026 - acc: 0.0970 - val_loss: 2.3027 - val_acc: 0.0957\n",
            "Epoch 7/50\n",
            "48000/48000 [==============================] - 5s 101us/step - loss: 2.3026 - acc: 0.1000 - val_loss: 2.3027 - val_acc: 0.0957\n",
            "Epoch 8/50\n",
            "48000/48000 [==============================] - 5s 104us/step - loss: 2.3026 - acc: 0.1005 - val_loss: 2.3027 - val_acc: 0.0957\n",
            "Epoch 9/50\n",
            "48000/48000 [==============================] - 5s 104us/step - loss: 2.3026 - acc: 0.1011 - val_loss: 2.3027 - val_acc: 0.0957\n",
            "Epoch 10/50\n",
            "48000/48000 [==============================] - 5s 101us/step - loss: 2.3026 - acc: 0.1003 - val_loss: 2.3027 - val_acc: 0.0957\n",
            "Epoch 11/50\n",
            "48000/48000 [==============================] - 5s 102us/step - loss: 2.3026 - acc: 0.1001 - val_loss: 2.3027 - val_acc: 0.0957\n",
            "Epoch 12/50\n",
            "48000/48000 [==============================] - 5s 102us/step - loss: 2.3026 - acc: 0.1009 - val_loss: 2.3027 - val_acc: 0.0957\n",
            "Epoch 13/50\n",
            "48000/48000 [==============================] - 5s 104us/step - loss: 2.3026 - acc: 0.0993 - val_loss: 2.3027 - val_acc: 0.0957\n",
            "Epoch 14/50\n",
            "48000/48000 [==============================] - 5s 107us/step - loss: 2.3026 - acc: 0.1002 - val_loss: 2.3027 - val_acc: 0.0957\n",
            "Epoch 15/50\n",
            "48000/48000 [==============================] - 5s 101us/step - loss: 2.3026 - acc: 0.1012 - val_loss: 2.3027 - val_acc: 0.0957\n",
            "Epoch 16/50\n",
            "48000/48000 [==============================] - 5s 103us/step - loss: 2.3026 - acc: 0.0998 - val_loss: 2.3027 - val_acc: 0.0957\n",
            "Epoch 17/50\n",
            "48000/48000 [==============================] - 5s 102us/step - loss: 2.3026 - acc: 0.1007 - val_loss: 2.3027 - val_acc: 0.0957\n",
            "Epoch 18/50\n",
            "48000/48000 [==============================] - 5s 100us/step - loss: 2.3026 - acc: 0.1011 - val_loss: 2.3027 - val_acc: 0.0957\n",
            "Epoch 19/50\n",
            "48000/48000 [==============================] - 5s 101us/step - loss: 2.3026 - acc: 0.1000 - val_loss: 2.3027 - val_acc: 0.0957\n",
            "Epoch 20/50\n",
            "48000/48000 [==============================] - 5s 100us/step - loss: 2.3026 - acc: 0.0994 - val_loss: 2.3027 - val_acc: 0.0957\n",
            "Epoch 21/50\n",
            "48000/48000 [==============================] - 5s 100us/step - loss: 2.3026 - acc: 0.0995 - val_loss: 2.3027 - val_acc: 0.0957\n",
            "Epoch 22/50\n",
            "48000/48000 [==============================] - 5s 97us/step - loss: 2.3026 - acc: 0.1008 - val_loss: 2.3027 - val_acc: 0.0957\n",
            "Epoch 23/50\n",
            "48000/48000 [==============================] - 5s 100us/step - loss: 2.3026 - acc: 0.0997 - val_loss: 2.3027 - val_acc: 0.0957\n",
            "Epoch 24/50\n",
            "48000/48000 [==============================] - 5s 99us/step - loss: 2.3026 - acc: 0.0996 - val_loss: 2.3027 - val_acc: 0.0957\n",
            "Epoch 25/50\n",
            "48000/48000 [==============================] - 5s 99us/step - loss: 2.3026 - acc: 0.0996 - val_loss: 2.3027 - val_acc: 0.0957\n",
            "Epoch 26/50\n",
            "48000/48000 [==============================] - 5s 102us/step - loss: 2.3026 - acc: 0.0990 - val_loss: 2.3027 - val_acc: 0.0957\n",
            "Epoch 27/50\n",
            "48000/48000 [==============================] - 5s 99us/step - loss: 2.3026 - acc: 0.1007 - val_loss: 2.3027 - val_acc: 0.0957\n",
            "Epoch 28/50\n",
            "48000/48000 [==============================] - 5s 104us/step - loss: 2.3026 - acc: 0.1007 - val_loss: 2.3027 - val_acc: 0.0957\n",
            "Epoch 29/50\n",
            "48000/48000 [==============================] - 5s 103us/step - loss: 2.3026 - acc: 0.1005 - val_loss: 2.3027 - val_acc: 0.0957\n",
            "Epoch 30/50\n",
            "48000/48000 [==============================] - 5s 100us/step - loss: 2.3026 - acc: 0.0990 - val_loss: 2.3027 - val_acc: 0.0957\n",
            "Epoch 31/50\n",
            "48000/48000 [==============================] - 5s 98us/step - loss: 2.3026 - acc: 0.1011 - val_loss: 2.3027 - val_acc: 0.0957\n",
            "Epoch 32/50\n",
            "48000/48000 [==============================] - 5s 103us/step - loss: 2.3026 - acc: 0.0993 - val_loss: 2.3027 - val_acc: 0.0957\n",
            "Epoch 33/50\n",
            "48000/48000 [==============================] - 5s 100us/step - loss: 2.3026 - acc: 0.0990 - val_loss: 2.3027 - val_acc: 0.0957\n",
            "Epoch 34/50\n",
            "48000/48000 [==============================] - 5s 100us/step - loss: 2.3026 - acc: 0.1006 - val_loss: 2.3027 - val_acc: 0.0957\n",
            "Epoch 35/50\n",
            "48000/48000 [==============================] - 5s 106us/step - loss: 2.3026 - acc: 0.1003 - val_loss: 2.3027 - val_acc: 0.0957\n",
            "Epoch 36/50\n",
            "48000/48000 [==============================] - 5s 112us/step - loss: 2.3026 - acc: 0.1003 - val_loss: 2.3027 - val_acc: 0.0957\n",
            "Epoch 37/50\n",
            "48000/48000 [==============================] - 5s 109us/step - loss: 2.3026 - acc: 0.0987 - val_loss: 2.3027 - val_acc: 0.0957\n",
            "Epoch 38/50\n",
            "48000/48000 [==============================] - 5s 100us/step - loss: 2.3026 - acc: 0.0987 - val_loss: 2.3027 - val_acc: 0.0957\n",
            "Epoch 39/50\n",
            "48000/48000 [==============================] - 5s 99us/step - loss: 2.3026 - acc: 0.0987 - val_loss: 2.3027 - val_acc: 0.0957\n",
            "Epoch 40/50\n",
            "48000/48000 [==============================] - 5s 101us/step - loss: 2.3026 - acc: 0.1007 - val_loss: 2.3027 - val_acc: 0.0957\n",
            "Epoch 41/50\n",
            "48000/48000 [==============================] - 5s 103us/step - loss: 2.3026 - acc: 0.0996 - val_loss: 2.3027 - val_acc: 0.0957\n",
            "Epoch 42/50\n",
            "48000/48000 [==============================] - 5s 104us/step - loss: 2.3026 - acc: 0.0999 - val_loss: 2.3027 - val_acc: 0.0957\n",
            "Epoch 43/50\n",
            "48000/48000 [==============================] - 5s 99us/step - loss: 2.3026 - acc: 0.0995 - val_loss: 2.3027 - val_acc: 0.0957\n",
            "Epoch 44/50\n",
            "48000/48000 [==============================] - 5s 100us/step - loss: 2.3026 - acc: 0.1001 - val_loss: 2.3027 - val_acc: 0.0957\n",
            "Epoch 45/50\n",
            "48000/48000 [==============================] - 5s 101us/step - loss: 2.3026 - acc: 0.0991 - val_loss: 2.3027 - val_acc: 0.0957\n",
            "Epoch 46/50\n",
            "48000/48000 [==============================] - 5s 101us/step - loss: 2.3026 - acc: 0.1011 - val_loss: 2.3027 - val_acc: 0.0957\n",
            "Epoch 47/50\n",
            "48000/48000 [==============================] - 5s 109us/step - loss: 2.3026 - acc: 0.0991 - val_loss: 2.3027 - val_acc: 0.0957\n",
            "Epoch 48/50\n",
            "48000/48000 [==============================] - 6s 115us/step - loss: 2.3026 - acc: 0.1007 - val_loss: 2.3027 - val_acc: 0.0957\n",
            "Epoch 49/50\n",
            "48000/48000 [==============================] - 6s 116us/step - loss: 2.3026 - acc: 0.0990 - val_loss: 2.3027 - val_acc: 0.0957\n",
            "Epoch 50/50\n",
            "48000/48000 [==============================] - 5s 110us/step - loss: 2.3026 - acc: 0.1008 - val_loss: 2.3027 - val_acc: 0.0957\n",
            "10000/10000 [==============================] - 1s 55us/step\n"
          ],
          "name": "stdout"
        }
      ]
    },
    {
      "cell_type": "markdown",
      "metadata": {
        "id": "Wc6tHETRI11M",
        "colab_type": "text"
      },
      "source": [
        "### Inicialización con aleatoria normal"
      ]
    },
    {
      "cell_type": "code",
      "metadata": {
        "id": "-HcdIqAkI5DW",
        "colab_type": "code",
        "colab": {
          "base_uri": "https://localhost:8080/",
          "height": 1000
        },
        "outputId": "6320646e-870d-4885-a380-91536677a82d"
      },
      "source": [
        "NN_relu_rn = Sequential()\n",
        "\n",
        "NN_relu_rn.add(Dense(397, input_shape=(784,), activation = 'relu', kernel_initializer = 'random_normal'))\n",
        "NN_relu_rn.add(Dense(128, activation = 'relu', kernel_initializer = 'random_normal'))\n",
        "NN_relu_rn.add(Dense(128, activation = 'relu', kernel_initializer = 'random_normal'))\n",
        "NN_relu_rn.add(Dense(64, activation = 'relu', kernel_initializer = 'random_normal'))\n",
        "NN_relu_rn.add(Dense(10, activation = 'softmax', kernel_initializer = 'random_normal'))\n",
        "\n",
        "NN_relu_rn.compile(optimizer = 'SGD', \n",
        "                loss = 'categorical_crossentropy', \n",
        "                metrics = ['acc'])\n",
        "\n",
        "hist_relu_rn = NN_relu_rn.fit(X_train, y_train, \n",
        "                       batch_size = batch_size, \n",
        "                       epochs = epochs, \n",
        "                       verbose = 1, \n",
        "                       validation_split=0.2)\n",
        "\n",
        "acc_nn_relu_rn = NN_relu_rn.evaluate(X_test, y_test, verbose = 1)[1]\n",
        "\n",
        "#plt.figure()\n",
        "#plot_acc(hist_relu_rn, title = \"Accuracy de random_normal\")\n",
        "\n",
        "#plt.figure()\n",
        "#plot_loss(hist_relu_rn, title = \"Loss de random_normal\")"
      ],
      "execution_count": 13,
      "outputs": [
        {
          "output_type": "stream",
          "text": [
            "Train on 48000 samples, validate on 12000 samples\n",
            "Epoch 1/50\n",
            "48000/48000 [==============================] - 6s 122us/step - loss: 2.1940 - acc: 0.2678 - val_loss: 1.7033 - val_acc: 0.4613\n",
            "Epoch 2/50\n",
            "48000/48000 [==============================] - 6s 117us/step - loss: 1.0955 - acc: 0.5732 - val_loss: 0.8475 - val_acc: 0.6702\n",
            "Epoch 3/50\n",
            "48000/48000 [==============================] - 5s 114us/step - loss: 0.7648 - acc: 0.7073 - val_loss: 0.7236 - val_acc: 0.7366\n",
            "Epoch 4/50\n",
            "48000/48000 [==============================] - 6s 122us/step - loss: 0.6511 - acc: 0.7630 - val_loss: 0.6137 - val_acc: 0.7776\n",
            "Epoch 5/50\n",
            "48000/48000 [==============================] - 5s 111us/step - loss: 0.5849 - acc: 0.7914 - val_loss: 0.5808 - val_acc: 0.8025\n",
            "Epoch 6/50\n",
            "48000/48000 [==============================] - 5s 111us/step - loss: 0.5449 - acc: 0.8080 - val_loss: 0.5267 - val_acc: 0.8180\n",
            "Epoch 7/50\n",
            "48000/48000 [==============================] - 5s 100us/step - loss: 0.5111 - acc: 0.8205 - val_loss: 0.5007 - val_acc: 0.8273\n",
            "Epoch 8/50\n",
            "48000/48000 [==============================] - 5s 102us/step - loss: 0.4833 - acc: 0.8314 - val_loss: 0.4786 - val_acc: 0.8316\n",
            "Epoch 9/50\n",
            "48000/48000 [==============================] - 5s 100us/step - loss: 0.4597 - acc: 0.8388 - val_loss: 0.4577 - val_acc: 0.8422\n",
            "Epoch 10/50\n",
            "48000/48000 [==============================] - 5s 100us/step - loss: 0.4435 - acc: 0.8441 - val_loss: 0.5000 - val_acc: 0.8223\n",
            "Epoch 11/50\n",
            "48000/48000 [==============================] - 5s 98us/step - loss: 0.4257 - acc: 0.8499 - val_loss: 0.4441 - val_acc: 0.8418\n",
            "Epoch 12/50\n",
            "48000/48000 [==============================] - 5s 99us/step - loss: 0.4137 - acc: 0.8536 - val_loss: 0.4215 - val_acc: 0.8529\n",
            "Epoch 13/50\n",
            "48000/48000 [==============================] - 5s 100us/step - loss: 0.4004 - acc: 0.8593 - val_loss: 0.4557 - val_acc: 0.8444\n",
            "Epoch 14/50\n",
            "48000/48000 [==============================] - 5s 99us/step - loss: 0.3904 - acc: 0.8626 - val_loss: 0.4113 - val_acc: 0.8575\n",
            "Epoch 15/50\n",
            "48000/48000 [==============================] - 5s 100us/step - loss: 0.3796 - acc: 0.8666 - val_loss: 0.4089 - val_acc: 0.8553\n",
            "Epoch 16/50\n",
            "48000/48000 [==============================] - 5s 102us/step - loss: 0.3703 - acc: 0.8689 - val_loss: 0.3914 - val_acc: 0.8615\n",
            "Epoch 17/50\n",
            "48000/48000 [==============================] - 5s 112us/step - loss: 0.3642 - acc: 0.8696 - val_loss: 0.3952 - val_acc: 0.8603\n",
            "Epoch 18/50\n",
            "48000/48000 [==============================] - 5s 103us/step - loss: 0.3558 - acc: 0.8736 - val_loss: 0.3776 - val_acc: 0.8685\n",
            "Epoch 19/50\n",
            "48000/48000 [==============================] - 5s 109us/step - loss: 0.3472 - acc: 0.8768 - val_loss: 0.3776 - val_acc: 0.8683\n",
            "Epoch 20/50\n",
            "48000/48000 [==============================] - 6s 128us/step - loss: 0.3386 - acc: 0.8793 - val_loss: 0.3759 - val_acc: 0.8701\n",
            "Epoch 21/50\n",
            "48000/48000 [==============================] - 7s 136us/step - loss: 0.3324 - acc: 0.8798 - val_loss: 0.3744 - val_acc: 0.8671\n",
            "Epoch 22/50\n",
            "48000/48000 [==============================] - 7s 140us/step - loss: 0.3266 - acc: 0.8823 - val_loss: 0.3794 - val_acc: 0.8668\n",
            "Epoch 23/50\n",
            "48000/48000 [==============================] - 6s 117us/step - loss: 0.3190 - acc: 0.8855 - val_loss: 0.3627 - val_acc: 0.8704\n",
            "Epoch 24/50\n",
            "48000/48000 [==============================] - 6s 119us/step - loss: 0.3131 - acc: 0.8877 - val_loss: 0.3552 - val_acc: 0.8757\n",
            "Epoch 25/50\n",
            "48000/48000 [==============================] - 6s 115us/step - loss: 0.3075 - acc: 0.8882 - val_loss: 0.3532 - val_acc: 0.8751\n",
            "Epoch 26/50\n",
            "48000/48000 [==============================] - 5s 112us/step - loss: 0.3030 - acc: 0.8903 - val_loss: 0.3617 - val_acc: 0.8769\n",
            "Epoch 27/50\n",
            "48000/48000 [==============================] - 6s 119us/step - loss: 0.2954 - acc: 0.8927 - val_loss: 0.3500 - val_acc: 0.8765\n",
            "Epoch 28/50\n",
            "48000/48000 [==============================] - 6s 127us/step - loss: 0.2884 - acc: 0.8956 - val_loss: 0.3639 - val_acc: 0.8775\n",
            "Epoch 29/50\n",
            "48000/48000 [==============================] - 6s 120us/step - loss: 0.2854 - acc: 0.8966 - val_loss: 0.3574 - val_acc: 0.8719\n",
            "Epoch 30/50\n",
            "48000/48000 [==============================] - 5s 109us/step - loss: 0.2797 - acc: 0.8985 - val_loss: 0.3562 - val_acc: 0.8731\n",
            "Epoch 31/50\n",
            "48000/48000 [==============================] - 5s 113us/step - loss: 0.2745 - acc: 0.8994 - val_loss: 0.3512 - val_acc: 0.8761\n",
            "Epoch 32/50\n",
            "48000/48000 [==============================] - 5s 112us/step - loss: 0.2701 - acc: 0.9004 - val_loss: 0.3328 - val_acc: 0.8858\n",
            "Epoch 33/50\n",
            "48000/48000 [==============================] - 5s 114us/step - loss: 0.2664 - acc: 0.9024 - val_loss: 0.3620 - val_acc: 0.8716\n",
            "Epoch 34/50\n",
            "48000/48000 [==============================] - 5s 111us/step - loss: 0.2610 - acc: 0.9053 - val_loss: 0.3568 - val_acc: 0.8730\n",
            "Epoch 35/50\n",
            "48000/48000 [==============================] - 6s 130us/step - loss: 0.2569 - acc: 0.9054 - val_loss: 0.3362 - val_acc: 0.8818\n",
            "Epoch 36/50\n",
            "48000/48000 [==============================] - 5s 108us/step - loss: 0.2520 - acc: 0.9094 - val_loss: 0.3426 - val_acc: 0.8831\n",
            "Epoch 37/50\n",
            "48000/48000 [==============================] - 5s 108us/step - loss: 0.2490 - acc: 0.9083 - val_loss: 0.3335 - val_acc: 0.8802\n",
            "Epoch 38/50\n",
            "48000/48000 [==============================] - 5s 102us/step - loss: 0.2448 - acc: 0.9121 - val_loss: 0.3312 - val_acc: 0.8848\n",
            "Epoch 39/50\n",
            "48000/48000 [==============================] - 5s 102us/step - loss: 0.2404 - acc: 0.9125 - val_loss: 0.3280 - val_acc: 0.8847\n",
            "Epoch 40/50\n",
            "48000/48000 [==============================] - 5s 102us/step - loss: 0.2355 - acc: 0.9134 - val_loss: 0.3293 - val_acc: 0.8838\n",
            "Epoch 41/50\n",
            "48000/48000 [==============================] - 5s 101us/step - loss: 0.2327 - acc: 0.9145 - val_loss: 0.3270 - val_acc: 0.8865\n",
            "Epoch 42/50\n",
            "48000/48000 [==============================] - 5s 101us/step - loss: 0.2280 - acc: 0.9167 - val_loss: 0.3278 - val_acc: 0.8878\n",
            "Epoch 43/50\n",
            "48000/48000 [==============================] - 5s 99us/step - loss: 0.2252 - acc: 0.9178 - val_loss: 0.3408 - val_acc: 0.8818\n",
            "Epoch 44/50\n",
            "48000/48000 [==============================] - 5s 104us/step - loss: 0.2223 - acc: 0.9181 - val_loss: 0.3569 - val_acc: 0.8765\n",
            "Epoch 45/50\n",
            "48000/48000 [==============================] - 5s 109us/step - loss: 0.2181 - acc: 0.9197 - val_loss: 0.3486 - val_acc: 0.8809\n",
            "Epoch 46/50\n",
            "48000/48000 [==============================] - 5s 105us/step - loss: 0.2131 - acc: 0.9215 - val_loss: 0.3451 - val_acc: 0.8849\n",
            "Epoch 47/50\n",
            "48000/48000 [==============================] - 5s 101us/step - loss: 0.2106 - acc: 0.9240 - val_loss: 0.3313 - val_acc: 0.8879\n",
            "Epoch 48/50\n",
            "48000/48000 [==============================] - 5s 99us/step - loss: 0.2069 - acc: 0.9248 - val_loss: 0.3409 - val_acc: 0.8812\n",
            "Epoch 49/50\n",
            "48000/48000 [==============================] - 5s 110us/step - loss: 0.2039 - acc: 0.9255 - val_loss: 0.3294 - val_acc: 0.8892\n",
            "Epoch 50/50\n",
            "48000/48000 [==============================] - 5s 99us/step - loss: 0.1999 - acc: 0.9267 - val_loss: 0.3385 - val_acc: 0.8867\n",
            "10000/10000 [==============================] - 0s 47us/step\n"
          ],
          "name": "stdout"
        }
      ]
    },
    {
      "cell_type": "markdown",
      "metadata": {
        "id": "4P2zv6I8I7tm",
        "colab_type": "text"
      },
      "source": [
        "### Inicialización con glorot uniform"
      ]
    },
    {
      "cell_type": "code",
      "metadata": {
        "id": "-7mSb05oI-mk",
        "colab_type": "code",
        "colab": {
          "base_uri": "https://localhost:8080/",
          "height": 1000
        },
        "outputId": "d246c096-920c-46c1-f5dc-c0637b8bf551"
      },
      "source": [
        "NN_relu_gu = Sequential()\n",
        "\n",
        "NN_relu_gu.add(Dense(397, input_shape=(784,), activation = 'relu', kernel_initializer = 'glorot_uniform'))\n",
        "NN_relu_gu.add(Dense(128, activation = 'relu', kernel_initializer = 'glorot_uniform'))\n",
        "NN_relu_gu.add(Dense(128, activation = 'relu', kernel_initializer = 'glorot_uniform'))\n",
        "NN_relu_gu.add(Dense(64, activation = 'relu', kernel_initializer = 'glorot_uniform'))\n",
        "NN_relu_gu.add(Dense(10, activation = 'softmax', kernel_initializer = 'glorot_uniform'))\n",
        "\n",
        "NN_relu_gu.compile(optimizer = 'SGD', \n",
        "                loss = 'categorical_crossentropy', \n",
        "                metrics = ['acc'])\n",
        "\n",
        "hist_relu_gu = NN_relu_gu.fit(X_train, y_train, \n",
        "                       batch_size = batch_size, \n",
        "                       epochs = epochs, \n",
        "                       verbose = 1, \n",
        "                       validation_split=0.2)\n",
        "\n",
        "acc_nn_relu_gu = NN_relu_gu.evaluate(X_test, y_test, verbose = 1)[1]\n",
        "\n",
        "#plt.figure()\n",
        "#plot_acc(hist_relu_rn, title = \"Accuracy de glorot_uniform\")\n",
        "\n",
        "#plt.figure()\n",
        "#plot_loss(hist_relu_rn, title = \"Loss de glorot_uniform\")"
      ],
      "execution_count": 14,
      "outputs": [
        {
          "output_type": "stream",
          "text": [
            "Train on 48000 samples, validate on 12000 samples\n",
            "Epoch 1/50\n",
            "48000/48000 [==============================] - 5s 103us/step - loss: 0.9776 - acc: 0.6657 - val_loss: 0.5904 - val_acc: 0.7918\n",
            "Epoch 2/50\n",
            "48000/48000 [==============================] - 5s 97us/step - loss: 0.5489 - acc: 0.8105 - val_loss: 0.5082 - val_acc: 0.8220\n",
            "Epoch 3/50\n",
            "48000/48000 [==============================] - 5s 98us/step - loss: 0.4824 - acc: 0.8296 - val_loss: 0.4615 - val_acc: 0.8378\n",
            "Epoch 4/50\n",
            "48000/48000 [==============================] - 5s 97us/step - loss: 0.4492 - acc: 0.8415 - val_loss: 0.4388 - val_acc: 0.8442\n",
            "Epoch 5/50\n",
            "48000/48000 [==============================] - 5s 100us/step - loss: 0.4236 - acc: 0.8512 - val_loss: 0.4320 - val_acc: 0.8455\n",
            "Epoch 6/50\n",
            "48000/48000 [==============================] - 5s 102us/step - loss: 0.4038 - acc: 0.8561 - val_loss: 0.4302 - val_acc: 0.8468\n",
            "Epoch 7/50\n",
            "48000/48000 [==============================] - 5s 100us/step - loss: 0.3891 - acc: 0.8616 - val_loss: 0.4193 - val_acc: 0.8518\n",
            "Epoch 8/50\n",
            "48000/48000 [==============================] - 5s 101us/step - loss: 0.3755 - acc: 0.8645 - val_loss: 0.3824 - val_acc: 0.8633\n",
            "Epoch 9/50\n",
            "48000/48000 [==============================] - 5s 101us/step - loss: 0.3644 - acc: 0.8718 - val_loss: 0.3819 - val_acc: 0.8656\n",
            "Epoch 10/50\n",
            "48000/48000 [==============================] - 5s 102us/step - loss: 0.3537 - acc: 0.8738 - val_loss: 0.3868 - val_acc: 0.8617\n",
            "Epoch 11/50\n",
            "48000/48000 [==============================] - 5s 101us/step - loss: 0.3438 - acc: 0.8770 - val_loss: 0.3852 - val_acc: 0.8648\n",
            "Epoch 12/50\n",
            "48000/48000 [==============================] - 5s 103us/step - loss: 0.3363 - acc: 0.8787 - val_loss: 0.3700 - val_acc: 0.8689\n",
            "Epoch 13/50\n",
            "48000/48000 [==============================] - 5s 103us/step - loss: 0.3283 - acc: 0.8815 - val_loss: 0.3572 - val_acc: 0.8743\n",
            "Epoch 14/50\n",
            "48000/48000 [==============================] - 5s 104us/step - loss: 0.3205 - acc: 0.8838 - val_loss: 0.3594 - val_acc: 0.8726\n",
            "Epoch 15/50\n",
            "48000/48000 [==============================] - 5s 103us/step - loss: 0.3147 - acc: 0.8864 - val_loss: 0.3766 - val_acc: 0.8667\n",
            "Epoch 16/50\n",
            "48000/48000 [==============================] - 5s 101us/step - loss: 0.3064 - acc: 0.8894 - val_loss: 0.3463 - val_acc: 0.8762\n",
            "Epoch 17/50\n",
            "48000/48000 [==============================] - 5s 102us/step - loss: 0.3019 - acc: 0.8912 - val_loss: 0.3650 - val_acc: 0.8697\n",
            "Epoch 18/50\n",
            "48000/48000 [==============================] - 5s 98us/step - loss: 0.2942 - acc: 0.8930 - val_loss: 0.3338 - val_acc: 0.8811\n",
            "Epoch 19/50\n",
            "48000/48000 [==============================] - 5s 100us/step - loss: 0.2869 - acc: 0.8956 - val_loss: 0.3466 - val_acc: 0.8758\n",
            "Epoch 20/50\n",
            "48000/48000 [==============================] - 5s 99us/step - loss: 0.2827 - acc: 0.8970 - val_loss: 0.3605 - val_acc: 0.8729\n",
            "Epoch 21/50\n",
            "48000/48000 [==============================] - 5s 97us/step - loss: 0.2775 - acc: 0.8996 - val_loss: 0.3446 - val_acc: 0.8759\n",
            "Epoch 22/50\n",
            "48000/48000 [==============================] - 5s 98us/step - loss: 0.2716 - acc: 0.9014 - val_loss: 0.3334 - val_acc: 0.8806\n",
            "Epoch 23/50\n",
            "48000/48000 [==============================] - 5s 96us/step - loss: 0.2657 - acc: 0.9027 - val_loss: 0.3234 - val_acc: 0.8859\n",
            "Epoch 24/50\n",
            "48000/48000 [==============================] - 5s 98us/step - loss: 0.2610 - acc: 0.9053 - val_loss: 0.3240 - val_acc: 0.8847\n",
            "Epoch 25/50\n",
            "48000/48000 [==============================] - 5s 97us/step - loss: 0.2572 - acc: 0.9062 - val_loss: 0.3318 - val_acc: 0.8789\n",
            "Epoch 26/50\n",
            "48000/48000 [==============================] - 5s 97us/step - loss: 0.2535 - acc: 0.9087 - val_loss: 0.3394 - val_acc: 0.8817\n",
            "Epoch 27/50\n",
            "48000/48000 [==============================] - 5s 97us/step - loss: 0.2487 - acc: 0.9079 - val_loss: 0.3214 - val_acc: 0.8870\n",
            "Epoch 28/50\n",
            "48000/48000 [==============================] - 5s 98us/step - loss: 0.2429 - acc: 0.9108 - val_loss: 0.3121 - val_acc: 0.8867\n",
            "Epoch 29/50\n",
            "48000/48000 [==============================] - 5s 98us/step - loss: 0.2407 - acc: 0.9112 - val_loss: 0.3283 - val_acc: 0.8837\n",
            "Epoch 30/50\n",
            "48000/48000 [==============================] - 5s 98us/step - loss: 0.2355 - acc: 0.9141 - val_loss: 0.3320 - val_acc: 0.8838\n",
            "Epoch 31/50\n",
            "48000/48000 [==============================] - 5s 99us/step - loss: 0.2308 - acc: 0.9162 - val_loss: 0.3316 - val_acc: 0.8841\n",
            "Epoch 32/50\n",
            "48000/48000 [==============================] - 5s 98us/step - loss: 0.2263 - acc: 0.9187 - val_loss: 0.3244 - val_acc: 0.8839\n",
            "Epoch 33/50\n",
            "48000/48000 [==============================] - 5s 101us/step - loss: 0.2231 - acc: 0.9184 - val_loss: 0.3232 - val_acc: 0.8845\n",
            "Epoch 34/50\n",
            "48000/48000 [==============================] - 5s 103us/step - loss: 0.2184 - acc: 0.9207 - val_loss: 0.3149 - val_acc: 0.8885\n",
            "Epoch 35/50\n",
            "48000/48000 [==============================] - 5s 99us/step - loss: 0.2148 - acc: 0.9210 - val_loss: 0.3489 - val_acc: 0.8736\n",
            "Epoch 36/50\n",
            "48000/48000 [==============================] - 5s 97us/step - loss: 0.2120 - acc: 0.9220 - val_loss: 0.3166 - val_acc: 0.8903\n",
            "Epoch 37/50\n",
            "48000/48000 [==============================] - 5s 98us/step - loss: 0.2074 - acc: 0.9242 - val_loss: 0.3106 - val_acc: 0.8917\n",
            "Epoch 38/50\n",
            "48000/48000 [==============================] - 5s 97us/step - loss: 0.2045 - acc: 0.9261 - val_loss: 0.3160 - val_acc: 0.8884\n",
            "Epoch 39/50\n",
            "48000/48000 [==============================] - 5s 98us/step - loss: 0.2021 - acc: 0.9261 - val_loss: 0.3414 - val_acc: 0.8854\n",
            "Epoch 40/50\n",
            "48000/48000 [==============================] - 5s 98us/step - loss: 0.1979 - acc: 0.9285 - val_loss: 0.3239 - val_acc: 0.8850\n",
            "Epoch 41/50\n",
            "48000/48000 [==============================] - 5s 96us/step - loss: 0.1947 - acc: 0.9300 - val_loss: 0.3151 - val_acc: 0.8905\n",
            "Epoch 42/50\n",
            "48000/48000 [==============================] - 5s 97us/step - loss: 0.1904 - acc: 0.9316 - val_loss: 0.3332 - val_acc: 0.8824\n",
            "Epoch 43/50\n",
            "48000/48000 [==============================] - 5s 97us/step - loss: 0.1886 - acc: 0.9317 - val_loss: 0.3135 - val_acc: 0.8919\n",
            "Epoch 44/50\n",
            "48000/48000 [==============================] - 5s 98us/step - loss: 0.1854 - acc: 0.9327 - val_loss: 0.3326 - val_acc: 0.8840\n",
            "Epoch 45/50\n",
            "48000/48000 [==============================] - 5s 98us/step - loss: 0.1820 - acc: 0.9337 - val_loss: 0.3452 - val_acc: 0.8758\n",
            "Epoch 46/50\n",
            "48000/48000 [==============================] - 5s 97us/step - loss: 0.1776 - acc: 0.9360 - val_loss: 0.3286 - val_acc: 0.8882\n",
            "Epoch 47/50\n",
            "48000/48000 [==============================] - 5s 96us/step - loss: 0.1751 - acc: 0.9370 - val_loss: 0.3315 - val_acc: 0.8856\n",
            "Epoch 48/50\n",
            "48000/48000 [==============================] - 5s 98us/step - loss: 0.1731 - acc: 0.9372 - val_loss: 0.3339 - val_acc: 0.8889\n",
            "Epoch 49/50\n",
            "48000/48000 [==============================] - 5s 102us/step - loss: 0.1693 - acc: 0.9392 - val_loss: 0.3216 - val_acc: 0.8903\n",
            "Epoch 50/50\n",
            "48000/48000 [==============================] - 5s 103us/step - loss: 0.1660 - acc: 0.9408 - val_loss: 0.3415 - val_acc: 0.8876\n",
            "10000/10000 [==============================] - 1s 58us/step\n"
          ],
          "name": "stdout"
        }
      ]
    },
    {
      "cell_type": "markdown",
      "metadata": {
        "id": "B8ms5dwuJAaS",
        "colab_type": "text"
      },
      "source": [
        "### Comparativa de redes"
      ]
    },
    {
      "cell_type": "code",
      "metadata": {
        "id": "7wHGyrtBJCNH",
        "colab_type": "code",
        "colab": {
          "base_uri": "https://localhost:8080/",
          "height": 295
        },
        "outputId": "ee5b9682-9035-4b0a-dbfb-1bcd91fb98ef"
      },
      "source": [
        "plot_compare_losses(hist_relu_z, hist_relu_rn, hist_relu_gu, \n",
        "                    name1=\"Red zeros\", name2=\"Red random normal\", name3=\"Red Glorot Uniform\", \n",
        "                    title = \"Comparativa de losses parámetros\")"
      ],
      "execution_count": 15,
      "outputs": [
        {
          "output_type": "display_data",
          "data": {
            "image/png": "[encoded data removed]",
            "text/plain": [
              "<Figure size 432x288 with 1 Axes>"
            ]
          },
          "metadata": {
            "tags": [],
            "needs_background": "light"
          }
        }
      ]
    },
    {
      "cell_type": "code",
      "metadata": {
        "id": "xDMXy9p_JD9H",
        "colab_type": "code",
        "colab": {
          "base_uri": "https://localhost:8080/",
          "height": 295
        },
        "outputId": "e5c99f2c-b7d4-4b09-f8b3-ff9d3d2cb29e"
      },
      "source": [
        "plot_compare_accs(hist_relu_z, hist_relu_rn, hist_relu_gu, \n",
        "                  name1=\"Red zeros\", name2=\"Red random normal\", name3=\"Red Glorot Uniform\", \n",
        "                  title = \"Comparativa de losses parámetros\")"
      ],
      "execution_count": 16,
      "outputs": [
        {
          "output_type": "display_data",
          "data": {
            "image/png": "[encoded data removed]",
            "text/plain": [
              "<Figure size 432x288 with 1 Axes>"
            ]
          },
          "metadata": {
            "tags": [],
            "needs_background": "light"
          }
        }
      ]
    },
    {
      "cell_type": "code",
      "metadata": {
        "id": "zsqBLmshJFxI",
        "colab_type": "code",
        "colab": {
          "base_uri": "https://localhost:8080/",
          "height": 87
        },
        "outputId": "f08e66ea-37fa-474f-d3b1-eccbee0f051f"
      },
      "source": [
        "print(\"Las comparativas de accuracy con el dataset de test es:\\n\", \n",
        "      acc_nn_relu_z, \"para zeros\\n\", \n",
        "      acc_nn_relu_rn, \"para random normal\\n\",\n",
        "      acc_nn_relu_gu, \"para glorot uniform\")"
      ],
      "execution_count": 17,
      "outputs": [
        {
          "output_type": "stream",
          "text": [
            "Las comparativas de accuracy con el dataset de test es:\n",
            " 0.10000000149011612 para zeros\n",
            " 0.8772000074386597 para random normal\n",
            " 0.8805999755859375 para glorot uniform\n"
          ],
          "name": "stdout"
        }
      ]
    },
    {
      "cell_type": "markdown",
      "metadata": {
        "id": "A_P_GGciJI3m",
        "colab_type": "text"
      },
      "source": [
        "El mejor inicializador para esta red es el random normal"
      ]
    },
    {
      "cell_type": "markdown",
      "metadata": {
        "id": "NqIAyVWrTFqV",
        "colab_type": "text"
      },
      "source": [
        "## 3. Optimizadores"
      ]
    },
    {
      "cell_type": "markdown",
      "metadata": {
        "id": "lcYj29hYTFqW",
        "colab_type": "text"
      },
      "source": [
        "**Ejercicio 3 *(1.25 puntos)***: Partiendo de una red similar a la del ejercicio anterior (utilizando la mejor estrategia de inicialización observada), comparar y analizar las diferencias que se observan  al entrenar con varios de los optimizadores vistos en clase, incluyendo SGD como optimizador básico (se puede explorar el espacio de hiperparámetros de cada optimizador, aunque para optimizadores más avanzados del estilo de adam y RMSprop es buena idea dejar los valores por defecto provistos por Keras)."
      ]
    },
    {
      "cell_type": "markdown",
      "metadata": {
        "id": "uE-APgKmJP_g",
        "colab_type": "text"
      },
      "source": [
        "### Optimizador SGD"
      ]
    },
    {
      "cell_type": "code",
      "metadata": {
        "id": "0fWDiqXvTFqW",
        "colab_type": "code",
        "colab": {
          "base_uri": "https://localhost:8080/",
          "height": 1000
        },
        "outputId": "b3a8fdee-618f-43ad-f337-8c4c3e69a699"
      },
      "source": [
        "NN_relu_SGD = Sequential()\n",
        "\n",
        "NN_relu_SGD.add(Dense(397, input_shape=(784,), activation = 'relu', kernel_initializer = 'random_normal'))\n",
        "NN_relu_SGD.add(Dense(128, activation = 'relu', kernel_initializer = 'random_normal'))\n",
        "NN_relu_SGD.add(Dense(128, activation = 'relu', kernel_initializer = 'random_normal'))\n",
        "NN_relu_SGD.add(Dense(64, activation = 'relu', kernel_initializer = 'random_normal'))\n",
        "NN_relu_SGD.add(Dense(10, activation = 'softmax', kernel_initializer = 'random_normal'))\n",
        "\n",
        "NN_relu_SGD.compile(optimizer = 'SGD', \n",
        "                loss = 'categorical_crossentropy', \n",
        "                metrics = ['acc'])\n",
        "\n",
        "hist_relu_SGD = NN_relu_SGD.fit(X_train, y_train, \n",
        "                       batch_size = batch_size, \n",
        "                       epochs = epochs, \n",
        "                       verbose = 1, \n",
        "                       validation_split=0.2)\n",
        "\n",
        "acc_nn_relu_SGD = NN_relu_SGD.evaluate(X_test, y_test, verbose = 1)[1]\n",
        "\n",
        "#plt.figure()\n",
        "#plot_acc(hist_relu_SGD, title = \"Accuracy de zeros\")\n",
        "\n",
        "#plt.figure()\n",
        "#plot_loss(hist_relu_SGD, title = \"Loss de zeros\")"
      ],
      "execution_count": 18,
      "outputs": [
        {
          "output_type": "stream",
          "text": [
            "Train on 48000 samples, validate on 12000 samples\n",
            "Epoch 1/50\n",
            "48000/48000 [==============================] - 5s 104us/step - loss: 2.1553 - acc: 0.2999 - val_loss: 1.5360 - val_acc: 0.5558\n",
            "Epoch 2/50\n",
            "48000/48000 [==============================] - 5s 99us/step - loss: 1.0555 - acc: 0.5960 - val_loss: 0.8251 - val_acc: 0.7060\n",
            "Epoch 3/50\n",
            "48000/48000 [==============================] - 5s 98us/step - loss: 0.7604 - acc: 0.7117 - val_loss: 0.6926 - val_acc: 0.7393\n",
            "Epoch 4/50\n",
            "48000/48000 [==============================] - 5s 97us/step - loss: 0.6497 - acc: 0.7658 - val_loss: 0.6412 - val_acc: 0.7728\n",
            "Epoch 5/50\n",
            "48000/48000 [==============================] - 5s 96us/step - loss: 0.5812 - acc: 0.7946 - val_loss: 0.5530 - val_acc: 0.8105\n",
            "Epoch 6/50\n",
            "48000/48000 [==============================] - 5s 95us/step - loss: 0.5333 - acc: 0.8135 - val_loss: 0.5173 - val_acc: 0.8176\n",
            "Epoch 7/50\n",
            "48000/48000 [==============================] - 5s 97us/step - loss: 0.4999 - acc: 0.8253 - val_loss: 0.4994 - val_acc: 0.8282\n",
            "Epoch 8/50\n",
            "48000/48000 [==============================] - 5s 97us/step - loss: 0.4729 - acc: 0.8345 - val_loss: 0.4696 - val_acc: 0.8389\n",
            "Epoch 9/50\n",
            "48000/48000 [==============================] - 5s 101us/step - loss: 0.4498 - acc: 0.8416 - val_loss: 0.4597 - val_acc: 0.8396\n",
            "Epoch 10/50\n",
            "48000/48000 [==============================] - 5s 102us/step - loss: 0.4326 - acc: 0.8471 - val_loss: 0.4270 - val_acc: 0.8524\n",
            "Epoch 11/50\n",
            "48000/48000 [==============================] - 5s 99us/step - loss: 0.4157 - acc: 0.8538 - val_loss: 0.4347 - val_acc: 0.8462\n",
            "Epoch 12/50\n",
            "48000/48000 [==============================] - 5s 97us/step - loss: 0.4054 - acc: 0.8573 - val_loss: 0.4273 - val_acc: 0.8525\n",
            "Epoch 13/50\n",
            "48000/48000 [==============================] - 5s 97us/step - loss: 0.3912 - acc: 0.8614 - val_loss: 0.4710 - val_acc: 0.8296\n",
            "Epoch 14/50\n",
            "48000/48000 [==============================] - 5s 96us/step - loss: 0.3807 - acc: 0.8657 - val_loss: 0.4059 - val_acc: 0.8564\n",
            "Epoch 15/50\n",
            "48000/48000 [==============================] - 5s 97us/step - loss: 0.3711 - acc: 0.8685 - val_loss: 0.3963 - val_acc: 0.8637\n",
            "Epoch 16/50\n",
            "48000/48000 [==============================] - 5s 94us/step - loss: 0.3613 - acc: 0.8715 - val_loss: 0.3905 - val_acc: 0.8636\n",
            "Epoch 17/50\n",
            "48000/48000 [==============================] - 5s 94us/step - loss: 0.3542 - acc: 0.8740 - val_loss: 0.3991 - val_acc: 0.8579\n",
            "Epoch 18/50\n",
            "48000/48000 [==============================] - 5s 95us/step - loss: 0.3464 - acc: 0.8774 - val_loss: 0.3875 - val_acc: 0.8648\n",
            "Epoch 19/50\n",
            "48000/48000 [==============================] - 5s 97us/step - loss: 0.3391 - acc: 0.8785 - val_loss: 0.3725 - val_acc: 0.8691\n",
            "Epoch 20/50\n",
            "48000/48000 [==============================] - 5s 97us/step - loss: 0.3314 - acc: 0.8810 - val_loss: 0.3741 - val_acc: 0.8661\n",
            "Epoch 21/50\n",
            "48000/48000 [==============================] - 5s 96us/step - loss: 0.3258 - acc: 0.8837 - val_loss: 0.3656 - val_acc: 0.8735\n",
            "Epoch 22/50\n",
            "48000/48000 [==============================] - 5s 95us/step - loss: 0.3182 - acc: 0.8854 - val_loss: 0.3660 - val_acc: 0.8702\n",
            "Epoch 23/50\n",
            "48000/48000 [==============================] - 5s 95us/step - loss: 0.3127 - acc: 0.8879 - val_loss: 0.3520 - val_acc: 0.8767\n",
            "Epoch 24/50\n",
            "48000/48000 [==============================] - 5s 95us/step - loss: 0.3069 - acc: 0.8884 - val_loss: 0.3754 - val_acc: 0.8675\n",
            "Epoch 25/50\n",
            "48000/48000 [==============================] - 5s 95us/step - loss: 0.3014 - acc: 0.8916 - val_loss: 0.3459 - val_acc: 0.8783\n",
            "Epoch 26/50\n",
            "48000/48000 [==============================] - 5s 95us/step - loss: 0.2954 - acc: 0.8929 - val_loss: 0.3504 - val_acc: 0.8744\n",
            "Epoch 27/50\n",
            "48000/48000 [==============================] - 5s 96us/step - loss: 0.2913 - acc: 0.8940 - val_loss: 0.3552 - val_acc: 0.8708\n",
            "Epoch 28/50\n",
            "48000/48000 [==============================] - 5s 98us/step - loss: 0.2845 - acc: 0.8965 - val_loss: 0.3454 - val_acc: 0.8815\n",
            "Epoch 29/50\n",
            "48000/48000 [==============================] - 5s 97us/step - loss: 0.2810 - acc: 0.8971 - val_loss: 0.3765 - val_acc: 0.8688\n",
            "Epoch 30/50\n",
            "48000/48000 [==============================] - 5s 94us/step - loss: 0.2765 - acc: 0.8998 - val_loss: 0.3466 - val_acc: 0.8763\n",
            "Epoch 31/50\n",
            "48000/48000 [==============================] - 5s 95us/step - loss: 0.2716 - acc: 0.9004 - val_loss: 0.3328 - val_acc: 0.8819\n",
            "Epoch 32/50\n",
            "48000/48000 [==============================] - 5s 94us/step - loss: 0.2666 - acc: 0.9036 - val_loss: 0.3380 - val_acc: 0.8783\n",
            "Epoch 33/50\n",
            "48000/48000 [==============================] - 5s 94us/step - loss: 0.2623 - acc: 0.9029 - val_loss: 0.3289 - val_acc: 0.8812\n",
            "Epoch 34/50\n",
            "48000/48000 [==============================] - 5s 96us/step - loss: 0.2571 - acc: 0.9060 - val_loss: 0.3354 - val_acc: 0.8817\n",
            "Epoch 35/50\n",
            "48000/48000 [==============================] - 5s 97us/step - loss: 0.2526 - acc: 0.9074 - val_loss: 0.3243 - val_acc: 0.8853\n",
            "Epoch 36/50\n",
            "48000/48000 [==============================] - 4s 93us/step - loss: 0.2494 - acc: 0.9102 - val_loss: 0.3446 - val_acc: 0.8766\n",
            "Epoch 37/50\n",
            "48000/48000 [==============================] - 5s 94us/step - loss: 0.2452 - acc: 0.9098 - val_loss: 0.3583 - val_acc: 0.8735\n",
            "Epoch 38/50\n",
            "48000/48000 [==============================] - 5s 96us/step - loss: 0.2410 - acc: 0.9128 - val_loss: 0.3314 - val_acc: 0.8839\n",
            "Epoch 39/50\n",
            "48000/48000 [==============================] - 4s 94us/step - loss: 0.2363 - acc: 0.9137 - val_loss: 0.3221 - val_acc: 0.8844\n",
            "Epoch 40/50\n",
            "48000/48000 [==============================] - 5s 95us/step - loss: 0.2329 - acc: 0.9156 - val_loss: 0.3294 - val_acc: 0.8867\n",
            "Epoch 41/50\n",
            "48000/48000 [==============================] - 5s 94us/step - loss: 0.2282 - acc: 0.9171 - val_loss: 0.3341 - val_acc: 0.8838\n",
            "Epoch 42/50\n",
            "48000/48000 [==============================] - 4s 94us/step - loss: 0.2242 - acc: 0.9177 - val_loss: 0.3559 - val_acc: 0.8792\n",
            "Epoch 43/50\n",
            "48000/48000 [==============================] - 4s 93us/step - loss: 0.2212 - acc: 0.9189 - val_loss: 0.3440 - val_acc: 0.8828\n",
            "Epoch 44/50\n",
            "48000/48000 [==============================] - 4s 94us/step - loss: 0.2181 - acc: 0.9206 - val_loss: 0.3467 - val_acc: 0.8778\n",
            "Epoch 45/50\n",
            "48000/48000 [==============================] - 4s 94us/step - loss: 0.2154 - acc: 0.9207 - val_loss: 0.3404 - val_acc: 0.8815\n",
            "Epoch 46/50\n",
            "48000/48000 [==============================] - 5s 95us/step - loss: 0.2120 - acc: 0.9221 - val_loss: 0.3287 - val_acc: 0.8868\n",
            "Epoch 47/50\n",
            "48000/48000 [==============================] - 5s 96us/step - loss: 0.2055 - acc: 0.9246 - val_loss: 0.3354 - val_acc: 0.8845\n",
            "Epoch 48/50\n",
            "48000/48000 [==============================] - 5s 96us/step - loss: 0.2038 - acc: 0.9259 - val_loss: 0.3288 - val_acc: 0.8882\n",
            "Epoch 49/50\n",
            "48000/48000 [==============================] - 5s 95us/step - loss: 0.2001 - acc: 0.9283 - val_loss: 0.3369 - val_acc: 0.8852\n",
            "Epoch 50/50\n",
            "48000/48000 [==============================] - 4s 94us/step - loss: 0.1957 - acc: 0.9284 - val_loss: 0.3248 - val_acc: 0.8893\n",
            "10000/10000 [==============================] - 0s 46us/step\n"
          ],
          "name": "stdout"
        }
      ]
    },
    {
      "cell_type": "markdown",
      "metadata": {
        "id": "VCYrW6TvJWMN",
        "colab_type": "text"
      },
      "source": [
        "### Optimizador Adam"
      ]
    },
    {
      "cell_type": "code",
      "metadata": {
        "id": "yNRS3id_JYyr",
        "colab_type": "code",
        "colab": {
          "base_uri": "https://localhost:8080/",
          "height": 1000
        },
        "outputId": "01bc6d0b-ab9d-4d51-a92b-d45df7f64f02"
      },
      "source": [
        "NN_relu_adam = Sequential()\n",
        "\n",
        "NN_relu_adam.add(Dense(397, input_shape=(784,), activation = 'relu', kernel_initializer = 'random_normal'))\n",
        "NN_relu_adam.add(Dense(128, activation = 'relu', kernel_initializer = 'random_normal'))\n",
        "NN_relu_adam.add(Dense(128, activation = 'relu', kernel_initializer = 'random_normal'))\n",
        "NN_relu_adam.add(Dense(64, activation = 'relu', kernel_initializer = 'random_normal'))\n",
        "NN_relu_adam.add(Dense(10, activation = 'softmax', kernel_initializer = 'random_normal'))\n",
        "\n",
        "NN_relu_adam.compile(optimizer = 'adam', \n",
        "                loss = 'categorical_crossentropy', \n",
        "                metrics = ['acc'])\n",
        "\n",
        "hist_relu_adam = NN_relu_adam.fit(X_train, y_train, \n",
        "                       batch_size = batch_size, \n",
        "                       epochs = epochs, \n",
        "                       verbose = 1, \n",
        "                       validation_split=0.2)\n",
        "\n",
        "acc_nn_relu_adam = NN_relu_adam.evaluate(X_test, y_test, verbose = 1)[1]\n",
        "\n",
        "#plt.figure()\n",
        "#plot_acc(hist_relu_adam, title = \"Accuracy de zeros\")\n",
        "\n",
        "#plt.figure()\n",
        "#plot_loss(hist_relu_adam, title = \"Loss de zeros\")"
      ],
      "execution_count": 19,
      "outputs": [
        {
          "output_type": "stream",
          "text": [
            "Train on 48000 samples, validate on 12000 samples\n",
            "Epoch 1/50\n",
            "48000/48000 [==============================] - 6s 130us/step - loss: 0.5900 - acc: 0.7834 - val_loss: 0.4363 - val_acc: 0.8415\n",
            "Epoch 2/50\n",
            "48000/48000 [==============================] - 6s 127us/step - loss: 0.3933 - acc: 0.8578 - val_loss: 0.3914 - val_acc: 0.8581\n",
            "Epoch 3/50\n",
            "48000/48000 [==============================] - 6s 131us/step - loss: 0.3487 - acc: 0.8729 - val_loss: 0.3540 - val_acc: 0.8662\n",
            "Epoch 4/50\n",
            "48000/48000 [==============================] - 6s 127us/step - loss: 0.3213 - acc: 0.8820 - val_loss: 0.3901 - val_acc: 0.8537\n",
            "Epoch 5/50\n",
            "48000/48000 [==============================] - 6s 128us/step - loss: 0.2973 - acc: 0.8905 - val_loss: 0.3486 - val_acc: 0.8799\n",
            "Epoch 6/50\n",
            "48000/48000 [==============================] - 6s 127us/step - loss: 0.2851 - acc: 0.8946 - val_loss: 0.3166 - val_acc: 0.8828\n",
            "Epoch 7/50\n",
            "48000/48000 [==============================] - 6s 126us/step - loss: 0.2706 - acc: 0.8978 - val_loss: 0.3286 - val_acc: 0.8817\n",
            "Epoch 8/50\n",
            "48000/48000 [==============================] - 6s 126us/step - loss: 0.2548 - acc: 0.9056 - val_loss: 0.3143 - val_acc: 0.8893\n",
            "Epoch 9/50\n",
            "48000/48000 [==============================] - 6s 126us/step - loss: 0.2479 - acc: 0.9076 - val_loss: 0.3497 - val_acc: 0.8824\n",
            "Epoch 10/50\n",
            "48000/48000 [==============================] - 6s 125us/step - loss: 0.2354 - acc: 0.9122 - val_loss: 0.3397 - val_acc: 0.8843\n",
            "Epoch 11/50\n",
            "48000/48000 [==============================] - 6s 125us/step - loss: 0.2307 - acc: 0.9126 - val_loss: 0.3070 - val_acc: 0.8932\n",
            "Epoch 12/50\n",
            "48000/48000 [==============================] - 6s 128us/step - loss: 0.2189 - acc: 0.9181 - val_loss: 0.3466 - val_acc: 0.8840\n",
            "Epoch 13/50\n",
            "48000/48000 [==============================] - 6s 132us/step - loss: 0.2098 - acc: 0.9209 - val_loss: 0.3383 - val_acc: 0.8873\n",
            "Epoch 14/50\n",
            "48000/48000 [==============================] - 6s 127us/step - loss: 0.2016 - acc: 0.9230 - val_loss: 0.3410 - val_acc: 0.8939\n",
            "Epoch 15/50\n",
            "48000/48000 [==============================] - 6s 127us/step - loss: 0.1964 - acc: 0.9254 - val_loss: 0.3363 - val_acc: 0.8913\n",
            "Epoch 16/50\n",
            "48000/48000 [==============================] - 6s 126us/step - loss: 0.1860 - acc: 0.9288 - val_loss: 0.3592 - val_acc: 0.8903\n",
            "Epoch 17/50\n",
            "48000/48000 [==============================] - 6s 127us/step - loss: 0.1829 - acc: 0.9296 - val_loss: 0.3710 - val_acc: 0.8815\n",
            "Epoch 18/50\n",
            "48000/48000 [==============================] - 6s 127us/step - loss: 0.1796 - acc: 0.9332 - val_loss: 0.3313 - val_acc: 0.8952\n",
            "Epoch 19/50\n",
            "48000/48000 [==============================] - 6s 127us/step - loss: 0.1701 - acc: 0.9356 - val_loss: 0.4086 - val_acc: 0.8893\n",
            "Epoch 20/50\n",
            "48000/48000 [==============================] - 6s 132us/step - loss: 0.1684 - acc: 0.9360 - val_loss: 0.3631 - val_acc: 0.8863\n",
            "Epoch 21/50\n",
            "48000/48000 [==============================] - 7s 136us/step - loss: 0.1583 - acc: 0.9399 - val_loss: 0.3428 - val_acc: 0.8957\n",
            "Epoch 22/50\n",
            "48000/48000 [==============================] - 6s 127us/step - loss: 0.1518 - acc: 0.9417 - val_loss: 0.3845 - val_acc: 0.8926\n",
            "Epoch 23/50\n",
            "48000/48000 [==============================] - 6s 129us/step - loss: 0.1531 - acc: 0.9420 - val_loss: 0.3730 - val_acc: 0.9001\n",
            "Epoch 24/50\n",
            "48000/48000 [==============================] - 6s 128us/step - loss: 0.1463 - acc: 0.9441 - val_loss: 0.3652 - val_acc: 0.8929\n",
            "Epoch 25/50\n",
            "48000/48000 [==============================] - 6s 126us/step - loss: 0.1448 - acc: 0.9452 - val_loss: 0.3895 - val_acc: 0.8972\n",
            "Epoch 26/50\n",
            "48000/48000 [==============================] - 6s 129us/step - loss: 0.1348 - acc: 0.9492 - val_loss: 0.3903 - val_acc: 0.8949\n",
            "Epoch 27/50\n",
            "48000/48000 [==============================] - 6s 127us/step - loss: 0.1334 - acc: 0.9488 - val_loss: 0.4079 - val_acc: 0.8938\n",
            "Epoch 28/50\n",
            "48000/48000 [==============================] - 6s 129us/step - loss: 0.1305 - acc: 0.9499 - val_loss: 0.4247 - val_acc: 0.8935\n",
            "Epoch 29/50\n",
            "48000/48000 [==============================] - 6s 127us/step - loss: 0.1271 - acc: 0.9515 - val_loss: 0.4193 - val_acc: 0.8963\n",
            "Epoch 30/50\n",
            "48000/48000 [==============================] - 6s 128us/step - loss: 0.1245 - acc: 0.9523 - val_loss: 0.3977 - val_acc: 0.8983\n",
            "Epoch 31/50\n",
            "48000/48000 [==============================] - 6s 128us/step - loss: 0.1195 - acc: 0.9545 - val_loss: 0.4334 - val_acc: 0.8970\n",
            "Epoch 32/50\n",
            "48000/48000 [==============================] - 6s 128us/step - loss: 0.1175 - acc: 0.9548 - val_loss: 0.4398 - val_acc: 0.8893\n",
            "Epoch 33/50\n",
            "48000/48000 [==============================] - 6s 129us/step - loss: 0.1162 - acc: 0.9553 - val_loss: 0.4162 - val_acc: 0.8947\n",
            "Epoch 34/50\n",
            "48000/48000 [==============================] - 6s 128us/step - loss: 0.1121 - acc: 0.9566 - val_loss: 0.4532 - val_acc: 0.8897\n",
            "Epoch 35/50\n",
            "48000/48000 [==============================] - 6s 125us/step - loss: 0.1082 - acc: 0.9580 - val_loss: 0.4440 - val_acc: 0.8969\n",
            "Epoch 36/50\n",
            "48000/48000 [==============================] - 6s 128us/step - loss: 0.1076 - acc: 0.9586 - val_loss: 0.4909 - val_acc: 0.8957\n",
            "Epoch 37/50\n",
            "48000/48000 [==============================] - 6s 127us/step - loss: 0.1039 - acc: 0.9593 - val_loss: 0.4522 - val_acc: 0.8961\n",
            "Epoch 38/50\n",
            "48000/48000 [==============================] - 6s 128us/step - loss: 0.1002 - acc: 0.9605 - val_loss: 0.4550 - val_acc: 0.8978\n",
            "Epoch 39/50\n",
            "48000/48000 [==============================] - 6s 130us/step - loss: 0.1007 - acc: 0.9616 - val_loss: 0.4812 - val_acc: 0.8957\n",
            "Epoch 40/50\n",
            "48000/48000 [==============================] - 6s 131us/step - loss: 0.0980 - acc: 0.9628 - val_loss: 0.4775 - val_acc: 0.8954\n",
            "Epoch 41/50\n",
            "48000/48000 [==============================] - 6s 130us/step - loss: 0.0929 - acc: 0.9645 - val_loss: 0.4757 - val_acc: 0.8978\n",
            "Epoch 42/50\n",
            "48000/48000 [==============================] - 6s 130us/step - loss: 0.0920 - acc: 0.9639 - val_loss: 0.5385 - val_acc: 0.8927\n",
            "Epoch 43/50\n",
            "48000/48000 [==============================] - 6s 130us/step - loss: 0.0978 - acc: 0.9616 - val_loss: 0.4722 - val_acc: 0.8968\n",
            "Epoch 44/50\n",
            "48000/48000 [==============================] - 6s 130us/step - loss: 0.0849 - acc: 0.9678 - val_loss: 0.5274 - val_acc: 0.8953\n",
            "Epoch 45/50\n",
            "48000/48000 [==============================] - 6s 129us/step - loss: 0.0859 - acc: 0.9661 - val_loss: 0.5078 - val_acc: 0.8922\n",
            "Epoch 46/50\n",
            "48000/48000 [==============================] - 6s 128us/step - loss: 0.0855 - acc: 0.9660 - val_loss: 0.4774 - val_acc: 0.8990\n",
            "Epoch 47/50\n",
            "48000/48000 [==============================] - 6s 129us/step - loss: 0.0856 - acc: 0.9664 - val_loss: 0.5140 - val_acc: 0.8963\n",
            "Epoch 48/50\n",
            "48000/48000 [==============================] - 6s 129us/step - loss: 0.0793 - acc: 0.9698 - val_loss: 0.5398 - val_acc: 0.9007\n",
            "Epoch 49/50\n",
            "48000/48000 [==============================] - 6s 128us/step - loss: 0.0820 - acc: 0.9686 - val_loss: 0.5233 - val_acc: 0.8963\n",
            "Epoch 50/50\n",
            "48000/48000 [==============================] - 6s 127us/step - loss: 0.0776 - acc: 0.9699 - val_loss: 0.5270 - val_acc: 0.8996\n",
            "10000/10000 [==============================] - 0s 46us/step\n"
          ],
          "name": "stdout"
        }
      ]
    },
    {
      "cell_type": "markdown",
      "metadata": {
        "id": "dGh4iFQNJcIk",
        "colab_type": "text"
      },
      "source": [
        "### Optimizador RMSprop"
      ]
    },
    {
      "cell_type": "code",
      "metadata": {
        "id": "esyBQ9gVJeNL",
        "colab_type": "code",
        "colab": {
          "base_uri": "https://localhost:8080/",
          "height": 1000
        },
        "outputId": "4723158f-52d4-4a8f-9800-5c0bd28af906"
      },
      "source": [
        "NN_relu_RMS = Sequential()\n",
        "\n",
        "NN_relu_RMS.add(Dense(397, input_shape=(784,), activation = 'relu', kernel_initializer = 'random_normal'))\n",
        "NN_relu_RMS.add(Dense(128, activation = 'relu', kernel_initializer = 'random_normal'))\n",
        "NN_relu_RMS.add(Dense(128, activation = 'relu', kernel_initializer = 'random_normal'))\n",
        "NN_relu_RMS.add(Dense(64, activation = 'relu', kernel_initializer = 'random_normal'))\n",
        "NN_relu_RMS.add(Dense(10, activation = 'softmax', kernel_initializer = 'random_normal'))\n",
        "\n",
        "NN_relu_RMS.compile(optimizer = 'RMSprop', \n",
        "                loss = 'categorical_crossentropy', \n",
        "                metrics = ['acc'])\n",
        "\n",
        "hist_relu_RMS = NN_relu_RMS.fit(X_train, y_train, \n",
        "                       batch_size = batch_size, \n",
        "                       epochs = epochs, \n",
        "                       verbose = 1, \n",
        "                       validation_split=0.2)\n",
        "\n",
        "acc_nn_relu_RMS = NN_relu_RMS.evaluate(X_test, y_test, verbose = 1)[1]\n",
        "\n",
        "#plt.figure()\n",
        "#plot_acc(hist_relu_RMS, title = \"Accuracy de zeros\")\n",
        "\n",
        "#plt.figure()\n",
        "#plot_loss(hist_relu_RMS, title = \"Loss de zeros\")"
      ],
      "execution_count": 20,
      "outputs": [
        {
          "output_type": "stream",
          "text": [
            "Train on 48000 samples, validate on 12000 samples\n",
            "Epoch 1/50\n",
            "48000/48000 [==============================] - 6s 115us/step - loss: 0.6084 - acc: 0.7719 - val_loss: 0.4284 - val_acc: 0.8466\n",
            "Epoch 2/50\n",
            "48000/48000 [==============================] - 5s 113us/step - loss: 0.4012 - acc: 0.8526 - val_loss: 0.4295 - val_acc: 0.8432\n",
            "Epoch 3/50\n",
            "48000/48000 [==============================] - 5s 113us/step - loss: 0.3598 - acc: 0.8697 - val_loss: 0.3594 - val_acc: 0.8753\n",
            "Epoch 4/50\n",
            "48000/48000 [==============================] - 5s 114us/step - loss: 0.3332 - acc: 0.8801 - val_loss: 0.3834 - val_acc: 0.8588\n",
            "Epoch 5/50\n",
            "48000/48000 [==============================] - 5s 113us/step - loss: 0.3169 - acc: 0.8846 - val_loss: 0.3754 - val_acc: 0.8787\n",
            "Epoch 6/50\n",
            "48000/48000 [==============================] - 6s 115us/step - loss: 0.3055 - acc: 0.8906 - val_loss: 0.3714 - val_acc: 0.8708\n",
            "Epoch 7/50\n",
            "48000/48000 [==============================] - 5s 112us/step - loss: 0.2971 - acc: 0.8927 - val_loss: 0.3585 - val_acc: 0.8764\n",
            "Epoch 8/50\n",
            "48000/48000 [==============================] - 5s 113us/step - loss: 0.2956 - acc: 0.8936 - val_loss: 0.3576 - val_acc: 0.8848\n",
            "Epoch 9/50\n",
            "48000/48000 [==============================] - 6s 116us/step - loss: 0.2887 - acc: 0.8968 - val_loss: 0.3623 - val_acc: 0.8748\n",
            "Epoch 10/50\n",
            "48000/48000 [==============================] - 6s 115us/step - loss: 0.2898 - acc: 0.8980 - val_loss: 0.3596 - val_acc: 0.8852\n",
            "Epoch 11/50\n",
            "48000/48000 [==============================] - 5s 113us/step - loss: 0.2894 - acc: 0.8994 - val_loss: 0.3524 - val_acc: 0.8894\n",
            "Epoch 12/50\n",
            "48000/48000 [==============================] - 5s 113us/step - loss: 0.2867 - acc: 0.8999 - val_loss: 0.3884 - val_acc: 0.8842\n",
            "Epoch 13/50\n",
            "48000/48000 [==============================] - 6s 116us/step - loss: 0.2814 - acc: 0.9004 - val_loss: 0.3795 - val_acc: 0.8842\n",
            "Epoch 14/50\n",
            "48000/48000 [==============================] - 6s 120us/step - loss: 0.2773 - acc: 0.9028 - val_loss: 0.4893 - val_acc: 0.8773\n",
            "Epoch 15/50\n",
            "48000/48000 [==============================] - 5s 112us/step - loss: 0.2722 - acc: 0.9051 - val_loss: 0.4346 - val_acc: 0.8752\n",
            "Epoch 16/50\n",
            "48000/48000 [==============================] - 5s 113us/step - loss: 0.2669 - acc: 0.9062 - val_loss: 0.4423 - val_acc: 0.8857\n",
            "Epoch 17/50\n",
            "48000/48000 [==============================] - 5s 113us/step - loss: 0.2689 - acc: 0.9068 - val_loss: 0.4229 - val_acc: 0.8864\n",
            "Epoch 18/50\n",
            "48000/48000 [==============================] - 6s 116us/step - loss: 0.2662 - acc: 0.9085 - val_loss: 0.4764 - val_acc: 0.8809\n",
            "Epoch 19/50\n",
            "48000/48000 [==============================] - 5s 112us/step - loss: 0.2632 - acc: 0.9096 - val_loss: 0.5875 - val_acc: 0.8855\n",
            "Epoch 20/50\n",
            "48000/48000 [==============================] - 5s 112us/step - loss: 0.2638 - acc: 0.9100 - val_loss: 0.4839 - val_acc: 0.8791\n",
            "Epoch 21/50\n",
            "48000/48000 [==============================] - 6s 116us/step - loss: 0.2596 - acc: 0.9109 - val_loss: 0.5327 - val_acc: 0.8864\n",
            "Epoch 22/50\n",
            "48000/48000 [==============================] - 5s 111us/step - loss: 0.2614 - acc: 0.9123 - val_loss: 0.4674 - val_acc: 0.8901\n",
            "Epoch 23/50\n",
            "48000/48000 [==============================] - 6s 118us/step - loss: 0.2592 - acc: 0.9141 - val_loss: 0.5992 - val_acc: 0.8819\n",
            "Epoch 24/50\n",
            "48000/48000 [==============================] - 6s 119us/step - loss: 0.2558 - acc: 0.9138 - val_loss: 0.5544 - val_acc: 0.8816\n",
            "Epoch 25/50\n",
            "48000/48000 [==============================] - 5s 112us/step - loss: 0.2649 - acc: 0.9158 - val_loss: 0.6214 - val_acc: 0.8813\n",
            "Epoch 26/50\n",
            "48000/48000 [==============================] - 5s 112us/step - loss: 0.2585 - acc: 0.9149 - val_loss: 0.5827 - val_acc: 0.8912\n",
            "Epoch 27/50\n",
            "48000/48000 [==============================] - 5s 112us/step - loss: 0.2527 - acc: 0.9180 - val_loss: 0.6898 - val_acc: 0.8848\n",
            "Epoch 28/50\n",
            "48000/48000 [==============================] - 5s 114us/step - loss: 0.2538 - acc: 0.9178 - val_loss: 0.5746 - val_acc: 0.8930\n",
            "Epoch 29/50\n",
            "48000/48000 [==============================] - 6s 117us/step - loss: 0.2454 - acc: 0.9185 - val_loss: 0.7781 - val_acc: 0.8878\n",
            "Epoch 30/50\n",
            "48000/48000 [==============================] - 6s 117us/step - loss: 0.2463 - acc: 0.9207 - val_loss: 0.8877 - val_acc: 0.8870\n",
            "Epoch 31/50\n",
            "48000/48000 [==============================] - 6s 117us/step - loss: 0.2433 - acc: 0.9200 - val_loss: 0.5977 - val_acc: 0.8881\n",
            "Epoch 32/50\n",
            "48000/48000 [==============================] - 6s 116us/step - loss: 0.2560 - acc: 0.9209 - val_loss: 0.7764 - val_acc: 0.8773\n",
            "Epoch 33/50\n",
            "48000/48000 [==============================] - 6s 116us/step - loss: 0.2401 - acc: 0.9233 - val_loss: 0.6768 - val_acc: 0.8847\n",
            "Epoch 34/50\n",
            "48000/48000 [==============================] - 6s 119us/step - loss: 0.2417 - acc: 0.9231 - val_loss: 0.7937 - val_acc: 0.8894\n",
            "Epoch 35/50\n",
            "48000/48000 [==============================] - 6s 119us/step - loss: 0.2389 - acc: 0.9224 - val_loss: 0.8025 - val_acc: 0.8860\n",
            "Epoch 36/50\n",
            "48000/48000 [==============================] - 6s 118us/step - loss: 0.2346 - acc: 0.9226 - val_loss: 0.8292 - val_acc: 0.8902\n",
            "Epoch 37/50\n",
            "48000/48000 [==============================] - 6s 118us/step - loss: 0.2339 - acc: 0.9242 - val_loss: 0.6673 - val_acc: 0.8848\n",
            "Epoch 38/50\n",
            "48000/48000 [==============================] - 6s 117us/step - loss: 0.2460 - acc: 0.9240 - val_loss: 0.7237 - val_acc: 0.8838\n",
            "Epoch 39/50\n",
            "48000/48000 [==============================] - 6s 118us/step - loss: 0.2325 - acc: 0.9247 - val_loss: 0.8154 - val_acc: 0.8892\n",
            "Epoch 40/50\n",
            "48000/48000 [==============================] - 6s 117us/step - loss: 0.2444 - acc: 0.9267 - val_loss: 0.7185 - val_acc: 0.8862\n",
            "Epoch 41/50\n",
            "48000/48000 [==============================] - 6s 116us/step - loss: 0.2433 - acc: 0.9269 - val_loss: 0.8469 - val_acc: 0.8749\n",
            "Epoch 42/50\n",
            "48000/48000 [==============================] - 6s 117us/step - loss: 0.2458 - acc: 0.9266 - val_loss: 0.7715 - val_acc: 0.8842\n",
            "Epoch 43/50\n",
            "48000/48000 [==============================] - 6s 116us/step - loss: 0.2226 - acc: 0.9292 - val_loss: 1.2171 - val_acc: 0.8890\n",
            "Epoch 44/50\n",
            "48000/48000 [==============================] - 6s 116us/step - loss: 0.2344 - acc: 0.9299 - val_loss: 1.1759 - val_acc: 0.8781\n",
            "Epoch 45/50\n",
            "48000/48000 [==============================] - 6s 119us/step - loss: 0.2310 - acc: 0.9303 - val_loss: 0.8786 - val_acc: 0.8838\n",
            "Epoch 46/50\n",
            "48000/48000 [==============================] - 6s 117us/step - loss: 0.2291 - acc: 0.9284 - val_loss: 1.6758 - val_acc: 0.8633\n",
            "Epoch 47/50\n",
            "48000/48000 [==============================] - 6s 119us/step - loss: 0.2281 - acc: 0.9317 - val_loss: 1.2723 - val_acc: 0.8930\n",
            "Epoch 48/50\n",
            "48000/48000 [==============================] - 6s 121us/step - loss: 0.2365 - acc: 0.9321 - val_loss: 0.9334 - val_acc: 0.8878\n",
            "Epoch 49/50\n",
            "48000/48000 [==============================] - 6s 118us/step - loss: 0.2232 - acc: 0.9329 - val_loss: 1.1164 - val_acc: 0.8889\n",
            "Epoch 50/50\n",
            "48000/48000 [==============================] - 6s 117us/step - loss: 0.2189 - acc: 0.9330 - val_loss: 1.0402 - val_acc: 0.8912\n",
            "10000/10000 [==============================] - 0s 49us/step\n"
          ],
          "name": "stdout"
        }
      ]
    },
    {
      "cell_type": "markdown",
      "metadata": {
        "id": "LB8PLDDkJgMb",
        "colab_type": "text"
      },
      "source": [
        "### Comparativa de redes"
      ]
    },
    {
      "cell_type": "code",
      "metadata": {
        "id": "1vCQjLK0JiJc",
        "colab_type": "code",
        "colab": {
          "base_uri": "https://localhost:8080/",
          "height": 295
        },
        "outputId": "4192a27d-5d77-49cf-f5be-efe628f4db7a"
      },
      "source": [
        "plot_compare_losses(hist_relu_SGD, hist_relu_adam, hist_relu_RMS, \n",
        "                    name1=\"Red SGD\", name2=\"Red adam\", name3=\"Red RMSprop\", \n",
        "                    title = \"Comparativa de losses optimizadores\")"
      ],
      "execution_count": 21,
      "outputs": [
        {
          "output_type": "display_data",
          "data": {
            "image/png": "[encoded data removed]",
            "text/plain": [
              "<Figure size 432x288 with 1 Axes>"
            ]
          },
          "metadata": {
            "tags": [],
            "needs_background": "light"
          }
        }
      ]
    },
    {
      "cell_type": "code",
      "metadata": {
        "id": "ViOUnitTJjxS",
        "colab_type": "code",
        "colab": {
          "base_uri": "https://localhost:8080/",
          "height": 295
        },
        "outputId": "1ce8f46b-4767-4f0f-88a3-d9f51f1e81a5"
      },
      "source": [
        "plot_compare_accs(hist_relu_SGD, hist_relu_adam, hist_relu_RMS, \n",
        "                  name1=\"Red SGD\", name2=\"Red adam\", name3=\"Red RMSprop\", \n",
        "                  title = \"Comparativa de losses optimizadores\")"
      ],
      "execution_count": 22,
      "outputs": [
        {
          "output_type": "display_data",
          "data": {
            "image/png": "[encoded data removed]",
            "text/plain": [
              "<Figure size 432x288 with 1 Axes>"
            ]
          },
          "metadata": {
            "tags": [],
            "needs_background": "light"
          }
        }
      ]
    },
    {
      "cell_type": "code",
      "metadata": {
        "id": "RR_3EXYrJmlL",
        "colab_type": "code",
        "colab": {
          "base_uri": "https://localhost:8080/",
          "height": 87
        },
        "outputId": "944e930a-2739-4db1-b0ce-7ecb6d032834"
      },
      "source": [
        "print(\"Las comparativas de accuracy con el dataset de test es:\\n\", \n",
        "      acc_nn_relu_SGD, \"para SGD\\n\", \n",
        "      acc_nn_relu_adam, \"para adam\\n\",\n",
        "      acc_nn_relu_RMS, \"para RMSprop\")"
      ],
      "execution_count": 23,
      "outputs": [
        {
          "output_type": "stream",
          "text": [
            "Las comparativas de accuracy con el dataset de test es:\n",
            " 0.880299985408783 para SGD\n",
            " 0.8932999968528748 para adam\n",
            " 0.8852999806404114 para RMSprop\n"
          ],
          "name": "stdout"
        }
      ]
    },
    {
      "cell_type": "markdown",
      "metadata": {
        "id": "fmvZ2Mk1JoOC",
        "colab_type": "text"
      },
      "source": [
        "El mejor optimizador es adam"
      ]
    },
    {
      "cell_type": "markdown",
      "metadata": {
        "id": "BkfTFoJOTFqZ",
        "colab_type": "text"
      },
      "source": [
        "## 4. Regularización y red final *(1.25 puntos)*"
      ]
    },
    {
      "cell_type": "markdown",
      "metadata": {
        "id": "f6CQhK7ZTFqZ",
        "colab_type": "text"
      },
      "source": [
        "**Ejercicio 4.1**: Entrenar una red final que sea capaz de obtener una accuracy en el validation set cercana al 90%. Para ello, combinar todo lo aprendido anteriormente y utilizar técnicas de regularización para evitar overfitting. Algunos de los elementos que pueden tenerse en cuenta son los siguientes.\n",
        "\n",
        "* Número de capas y neuronas por capa\n",
        "* Optimizadores y sus parámetros\n",
        "* Batch size\n",
        "* Unidades de activación\n",
        "* Uso de capas dropout, regularización L2, regularización L1...\n",
        "* Early stopping (se puede aplicar como un callback de Keras, o se puede ver un poco \"a ojo\" cuándo el modelo empieza a caer en overfitting y seleccionar el número de epochs necesarias)\n",
        "* Batch normalization\n",
        "\n",
        "Si los modelos entrenados anteriormente ya se acercaban al valor requerido de accuracy, probar distintas estrategias igualmente y comentar los resultados.\n",
        "\n",
        "Explicar brevemente la estrategia seguida y los modelos probados para obtener el modelo final, que debe verse entrenado en este Notebook. No es necesario guardar el entrenamiento de todos los modelos que se han probado, es suficiente con explicar cómo se ha llegado al modelo final."
      ]
    },
    {
      "cell_type": "markdown",
      "metadata": {
        "id": "Pvle55gZJwnI",
        "colab_type": "text"
      },
      "source": [
        "### Cambio de arquitectura"
      ]
    },
    {
      "cell_type": "code",
      "metadata": {
        "id": "AUJ5AtunTFqa",
        "colab_type": "code",
        "colab": {
          "base_uri": "https://localhost:8080/",
          "height": 1000
        },
        "outputId": "7a533a09-e2f2-4590-fd69-453c5f16cd12"
      },
      "source": [
        "NN_relu_fin1 = Sequential()\n",
        "\n",
        "NN_relu_fin1.add(Dense(128, input_shape=(784,), activation = 'relu', kernel_initializer = 'random_normal'))\n",
        "NN_relu_fin1.add(Dense(64, activation = 'relu', kernel_initializer = 'random_normal'))\n",
        "NN_relu_fin1.add(Dense(64, activation = 'relu', kernel_initializer = 'random_normal'))\n",
        "NN_relu_fin1.add(Dense(10, activation = 'softmax', kernel_initializer = 'random_normal'))\n",
        "\n",
        "NN_relu_fin1.compile(optimizer = 'adam', \n",
        "                loss = 'categorical_crossentropy', \n",
        "                metrics = ['acc'])\n",
        "\n",
        "hist_relu_fin1 = NN_relu_fin1.fit(X_train, y_train, \n",
        "                       batch_size = batch_size, \n",
        "                       epochs = epochs, \n",
        "                       verbose = 1, \n",
        "                       validation_split=0.2)\n",
        "\n",
        "acc_nn_relu_fin1 = NN_relu_fin1.evaluate(X_test, y_test, verbose = 1)[1]"
      ],
      "execution_count": 24,
      "outputs": [
        {
          "output_type": "stream",
          "text": [
            "Train on 48000 samples, validate on 12000 samples\n",
            "Epoch 1/50\n",
            "48000/48000 [==============================] - 3s 64us/step - loss: 0.6372 - acc: 0.7727 - val_loss: 0.4661 - val_acc: 0.8311\n",
            "Epoch 2/50\n",
            "48000/48000 [==============================] - 3s 61us/step - loss: 0.4170 - acc: 0.8511 - val_loss: 0.4055 - val_acc: 0.8537\n",
            "Epoch 3/50\n",
            "48000/48000 [==============================] - 3s 61us/step - loss: 0.3644 - acc: 0.8677 - val_loss: 0.3717 - val_acc: 0.8662\n",
            "Epoch 4/50\n",
            "48000/48000 [==============================] - 3s 59us/step - loss: 0.3371 - acc: 0.8770 - val_loss: 0.3488 - val_acc: 0.8757\n",
            "Epoch 5/50\n",
            "48000/48000 [==============================] - 3s 58us/step - loss: 0.3160 - acc: 0.8839 - val_loss: 0.3440 - val_acc: 0.8804\n",
            "Epoch 6/50\n",
            "48000/48000 [==============================] - 3s 60us/step - loss: 0.2996 - acc: 0.8894 - val_loss: 0.3324 - val_acc: 0.8793\n",
            "Epoch 7/50\n",
            "48000/48000 [==============================] - 3s 60us/step - loss: 0.2836 - acc: 0.8942 - val_loss: 0.3411 - val_acc: 0.8797\n",
            "Epoch 8/50\n",
            "48000/48000 [==============================] - 3s 60us/step - loss: 0.2746 - acc: 0.8977 - val_loss: 0.3309 - val_acc: 0.8843\n",
            "Epoch 9/50\n",
            "48000/48000 [==============================] - 3s 59us/step - loss: 0.2651 - acc: 0.9012 - val_loss: 0.3489 - val_acc: 0.8720\n",
            "Epoch 10/50\n",
            "48000/48000 [==============================] - 3s 60us/step - loss: 0.2542 - acc: 0.9049 - val_loss: 0.3205 - val_acc: 0.8888\n",
            "Epoch 11/50\n",
            "48000/48000 [==============================] - 3s 65us/step - loss: 0.2468 - acc: 0.9071 - val_loss: 0.3272 - val_acc: 0.8839\n",
            "Epoch 12/50\n",
            "48000/48000 [==============================] - 3s 65us/step - loss: 0.2381 - acc: 0.9112 - val_loss: 0.3288 - val_acc: 0.8874\n",
            "Epoch 13/50\n",
            "48000/48000 [==============================] - 3s 66us/step - loss: 0.2307 - acc: 0.9128 - val_loss: 0.3187 - val_acc: 0.8864\n",
            "Epoch 14/50\n",
            "48000/48000 [==============================] - 3s 62us/step - loss: 0.2204 - acc: 0.9173 - val_loss: 0.3356 - val_acc: 0.8888\n",
            "Epoch 15/50\n",
            "48000/48000 [==============================] - 3s 63us/step - loss: 0.2154 - acc: 0.9193 - val_loss: 0.3286 - val_acc: 0.8881\n",
            "Epoch 16/50\n",
            "48000/48000 [==============================] - 3s 66us/step - loss: 0.2094 - acc: 0.9223 - val_loss: 0.3453 - val_acc: 0.8867\n",
            "Epoch 17/50\n",
            "48000/48000 [==============================] - 3s 62us/step - loss: 0.2053 - acc: 0.9225 - val_loss: 0.3494 - val_acc: 0.8877\n",
            "Epoch 18/50\n",
            "48000/48000 [==============================] - 3s 65us/step - loss: 0.1962 - acc: 0.9253 - val_loss: 0.3498 - val_acc: 0.8902\n",
            "Epoch 19/50\n",
            "48000/48000 [==============================] - 3s 63us/step - loss: 0.1917 - acc: 0.9264 - val_loss: 0.3221 - val_acc: 0.8928\n",
            "Epoch 20/50\n",
            "48000/48000 [==============================] - 3s 62us/step - loss: 0.1861 - acc: 0.9289 - val_loss: 0.3366 - val_acc: 0.8915\n",
            "Epoch 21/50\n",
            "48000/48000 [==============================] - 3s 67us/step - loss: 0.1805 - acc: 0.9314 - val_loss: 0.3363 - val_acc: 0.8936\n",
            "Epoch 22/50\n",
            "48000/48000 [==============================] - 3s 65us/step - loss: 0.1727 - acc: 0.9344 - val_loss: 0.3538 - val_acc: 0.8919\n",
            "Epoch 23/50\n",
            "48000/48000 [==============================] - 3s 65us/step - loss: 0.1690 - acc: 0.9362 - val_loss: 0.3481 - val_acc: 0.8923\n",
            "Epoch 24/50\n",
            "48000/48000 [==============================] - 3s 66us/step - loss: 0.1624 - acc: 0.9375 - val_loss: 0.3541 - val_acc: 0.8953\n",
            "Epoch 25/50\n",
            "48000/48000 [==============================] - 3s 68us/step - loss: 0.1610 - acc: 0.9380 - val_loss: 0.3848 - val_acc: 0.8827\n",
            "Epoch 26/50\n",
            "48000/48000 [==============================] - 3s 67us/step - loss: 0.1539 - acc: 0.9420 - val_loss: 0.3672 - val_acc: 0.8957\n",
            "Epoch 27/50\n",
            "48000/48000 [==============================] - 3s 63us/step - loss: 0.1546 - acc: 0.9426 - val_loss: 0.3804 - val_acc: 0.8923\n",
            "Epoch 28/50\n",
            "48000/48000 [==============================] - 3s 66us/step - loss: 0.1459 - acc: 0.9457 - val_loss: 0.3596 - val_acc: 0.8933\n",
            "Epoch 29/50\n",
            "48000/48000 [==============================] - 3s 64us/step - loss: 0.1428 - acc: 0.9460 - val_loss: 0.3871 - val_acc: 0.8864\n",
            "Epoch 30/50\n",
            "48000/48000 [==============================] - 3s 64us/step - loss: 0.1374 - acc: 0.9471 - val_loss: 0.3842 - val_acc: 0.8947\n",
            "Epoch 31/50\n",
            "48000/48000 [==============================] - 3s 65us/step - loss: 0.1378 - acc: 0.9472 - val_loss: 0.3979 - val_acc: 0.8913\n",
            "Epoch 32/50\n",
            "48000/48000 [==============================] - 3s 65us/step - loss: 0.1326 - acc: 0.9482 - val_loss: 0.4382 - val_acc: 0.8895\n",
            "Epoch 33/50\n",
            "48000/48000 [==============================] - 4s 74us/step - loss: 0.1311 - acc: 0.9502 - val_loss: 0.4234 - val_acc: 0.8930\n",
            "Epoch 34/50\n",
            "48000/48000 [==============================] - 3s 72us/step - loss: 0.1305 - acc: 0.9511 - val_loss: 0.3991 - val_acc: 0.8932\n",
            "Epoch 35/50\n",
            "48000/48000 [==============================] - 3s 64us/step - loss: 0.1229 - acc: 0.9530 - val_loss: 0.4237 - val_acc: 0.8932\n",
            "Epoch 36/50\n",
            "48000/48000 [==============================] - 3s 62us/step - loss: 0.1196 - acc: 0.9540 - val_loss: 0.4143 - val_acc: 0.8946\n",
            "Epoch 37/50\n",
            "48000/48000 [==============================] - 3s 62us/step - loss: 0.1215 - acc: 0.9532 - val_loss: 0.4290 - val_acc: 0.8917\n",
            "Epoch 38/50\n",
            "48000/48000 [==============================] - 3s 62us/step - loss: 0.1130 - acc: 0.9564 - val_loss: 0.4236 - val_acc: 0.8943\n",
            "Epoch 39/50\n",
            "48000/48000 [==============================] - 3s 63us/step - loss: 0.1162 - acc: 0.9559 - val_loss: 0.4578 - val_acc: 0.8928\n",
            "Epoch 40/50\n",
            "48000/48000 [==============================] - 3s 62us/step - loss: 0.1128 - acc: 0.9581 - val_loss: 0.4639 - val_acc: 0.8891\n",
            "Epoch 41/50\n",
            "48000/48000 [==============================] - 3s 60us/step - loss: 0.1078 - acc: 0.9596 - val_loss: 0.4533 - val_acc: 0.8897\n",
            "Epoch 42/50\n",
            "48000/48000 [==============================] - 3s 60us/step - loss: 0.1096 - acc: 0.9579 - val_loss: 0.4344 - val_acc: 0.8943\n",
            "Epoch 43/50\n",
            "48000/48000 [==============================] - 3s 63us/step - loss: 0.1039 - acc: 0.9602 - val_loss: 0.5025 - val_acc: 0.8888\n",
            "Epoch 44/50\n",
            "48000/48000 [==============================] - 3s 60us/step - loss: 0.1058 - acc: 0.9591 - val_loss: 0.4751 - val_acc: 0.8913\n",
            "Epoch 45/50\n",
            "48000/48000 [==============================] - 3s 59us/step - loss: 0.1013 - acc: 0.9602 - val_loss: 0.4966 - val_acc: 0.8925\n",
            "Epoch 46/50\n",
            "48000/48000 [==============================] - 3s 60us/step - loss: 0.0973 - acc: 0.9626 - val_loss: 0.5495 - val_acc: 0.8885\n",
            "Epoch 47/50\n",
            "48000/48000 [==============================] - 3s 59us/step - loss: 0.1036 - acc: 0.9600 - val_loss: 0.4650 - val_acc: 0.8922\n",
            "Epoch 48/50\n",
            "48000/48000 [==============================] - 3s 59us/step - loss: 0.0922 - acc: 0.9645 - val_loss: 0.5095 - val_acc: 0.8892\n",
            "Epoch 49/50\n",
            "48000/48000 [==============================] - 3s 59us/step - loss: 0.0963 - acc: 0.9633 - val_loss: 0.5099 - val_acc: 0.8894\n",
            "Epoch 50/50\n",
            "48000/48000 [==============================] - 3s 59us/step - loss: 0.0887 - acc: 0.9657 - val_loss: 0.5078 - val_acc: 0.8917\n",
            "10000/10000 [==============================] - 0s 26us/step\n"
          ],
          "name": "stdout"
        }
      ]
    },
    {
      "cell_type": "code",
      "metadata": {
        "id": "0Z45Hgq7J2ux",
        "colab_type": "code",
        "colab": {
          "base_uri": "https://localhost:8080/",
          "height": 547
        },
        "outputId": "37c4393f-83ad-42be-9c8f-7fb12fa56d2e"
      },
      "source": [
        "plot_acc(hist_relu_fin1, title = \"Accuracy arquitectura cambiada\")\n",
        "plt.grid(True)"
      ],
      "execution_count": 25,
      "outputs": [
        {
          "output_type": "display_data",
          "data": {
            "image/png": "[encoded data removed]",
            "text/plain": [
              "<Figure size 432x288 with 1 Axes>"
            ]
          },
          "metadata": {
            "tags": [],
            "needs_background": "light"
          }
        },
        {
          "output_type": "display_data",
          "data": {
            "image/png": "[encoded data removed]",
            "text/plain": [
              "<Figure size 432x288 with 1 Axes>"
            ]
          },
          "metadata": {
            "tags": [],
            "needs_background": "light"
          }
        }
      ]
    },
    {
      "cell_type": "code",
      "metadata": {
        "id": "BLD72ah5J39c",
        "colab_type": "code",
        "colab": {
          "base_uri": "https://localhost:8080/",
          "height": 547
        },
        "outputId": "82009414-02cc-46cc-ebb0-b3aace9ffe89"
      },
      "source": [
        "plot_loss(hist_relu_fin1, title = \"Loss arquitectura cambiada\")\n",
        "plt.grid(True)"
      ],
      "execution_count": 26,
      "outputs": [
        {
          "output_type": "display_data",
          "data": {
            "image/png": "[encoded data removed]",
            "text/plain": [
              "<Figure size 432x288 with 1 Axes>"
            ]
          },
          "metadata": {
            "tags": [],
            "needs_background": "light"
          }
        },
        {
          "output_type": "display_data",
          "data": {
            "image/png": "[encoded data removed]",
            "text/plain": [
              "<Figure size 432x288 with 1 Axes>"
            ]
          },
          "metadata": {
            "tags": [],
            "needs_background": "light"
          }
        }
      ]
    },
    {
      "cell_type": "code",
      "metadata": {
        "id": "7l1TJY4rJ54p",
        "colab_type": "code",
        "colab": {
          "base_uri": "https://localhost:8080/",
          "height": 35
        },
        "outputId": "8c7d21e3-261d-4714-b84c-b9092e365ade"
      },
      "source": [
        "print(\"El accuracy con el dataset de test es: \", acc_nn_relu_fin1)"
      ],
      "execution_count": 27,
      "outputs": [
        {
          "output_type": "stream",
          "text": [
            "El accuracy con el dataset de test es:  0.8859000205993652\n"
          ],
          "name": "stdout"
        }
      ]
    },
    {
      "cell_type": "markdown",
      "metadata": {
        "id": "odU7jDGlKHxn",
        "colab_type": "text"
      },
      "source": [
        "Se modificó la arquitectura de las capas hasta encontrar una que alcance un accuracy similar a la red profunda original pero con tiempos de entrenamiento menores"
      ]
    },
    {
      "cell_type": "markdown",
      "metadata": {
        "id": "UH3PR1q_J8mH",
        "colab_type": "text"
      },
      "source": [
        "### Modificaciones en Optimizadores"
      ]
    },
    {
      "cell_type": "code",
      "metadata": {
        "id": "CBj_V6d0J_yV",
        "colab_type": "code",
        "colab": {
          "base_uri": "https://localhost:8080/",
          "height": 1000
        },
        "outputId": "70f27747-f1e2-444e-a445-31cddd015b7d"
      },
      "source": [
        "batch_size = 64 #cambio batch size\n",
        "epochs = 50 #cambio batch size\n",
        "\n",
        "#Learning rate decay\n",
        "batches_per_epoch = 48000/batch_size\n",
        "lr_decay = (1. / 0.5 - 1)/batches_per_epoch #50% del learning rate original\n",
        "keras.optimizers.Adam(lr=0.0001, beta_1=0.9, beta_2=0.999, epsilon=1e-08, decay=lr_decay)\n",
        "\n",
        "\n",
        "\n",
        "NN_relu_fin2 = Sequential()\n",
        "\n",
        "NN_relu_fin2.add(Dense(128, input_shape=(784,), activation = 'relu', kernel_initializer = 'random_normal'))\n",
        "NN_relu_fin2.add(Dense(64, activation = 'relu', kernel_initializer = 'random_normal'))\n",
        "NN_relu_fin2.add(Dense(64, activation = 'relu', kernel_initializer = 'random_normal'))\n",
        "NN_relu_fin2.add(Dense(10, activation = 'softmax', kernel_initializer = 'random_normal'))\n",
        "\n",
        "NN_relu_fin2.compile(optimizer = 'adam', \n",
        "                loss = 'categorical_crossentropy', \n",
        "                metrics = ['acc'])\n",
        "\n",
        "hist_relu_fin2 = NN_relu_fin2.fit(X_train, y_train, \n",
        "                       batch_size = batch_size, \n",
        "                       epochs = epochs, \n",
        "                       verbose = 1, \n",
        "                       validation_split=0.2)\n",
        "\n",
        "acc_nn_relu_fin2 = NN_relu_fin2.evaluate(X_test, y_test, verbose = 1)[1]"
      ],
      "execution_count": 28,
      "outputs": [
        {
          "output_type": "stream",
          "text": [
            "Train on 48000 samples, validate on 12000 samples\n",
            "Epoch 1/50\n",
            "48000/48000 [==============================] - 3s 67us/step - loss: 0.6325 - acc: 0.7726 - val_loss: 0.4466 - val_acc: 0.8434\n",
            "Epoch 2/50\n",
            "48000/48000 [==============================] - 3s 66us/step - loss: 0.4128 - acc: 0.8529 - val_loss: 0.3833 - val_acc: 0.8607\n",
            "Epoch 3/50\n",
            "48000/48000 [==============================] - 3s 69us/step - loss: 0.3642 - acc: 0.8675 - val_loss: 0.3679 - val_acc: 0.8665\n",
            "Epoch 4/50\n",
            "48000/48000 [==============================] - 3s 63us/step - loss: 0.3374 - acc: 0.8767 - val_loss: 0.3851 - val_acc: 0.8601\n",
            "Epoch 5/50\n",
            "48000/48000 [==============================] - 3s 58us/step - loss: 0.3175 - acc: 0.8825 - val_loss: 0.3395 - val_acc: 0.8749\n",
            "Epoch 6/50\n",
            "48000/48000 [==============================] - 3s 59us/step - loss: 0.3034 - acc: 0.8875 - val_loss: 0.3588 - val_acc: 0.8697\n",
            "Epoch 7/50\n",
            "48000/48000 [==============================] - 3s 59us/step - loss: 0.2896 - acc: 0.8919 - val_loss: 0.3716 - val_acc: 0.8689\n",
            "Epoch 8/50\n",
            "48000/48000 [==============================] - 3s 61us/step - loss: 0.2755 - acc: 0.8984 - val_loss: 0.3335 - val_acc: 0.8848\n",
            "Epoch 9/50\n",
            "48000/48000 [==============================] - 3s 59us/step - loss: 0.2658 - acc: 0.8993 - val_loss: 0.3263 - val_acc: 0.8852\n",
            "Epoch 10/50\n",
            "48000/48000 [==============================] - 3s 59us/step - loss: 0.2528 - acc: 0.9057 - val_loss: 0.3236 - val_acc: 0.8860\n",
            "Epoch 11/50\n",
            "48000/48000 [==============================] - 3s 59us/step - loss: 0.2443 - acc: 0.9087 - val_loss: 0.3412 - val_acc: 0.8803\n",
            "Epoch 12/50\n",
            "48000/48000 [==============================] - 3s 58us/step - loss: 0.2350 - acc: 0.9109 - val_loss: 0.3324 - val_acc: 0.8876\n",
            "Epoch 13/50\n",
            "48000/48000 [==============================] - 3s 58us/step - loss: 0.2302 - acc: 0.9133 - val_loss: 0.3115 - val_acc: 0.8946\n",
            "Epoch 14/50\n",
            "48000/48000 [==============================] - 3s 58us/step - loss: 0.2216 - acc: 0.9160 - val_loss: 0.3342 - val_acc: 0.8867\n",
            "Epoch 15/50\n",
            "48000/48000 [==============================] - 3s 59us/step - loss: 0.2113 - acc: 0.9203 - val_loss: 0.3264 - val_acc: 0.8849\n",
            "Epoch 16/50\n",
            "48000/48000 [==============================] - 3s 59us/step - loss: 0.2101 - acc: 0.9208 - val_loss: 0.3379 - val_acc: 0.8876\n",
            "Epoch 17/50\n",
            "48000/48000 [==============================] - 3s 58us/step - loss: 0.1983 - acc: 0.9255 - val_loss: 0.3245 - val_acc: 0.8914\n",
            "Epoch 18/50\n",
            "48000/48000 [==============================] - 3s 60us/step - loss: 0.1951 - acc: 0.9272 - val_loss: 0.3261 - val_acc: 0.8942\n",
            "Epoch 19/50\n",
            "48000/48000 [==============================] - 3s 61us/step - loss: 0.1885 - acc: 0.9284 - val_loss: 0.3538 - val_acc: 0.8861\n",
            "Epoch 20/50\n",
            "48000/48000 [==============================] - 3s 59us/step - loss: 0.1841 - acc: 0.9300 - val_loss: 0.3328 - val_acc: 0.8911\n",
            "Epoch 21/50\n",
            "48000/48000 [==============================] - 3s 59us/step - loss: 0.1774 - acc: 0.9321 - val_loss: 0.3498 - val_acc: 0.8859\n",
            "Epoch 22/50\n",
            "48000/48000 [==============================] - 3s 59us/step - loss: 0.1737 - acc: 0.9339 - val_loss: 0.3840 - val_acc: 0.8881\n",
            "Epoch 23/50\n",
            "48000/48000 [==============================] - 3s 59us/step - loss: 0.1710 - acc: 0.9359 - val_loss: 0.3670 - val_acc: 0.8899\n",
            "Epoch 24/50\n",
            "48000/48000 [==============================] - 3s 58us/step - loss: 0.1639 - acc: 0.9370 - val_loss: 0.3811 - val_acc: 0.8873\n",
            "Epoch 25/50\n",
            "48000/48000 [==============================] - 3s 59us/step - loss: 0.1609 - acc: 0.9389 - val_loss: 0.3849 - val_acc: 0.8892\n",
            "Epoch 26/50\n",
            "48000/48000 [==============================] - 3s 58us/step - loss: 0.1551 - acc: 0.9415 - val_loss: 0.3818 - val_acc: 0.8926\n",
            "Epoch 27/50\n",
            "48000/48000 [==============================] - 3s 60us/step - loss: 0.1505 - acc: 0.9429 - val_loss: 0.3814 - val_acc: 0.8918\n",
            "Epoch 28/50\n",
            "48000/48000 [==============================] - 3s 61us/step - loss: 0.1452 - acc: 0.9441 - val_loss: 0.3844 - val_acc: 0.8886\n",
            "Epoch 29/50\n",
            "48000/48000 [==============================] - 3s 59us/step - loss: 0.1396 - acc: 0.9464 - val_loss: 0.3860 - val_acc: 0.8895\n",
            "Epoch 30/50\n",
            "48000/48000 [==============================] - 3s 58us/step - loss: 0.1382 - acc: 0.9474 - val_loss: 0.3925 - val_acc: 0.8906\n",
            "Epoch 31/50\n",
            "48000/48000 [==============================] - 3s 60us/step - loss: 0.1336 - acc: 0.9490 - val_loss: 0.3930 - val_acc: 0.8907\n",
            "Epoch 32/50\n",
            "48000/48000 [==============================] - 3s 58us/step - loss: 0.1289 - acc: 0.9523 - val_loss: 0.4066 - val_acc: 0.8940\n",
            "Epoch 33/50\n",
            "48000/48000 [==============================] - 3s 58us/step - loss: 0.1312 - acc: 0.9496 - val_loss: 0.4173 - val_acc: 0.8863\n",
            "Epoch 34/50\n",
            "48000/48000 [==============================] - 3s 59us/step - loss: 0.1237 - acc: 0.9528 - val_loss: 0.4417 - val_acc: 0.8842\n",
            "Epoch 35/50\n",
            "48000/48000 [==============================] - 3s 58us/step - loss: 0.1226 - acc: 0.9529 - val_loss: 0.4435 - val_acc: 0.8939\n",
            "Epoch 36/50\n",
            "48000/48000 [==============================] - 3s 59us/step - loss: 0.1198 - acc: 0.9541 - val_loss: 0.4380 - val_acc: 0.8966\n",
            "Epoch 37/50\n",
            "48000/48000 [==============================] - 3s 60us/step - loss: 0.1161 - acc: 0.9566 - val_loss: 0.4605 - val_acc: 0.8887\n",
            "Epoch 38/50\n",
            "48000/48000 [==============================] - 3s 59us/step - loss: 0.1139 - acc: 0.9564 - val_loss: 0.4405 - val_acc: 0.8929\n",
            "Epoch 39/50\n",
            "48000/48000 [==============================] - 3s 59us/step - loss: 0.1161 - acc: 0.9557 - val_loss: 0.4303 - val_acc: 0.8906\n",
            "Epoch 40/50\n",
            "48000/48000 [==============================] - 3s 59us/step - loss: 0.1117 - acc: 0.9584 - val_loss: 0.4809 - val_acc: 0.8857\n",
            "Epoch 41/50\n",
            "48000/48000 [==============================] - 3s 59us/step - loss: 0.1060 - acc: 0.9590 - val_loss: 0.4893 - val_acc: 0.8908\n",
            "Epoch 42/50\n",
            "48000/48000 [==============================] - 3s 59us/step - loss: 0.1084 - acc: 0.9584 - val_loss: 0.5281 - val_acc: 0.8852\n",
            "Epoch 43/50\n",
            "48000/48000 [==============================] - 3s 59us/step - loss: 0.1013 - acc: 0.9603 - val_loss: 0.4854 - val_acc: 0.8929\n",
            "Epoch 44/50\n",
            "48000/48000 [==============================] - 3s 59us/step - loss: 0.1017 - acc: 0.9623 - val_loss: 0.5171 - val_acc: 0.8873\n",
            "Epoch 45/50\n",
            "48000/48000 [==============================] - 3s 59us/step - loss: 0.0960 - acc: 0.9633 - val_loss: 0.5194 - val_acc: 0.8902\n",
            "Epoch 46/50\n",
            "48000/48000 [==============================] - 3s 58us/step - loss: 0.0971 - acc: 0.9628 - val_loss: 0.5107 - val_acc: 0.8910\n",
            "Epoch 47/50\n",
            "48000/48000 [==============================] - 3s 60us/step - loss: 0.0932 - acc: 0.9643 - val_loss: 0.5533 - val_acc: 0.8835\n",
            "Epoch 48/50\n",
            "48000/48000 [==============================] - 3s 59us/step - loss: 0.0971 - acc: 0.9628 - val_loss: 0.5304 - val_acc: 0.8936\n",
            "Epoch 49/50\n",
            "48000/48000 [==============================] - 3s 58us/step - loss: 0.0910 - acc: 0.9645 - val_loss: 0.5364 - val_acc: 0.8915\n",
            "Epoch 50/50\n",
            "48000/48000 [==============================] - 3s 59us/step - loss: 0.0864 - acc: 0.9676 - val_loss: 0.5383 - val_acc: 0.8886\n",
            "10000/10000 [==============================] - 0s 27us/step\n"
          ],
          "name": "stdout"
        }
      ]
    },
    {
      "cell_type": "code",
      "metadata": {
        "id": "ST64tL_2KCRu",
        "colab_type": "code",
        "colab": {
          "base_uri": "https://localhost:8080/",
          "height": 547
        },
        "outputId": "b984405f-681c-4f30-88c6-2a19affdd1e9"
      },
      "source": [
        "plot_acc(hist_relu_fin2, title = \"Accuracy learning rate decay\")\n",
        "plt.grid(True)"
      ],
      "execution_count": 29,
      "outputs": [
        {
          "output_type": "display_data",
          "data": {
            "image/png": "[encoded data removed]",
            "text/plain": [
              "<Figure size 432x288 with 1 Axes>"
            ]
          },
          "metadata": {
            "tags": [],
            "needs_background": "light"
          }
        },
        {
          "output_type": "display_data",
          "data": {
            "image/png": "[encoded data removed]",
            "text/plain": [
              "<Figure size 432x288 with 1 Axes>"
            ]
          },
          "metadata": {
            "tags": [],
            "needs_background": "light"
          }
        }
      ]
    },
    {
      "cell_type": "code",
      "metadata": {
        "id": "wqbWowNpKD76",
        "colab_type": "code",
        "colab": {
          "base_uri": "https://localhost:8080/",
          "height": 547
        },
        "outputId": "2811cb5e-d71d-4f6b-bbff-a0d5feac09ac"
      },
      "source": [
        "plot_loss(hist_relu_fin2, title = \"Loss learning rate decay\")\n",
        "plt.grid(True)"
      ],
      "execution_count": 30,
      "outputs": [
        {
          "output_type": "display_data",
          "data": {
            "image/png": "[encoded data removed]",
            "text/plain": [
              "<Figure size 432x288 with 1 Axes>"
            ]
          },
          "metadata": {
            "tags": [],
            "needs_background": "light"
          }
        },
        {
          "output_type": "display_data",
          "data": {
            "image/png": "[encoded data removed]",
            "text/plain": [
              "<Figure size 432x288 with 1 Axes>"
            ]
          },
          "metadata": {
            "tags": [],
            "needs_background": "light"
          }
        }
      ]
    },
    {
      "cell_type": "code",
      "metadata": {
        "id": "tz-xw-sQKFht",
        "colab_type": "code",
        "colab": {
          "base_uri": "https://localhost:8080/",
          "height": 35
        },
        "outputId": "22690975-b472-4c39-a8eb-6782dd4fe831"
      },
      "source": [
        "print(\"El accuracy con el dataset de test es: \", acc_nn_relu_fin2)"
      ],
      "execution_count": 31,
      "outputs": [
        {
          "output_type": "stream",
          "text": [
            "El accuracy con el dataset de test es:  0.8826000094413757\n"
          ],
          "name": "stdout"
        }
      ]
    },
    {
      "cell_type": "markdown",
      "metadata": {
        "id": "Yr-kHFtrKTIE",
        "colab_type": "text"
      },
      "source": [
        "Se agregó un parámetro de learning rate decay, así mismo se modificó el learning rate original"
      ]
    },
    {
      "cell_type": "markdown",
      "metadata": {
        "id": "_3rTJSxrKgRi",
        "colab_type": "text"
      },
      "source": [
        "### Modificaciones en batch"
      ]
    },
    {
      "cell_type": "code",
      "metadata": {
        "id": "1AW0P4gNKisL",
        "colab_type": "code",
        "colab": {
          "base_uri": "https://localhost:8080/",
          "height": 1000
        },
        "outputId": "eac98218-1029-439d-c0f4-8de984b7f73c"
      },
      "source": [
        "batch_size = 48 #cambio batch size\n",
        "epochs = 50 #cambio batch size\n",
        "\n",
        "#Learning rate decay\n",
        "batches_per_epoch = 48000/batch_size\n",
        "lr_decay = (1. / 0.5 - 1)/batches_per_epoch #50% del learning rate original\n",
        "keras.optimizers.Adam(lr=0.0001, beta_1=0.9, beta_2=0.999, epsilon=1e-08, decay=lr_decay)\n",
        "\n",
        "NN_relu_fin3 = Sequential()\n",
        "\n",
        "NN_relu_fin3.add(Dense(128, input_shape=(784,), activation = 'relu', kernel_initializer = 'random_normal'))\n",
        "NN_relu_fin3.add(Dense(64, activation = 'relu', kernel_initializer = 'random_normal'))\n",
        "NN_relu_fin3.add(Dense(64, activation = 'relu', kernel_initializer = 'random_normal'))\n",
        "NN_relu_fin3.add(Dense(10, activation = 'softmax', kernel_initializer = 'random_normal'))\n",
        "\n",
        "NN_relu_fin3.compile(optimizer = 'adam', \n",
        "                loss = 'categorical_crossentropy', \n",
        "                metrics = ['acc'])\n",
        "\n",
        "hist_relu_fin3 = NN_relu_fin3.fit(X_train, y_train, \n",
        "                       batch_size = batch_size, \n",
        "                       epochs = epochs, \n",
        "                       verbose = 1, \n",
        "                       validation_split=0.2)\n",
        "\n",
        "acc_nn_relu_fin3 = NN_relu_fin3.evaluate(X_test, y_test, verbose = 1)[1]"
      ],
      "execution_count": 32,
      "outputs": [
        {
          "output_type": "stream",
          "text": [
            "Train on 48000 samples, validate on 12000 samples\n",
            "Epoch 1/50\n",
            "48000/48000 [==============================] - 4s 83us/step - loss: 0.6221 - acc: 0.7705 - val_loss: 0.4402 - val_acc: 0.8414\n",
            "Epoch 2/50\n",
            "48000/48000 [==============================] - 4s 76us/step - loss: 0.4122 - acc: 0.8495 - val_loss: 0.3914 - val_acc: 0.8547\n",
            "Epoch 3/50\n",
            "48000/48000 [==============================] - 4s 74us/step - loss: 0.3628 - acc: 0.8662 - val_loss: 0.3623 - val_acc: 0.8648\n",
            "Epoch 4/50\n",
            "48000/48000 [==============================] - 3s 73us/step - loss: 0.3359 - acc: 0.8758 - val_loss: 0.3524 - val_acc: 0.8719\n",
            "Epoch 5/50\n",
            "48000/48000 [==============================] - 4s 77us/step - loss: 0.3143 - acc: 0.8838 - val_loss: 0.3276 - val_acc: 0.8833\n",
            "Epoch 6/50\n",
            "48000/48000 [==============================] - 4s 74us/step - loss: 0.3007 - acc: 0.8876 - val_loss: 0.3749 - val_acc: 0.8677\n",
            "Epoch 7/50\n",
            "48000/48000 [==============================] - 4s 74us/step - loss: 0.2868 - acc: 0.8929 - val_loss: 0.3355 - val_acc: 0.8774\n",
            "Epoch 8/50\n",
            "48000/48000 [==============================] - 4s 73us/step - loss: 0.2727 - acc: 0.8975 - val_loss: 0.3277 - val_acc: 0.8813\n",
            "Epoch 9/50\n",
            "48000/48000 [==============================] - 4s 74us/step - loss: 0.2635 - acc: 0.9011 - val_loss: 0.3236 - val_acc: 0.8835\n",
            "Epoch 10/50\n",
            "48000/48000 [==============================] - 4s 73us/step - loss: 0.2506 - acc: 0.9061 - val_loss: 0.3315 - val_acc: 0.8822\n",
            "Epoch 11/50\n",
            "48000/48000 [==============================] - 4s 73us/step - loss: 0.2439 - acc: 0.9094 - val_loss: 0.3367 - val_acc: 0.8851\n",
            "Epoch 12/50\n",
            "48000/48000 [==============================] - 4s 73us/step - loss: 0.2333 - acc: 0.9121 - val_loss: 0.3203 - val_acc: 0.8893\n",
            "Epoch 13/50\n",
            "48000/48000 [==============================] - 4s 74us/step - loss: 0.2287 - acc: 0.9145 - val_loss: 0.3240 - val_acc: 0.8888\n",
            "Epoch 14/50\n",
            "48000/48000 [==============================] - 4s 74us/step - loss: 0.2196 - acc: 0.9170 - val_loss: 0.3164 - val_acc: 0.8919\n",
            "Epoch 15/50\n",
            "48000/48000 [==============================] - 4s 79us/step - loss: 0.2135 - acc: 0.9194 - val_loss: 0.3320 - val_acc: 0.8906\n",
            "Epoch 16/50\n",
            "48000/48000 [==============================] - 4s 74us/step - loss: 0.2119 - acc: 0.9204 - val_loss: 0.3287 - val_acc: 0.8944\n",
            "Epoch 17/50\n",
            "48000/48000 [==============================] - 4s 74us/step - loss: 0.2001 - acc: 0.9251 - val_loss: 0.3399 - val_acc: 0.8898\n",
            "Epoch 18/50\n",
            "48000/48000 [==============================] - 4s 74us/step - loss: 0.1971 - acc: 0.9256 - val_loss: 0.3320 - val_acc: 0.8899\n",
            "Epoch 19/50\n",
            "48000/48000 [==============================] - 3s 73us/step - loss: 0.1872 - acc: 0.9290 - val_loss: 0.3446 - val_acc: 0.8915\n",
            "Epoch 20/50\n",
            "48000/48000 [==============================] - 3s 73us/step - loss: 0.1840 - acc: 0.9291 - val_loss: 0.3399 - val_acc: 0.8928\n",
            "Epoch 21/50\n",
            "48000/48000 [==============================] - 4s 73us/step - loss: 0.1811 - acc: 0.9315 - val_loss: 0.3685 - val_acc: 0.8877\n",
            "Epoch 22/50\n",
            "48000/48000 [==============================] - 3s 72us/step - loss: 0.1741 - acc: 0.9329 - val_loss: 0.3909 - val_acc: 0.8832\n",
            "Epoch 23/50\n",
            "48000/48000 [==============================] - 4s 73us/step - loss: 0.1704 - acc: 0.9348 - val_loss: 0.3777 - val_acc: 0.8845\n",
            "Epoch 24/50\n",
            "48000/48000 [==============================] - 4s 74us/step - loss: 0.1648 - acc: 0.9371 - val_loss: 0.3833 - val_acc: 0.8870\n",
            "Epoch 25/50\n",
            "48000/48000 [==============================] - 3s 73us/step - loss: 0.1616 - acc: 0.9388 - val_loss: 0.3767 - val_acc: 0.8888\n",
            "Epoch 26/50\n",
            "48000/48000 [==============================] - 4s 73us/step - loss: 0.1573 - acc: 0.9397 - val_loss: 0.3645 - val_acc: 0.8922\n",
            "Epoch 27/50\n",
            "48000/48000 [==============================] - 4s 74us/step - loss: 0.1534 - acc: 0.9418 - val_loss: 0.3952 - val_acc: 0.8832\n",
            "Epoch 28/50\n",
            "48000/48000 [==============================] - 4s 74us/step - loss: 0.1484 - acc: 0.9426 - val_loss: 0.3861 - val_acc: 0.8914\n",
            "Epoch 29/50\n",
            "48000/48000 [==============================] - 4s 73us/step - loss: 0.1448 - acc: 0.9446 - val_loss: 0.4060 - val_acc: 0.8864\n",
            "Epoch 30/50\n",
            "48000/48000 [==============================] - 4s 74us/step - loss: 0.1409 - acc: 0.9459 - val_loss: 0.3957 - val_acc: 0.8907\n",
            "Epoch 31/50\n",
            "48000/48000 [==============================] - 4s 81us/step - loss: 0.1399 - acc: 0.9460 - val_loss: 0.4300 - val_acc: 0.8933\n",
            "Epoch 32/50\n",
            "48000/48000 [==============================] - 4s 80us/step - loss: 0.1370 - acc: 0.9477 - val_loss: 0.4116 - val_acc: 0.8924\n",
            "Epoch 33/50\n",
            "48000/48000 [==============================] - 4s 74us/step - loss: 0.1338 - acc: 0.9489 - val_loss: 0.4046 - val_acc: 0.8923\n",
            "Epoch 34/50\n",
            "48000/48000 [==============================] - 4s 74us/step - loss: 0.1293 - acc: 0.9507 - val_loss: 0.4222 - val_acc: 0.8896\n",
            "Epoch 35/50\n",
            "48000/48000 [==============================] - 4s 75us/step - loss: 0.1244 - acc: 0.9524 - val_loss: 0.4508 - val_acc: 0.8904\n",
            "Epoch 36/50\n",
            "48000/48000 [==============================] - 4s 76us/step - loss: 0.1254 - acc: 0.9523 - val_loss: 0.4380 - val_acc: 0.8892\n",
            "Epoch 37/50\n",
            "48000/48000 [==============================] - 4s 76us/step - loss: 0.1224 - acc: 0.9537 - val_loss: 0.4322 - val_acc: 0.8930\n",
            "Epoch 38/50\n",
            "48000/48000 [==============================] - 4s 77us/step - loss: 0.1171 - acc: 0.9556 - val_loss: 0.4665 - val_acc: 0.8891\n",
            "Epoch 39/50\n",
            "48000/48000 [==============================] - 4s 77us/step - loss: 0.1145 - acc: 0.9571 - val_loss: 0.4564 - val_acc: 0.8903\n",
            "Epoch 40/50\n",
            "48000/48000 [==============================] - 4s 77us/step - loss: 0.1147 - acc: 0.9566 - val_loss: 0.4667 - val_acc: 0.8873\n",
            "Epoch 41/50\n",
            "48000/48000 [==============================] - 4s 77us/step - loss: 0.1138 - acc: 0.9558 - val_loss: 0.5384 - val_acc: 0.8744\n",
            "Epoch 42/50\n",
            "48000/48000 [==============================] - 4s 76us/step - loss: 0.1080 - acc: 0.9590 - val_loss: 0.5070 - val_acc: 0.8882\n",
            "Epoch 43/50\n",
            "48000/48000 [==============================] - 4s 77us/step - loss: 0.1093 - acc: 0.9585 - val_loss: 0.4825 - val_acc: 0.8892\n",
            "Epoch 44/50\n",
            "48000/48000 [==============================] - 4s 84us/step - loss: 0.1065 - acc: 0.9598 - val_loss: 0.5149 - val_acc: 0.8907\n",
            "Epoch 45/50\n",
            "48000/48000 [==============================] - 4s 77us/step - loss: 0.1014 - acc: 0.9619 - val_loss: 0.5261 - val_acc: 0.8913\n",
            "Epoch 46/50\n",
            "48000/48000 [==============================] - 4s 81us/step - loss: 0.1022 - acc: 0.9604 - val_loss: 0.4935 - val_acc: 0.8923\n",
            "Epoch 47/50\n",
            "48000/48000 [==============================] - 4s 84us/step - loss: 0.0969 - acc: 0.9630 - val_loss: 0.5575 - val_acc: 0.8846\n",
            "Epoch 48/50\n",
            "48000/48000 [==============================] - 4s 88us/step - loss: 0.0991 - acc: 0.9615 - val_loss: 0.5409 - val_acc: 0.8923\n",
            "Epoch 49/50\n",
            "48000/48000 [==============================] - 7s 145us/step - loss: 0.0973 - acc: 0.9629 - val_loss: 0.4993 - val_acc: 0.8933\n",
            "Epoch 50/50\n",
            "48000/48000 [==============================] - 5s 107us/step - loss: 0.0959 - acc: 0.9630 - val_loss: 0.4927 - val_acc: 0.8941\n",
            "10000/10000 [==============================] - 0s 27us/step\n"
          ],
          "name": "stdout"
        }
      ]
    },
    {
      "cell_type": "code",
      "metadata": {
        "id": "I9OkOCDHKoKJ",
        "colab_type": "code",
        "colab": {
          "base_uri": "https://localhost:8080/",
          "height": 547
        },
        "outputId": "7b6236fc-c3be-4402-8ad8-599f33f69368"
      },
      "source": [
        "plot_acc(hist_relu_fin3, title = \"Accuracy batch cambiada\")\n",
        "plt.grid(True)"
      ],
      "execution_count": 33,
      "outputs": [
        {
          "output_type": "display_data",
          "data": {
            "image/png": "[encoded data removed]",
            "text/plain": [
              "<Figure size 432x288 with 1 Axes>"
            ]
          },
          "metadata": {
            "tags": [],
            "needs_background": "light"
          }
        },
        {
          "output_type": "display_data",
          "data": {
            "image/png": "[encoded data removed]",
            "text/plain": [
              "<Figure size 432x288 with 1 Axes>"
            ]
          },
          "metadata": {
            "tags": [],
            "needs_background": "light"
          }
        }
      ]
    },
    {
      "cell_type": "code",
      "metadata": {
        "id": "6_r5I_HEKp8M",
        "colab_type": "code",
        "colab": {
          "base_uri": "https://localhost:8080/",
          "height": 547
        },
        "outputId": "73bf49ee-d57d-473f-ad8d-236fd41a1e93"
      },
      "source": [
        "plot_loss(hist_relu_fin3, title = \"Loss batch cambiada\")\n",
        "plt.grid(True)"
      ],
      "execution_count": 34,
      "outputs": [
        {
          "output_type": "display_data",
          "data": {
            "image/png": "[encoded data removed]",
            "text/plain": [
              "<Figure size 432x288 with 1 Axes>"
            ]
          },
          "metadata": {
            "tags": [],
            "needs_background": "light"
          }
        },
        {
          "output_type": "display_data",
          "data": {
            "image/png": "[encoded data removed]",
            "text/plain": [
              "<Figure size 432x288 with 1 Axes>"
            ]
          },
          "metadata": {
            "tags": [],
            "needs_background": "light"
          }
        }
      ]
    },
    {
      "cell_type": "code",
      "metadata": {
        "id": "aSw-vLbIKrj3",
        "colab_type": "code",
        "colab": {
          "base_uri": "https://localhost:8080/",
          "height": 35
        },
        "outputId": "9f0efa79-d8c0-4a5d-e460-ee480108f002"
      },
      "source": [
        "print(\"El accuracy con el dataset de test es: \", acc_nn_relu_fin3)"
      ],
      "execution_count": 35,
      "outputs": [
        {
          "output_type": "stream",
          "text": [
            "El accuracy con el dataset de test es:  0.8888000249862671\n"
          ],
          "name": "stdout"
        }
      ]
    },
    {
      "cell_type": "markdown",
      "metadata": {
        "id": "XmvYQ3z5KtF0",
        "colab_type": "text"
      },
      "source": [
        "Se redujo el tamaño de batch y se evidenció una ligera mejora en el accuracy"
      ]
    },
    {
      "cell_type": "markdown",
      "metadata": {
        "id": "Dc-EqR0IK6wg",
        "colab_type": "text"
      },
      "source": [
        "### Dropout y regularización"
      ]
    },
    {
      "cell_type": "code",
      "metadata": {
        "id": "qa4FJGbTK9-L",
        "colab_type": "code",
        "colab": {
          "base_uri": "https://localhost:8080/",
          "height": 1000
        },
        "outputId": "b7d7d06f-fec3-48ff-98e4-b990a14c000c"
      },
      "source": [
        "batch_size = 48 #cambio batch size\n",
        "epochs = 100 #cambio batch size\n",
        "\n",
        "#Learning rate decay\n",
        "batches_per_epoch = 48000/batch_size\n",
        "lr_decay = (1. / 0.5 - 1)/batches_per_epoch #50% del learning rate original\n",
        "keras.optimizers.Adam(lr=0.001, beta_1=0.9, beta_2=0.999, epsilon=1e-08, decay=lr_decay)\n",
        "\n",
        "NN_relu_fin4 = Sequential()\n",
        "\n",
        "NN_relu_fin4.add(Dense(128, input_shape=(784,), activation = 'relu', kernel_initializer = 'random_normal'))\n",
        "NN_relu_fin4.add(Dropout(0.2))\n",
        "NN_relu_fin4.add(Dense(64, activation = 'relu', kernel_initializer = 'random_normal'))\n",
        "NN_relu_fin4.add(Dropout(0.2))\n",
        "NN_relu_fin4.add(Dense(64, activation = 'relu', kernel_initializer = 'random_normal'))\n",
        "NN_relu_fin4.add(Dropout(0.2))\n",
        "NN_relu_fin4.add(Dense(10, activation = 'softmax', kernel_initializer = 'random_normal'))\n",
        "\n",
        "NN_relu_fin4.compile(optimizer = 'adam', \n",
        "                loss = 'categorical_crossentropy', \n",
        "                metrics = ['acc'])\n",
        "\n",
        "hist_relu_fin4 = NN_relu_fin4.fit(X_train, y_train, \n",
        "                       batch_size = batch_size, \n",
        "                       epochs = epochs, \n",
        "                       verbose = 1, \n",
        "                       validation_split=0.2)\n",
        "\n",
        "acc_nn_relu_fin4 = NN_relu_fin4.evaluate(X_test, y_test, verbose = 1)[1]"
      ],
      "execution_count": 36,
      "outputs": [
        {
          "output_type": "stream",
          "text": [
            "Train on 48000 samples, validate on 12000 samples\n",
            "Epoch 1/100\n",
            "48000/48000 [==============================] - 4s 90us/step - loss: 0.7109 - acc: 0.7354 - val_loss: 0.4564 - val_acc: 0.8349\n",
            "Epoch 2/100\n",
            "48000/48000 [==============================] - 4s 88us/step - loss: 0.4639 - acc: 0.8359 - val_loss: 0.4151 - val_acc: 0.8504\n",
            "Epoch 3/100\n",
            "48000/48000 [==============================] - 4s 92us/step - loss: 0.4206 - acc: 0.8506 - val_loss: 0.3850 - val_acc: 0.8632\n",
            "Epoch 4/100\n",
            "48000/48000 [==============================] - 4s 87us/step - loss: 0.3936 - acc: 0.8600 - val_loss: 0.3629 - val_acc: 0.8737\n",
            "Epoch 5/100\n",
            "48000/48000 [==============================] - 4s 90us/step - loss: 0.3732 - acc: 0.8650 - val_loss: 0.3596 - val_acc: 0.8720\n",
            "Epoch 6/100\n",
            "48000/48000 [==============================] - 5s 98us/step - loss: 0.3609 - acc: 0.8706 - val_loss: 0.3432 - val_acc: 0.8776\n",
            "Epoch 7/100\n",
            "48000/48000 [==============================] - 4s 91us/step - loss: 0.3485 - acc: 0.8750 - val_loss: 0.3372 - val_acc: 0.8803\n",
            "Epoch 8/100\n",
            "48000/48000 [==============================] - 4s 89us/step - loss: 0.3387 - acc: 0.8778 - val_loss: 0.3300 - val_acc: 0.8795\n",
            "Epoch 9/100\n",
            "48000/48000 [==============================] - 4s 85us/step - loss: 0.3270 - acc: 0.8823 - val_loss: 0.3464 - val_acc: 0.8763\n",
            "Epoch 10/100\n",
            "48000/48000 [==============================] - 4s 85us/step - loss: 0.3189 - acc: 0.8845 - val_loss: 0.3223 - val_acc: 0.8837\n",
            "Epoch 11/100\n",
            "48000/48000 [==============================] - 4s 87us/step - loss: 0.3143 - acc: 0.8852 - val_loss: 0.3382 - val_acc: 0.8817\n",
            "Epoch 12/100\n",
            "48000/48000 [==============================] - 4s 91us/step - loss: 0.3080 - acc: 0.8871 - val_loss: 0.3194 - val_acc: 0.8849\n",
            "Epoch 13/100\n",
            "48000/48000 [==============================] - 5s 94us/step - loss: 0.3038 - acc: 0.8893 - val_loss: 0.3175 - val_acc: 0.8851\n",
            "Epoch 14/100\n",
            "48000/48000 [==============================] - 4s 92us/step - loss: 0.2961 - acc: 0.8921 - val_loss: 0.3231 - val_acc: 0.8845\n",
            "Epoch 15/100\n",
            "48000/48000 [==============================] - 4s 87us/step - loss: 0.2933 - acc: 0.8941 - val_loss: 0.3297 - val_acc: 0.8811\n",
            "Epoch 16/100\n",
            "48000/48000 [==============================] - 4s 84us/step - loss: 0.2881 - acc: 0.8944 - val_loss: 0.3278 - val_acc: 0.8880\n",
            "Epoch 17/100\n",
            "48000/48000 [==============================] - 4s 89us/step - loss: 0.2841 - acc: 0.8954 - val_loss: 0.3265 - val_acc: 0.8827\n",
            "Epoch 18/100\n",
            "48000/48000 [==============================] - 4s 87us/step - loss: 0.2796 - acc: 0.8975 - val_loss: 0.3138 - val_acc: 0.8889\n",
            "Epoch 19/100\n",
            "48000/48000 [==============================] - 4s 85us/step - loss: 0.2736 - acc: 0.8989 - val_loss: 0.3024 - val_acc: 0.8908\n",
            "Epoch 20/100\n",
            "48000/48000 [==============================] - 4s 87us/step - loss: 0.2715 - acc: 0.8997 - val_loss: 0.3087 - val_acc: 0.8888\n",
            "Epoch 21/100\n",
            "48000/48000 [==============================] - 4s 84us/step - loss: 0.2729 - acc: 0.8994 - val_loss: 0.3143 - val_acc: 0.8935\n",
            "Epoch 22/100\n",
            "48000/48000 [==============================] - 4s 84us/step - loss: 0.2662 - acc: 0.9015 - val_loss: 0.3248 - val_acc: 0.8875\n",
            "Epoch 23/100\n",
            "48000/48000 [==============================] - 4s 86us/step - loss: 0.2625 - acc: 0.9047 - val_loss: 0.3094 - val_acc: 0.8948\n",
            "Epoch 24/100\n",
            "48000/48000 [==============================] - 4s 88us/step - loss: 0.2618 - acc: 0.9024 - val_loss: 0.3282 - val_acc: 0.8883\n",
            "Epoch 25/100\n",
            "48000/48000 [==============================] - 4s 92us/step - loss: 0.2564 - acc: 0.9054 - val_loss: 0.3155 - val_acc: 0.8908\n",
            "Epoch 26/100\n",
            "48000/48000 [==============================] - 4s 90us/step - loss: 0.2537 - acc: 0.9057 - val_loss: 0.3160 - val_acc: 0.8907\n",
            "Epoch 27/100\n",
            "48000/48000 [==============================] - 4s 92us/step - loss: 0.2532 - acc: 0.9072 - val_loss: 0.3096 - val_acc: 0.8942\n",
            "Epoch 28/100\n",
            "48000/48000 [==============================] - 4s 92us/step - loss: 0.2484 - acc: 0.9085 - val_loss: 0.3075 - val_acc: 0.8934\n",
            "Epoch 29/100\n",
            "48000/48000 [==============================] - 5s 95us/step - loss: 0.2472 - acc: 0.9086 - val_loss: 0.3172 - val_acc: 0.8942\n",
            "Epoch 30/100\n",
            "48000/48000 [==============================] - 4s 91us/step - loss: 0.2466 - acc: 0.9087 - val_loss: 0.3112 - val_acc: 0.8954\n",
            "Epoch 31/100\n",
            "48000/48000 [==============================] - 5s 97us/step - loss: 0.2422 - acc: 0.9108 - val_loss: 0.3127 - val_acc: 0.8932\n",
            "Epoch 32/100\n",
            "48000/48000 [==============================] - 4s 90us/step - loss: 0.2429 - acc: 0.9110 - val_loss: 0.3132 - val_acc: 0.8921\n",
            "Epoch 33/100\n",
            "48000/48000 [==============================] - 4s 91us/step - loss: 0.2387 - acc: 0.9103 - val_loss: 0.3042 - val_acc: 0.8957\n",
            "Epoch 34/100\n",
            "48000/48000 [==============================] - 4s 91us/step - loss: 0.2366 - acc: 0.9125 - val_loss: 0.3197 - val_acc: 0.8903\n",
            "Epoch 35/100\n",
            "48000/48000 [==============================] - 4s 90us/step - loss: 0.2358 - acc: 0.9120 - val_loss: 0.3113 - val_acc: 0.8957\n",
            "Epoch 36/100\n",
            "48000/48000 [==============================] - 5s 96us/step - loss: 0.2347 - acc: 0.9143 - val_loss: 0.3168 - val_acc: 0.8929\n",
            "Epoch 37/100\n",
            "48000/48000 [==============================] - 4s 92us/step - loss: 0.2322 - acc: 0.9129 - val_loss: 0.3217 - val_acc: 0.8927\n",
            "Epoch 38/100\n",
            "48000/48000 [==============================] - 4s 86us/step - loss: 0.2321 - acc: 0.9136 - val_loss: 0.3320 - val_acc: 0.8925\n",
            "Epoch 39/100\n",
            "48000/48000 [==============================] - 4s 88us/step - loss: 0.2307 - acc: 0.9143 - val_loss: 0.3180 - val_acc: 0.8939\n",
            "Epoch 40/100\n",
            "48000/48000 [==============================] - 4s 87us/step - loss: 0.2291 - acc: 0.9158 - val_loss: 0.3318 - val_acc: 0.8907\n",
            "Epoch 41/100\n",
            "48000/48000 [==============================] - 4s 90us/step - loss: 0.2248 - acc: 0.9167 - val_loss: 0.3277 - val_acc: 0.8893\n",
            "Epoch 42/100\n",
            "48000/48000 [==============================] - 4s 93us/step - loss: 0.2242 - acc: 0.9175 - val_loss: 0.3245 - val_acc: 0.8946\n",
            "Epoch 43/100\n",
            "48000/48000 [==============================] - 4s 87us/step - loss: 0.2211 - acc: 0.9186 - val_loss: 0.3179 - val_acc: 0.8973\n",
            "Epoch 44/100\n",
            "48000/48000 [==============================] - 4s 85us/step - loss: 0.2240 - acc: 0.9168 - val_loss: 0.3226 - val_acc: 0.8941\n",
            "Epoch 45/100\n",
            "48000/48000 [==============================] - 4s 84us/step - loss: 0.2210 - acc: 0.9178 - val_loss: 0.3228 - val_acc: 0.8953\n",
            "Epoch 46/100\n",
            "48000/48000 [==============================] - 4s 83us/step - loss: 0.2198 - acc: 0.9188 - val_loss: 0.3294 - val_acc: 0.8988\n",
            "Epoch 47/100\n",
            "48000/48000 [==============================] - 4s 89us/step - loss: 0.2171 - acc: 0.9202 - val_loss: 0.3194 - val_acc: 0.8957\n",
            "Epoch 48/100\n",
            "48000/48000 [==============================] - 4s 90us/step - loss: 0.2181 - acc: 0.9200 - val_loss: 0.3153 - val_acc: 0.8992\n",
            "Epoch 49/100\n",
            "48000/48000 [==============================] - 4s 88us/step - loss: 0.2167 - acc: 0.9186 - val_loss: 0.3232 - val_acc: 0.8943\n",
            "Epoch 50/100\n",
            "48000/48000 [==============================] - 4s 90us/step - loss: 0.2139 - acc: 0.9212 - val_loss: 0.3289 - val_acc: 0.8950\n",
            "Epoch 51/100\n",
            "48000/48000 [==============================] - 4s 91us/step - loss: 0.2129 - acc: 0.9209 - val_loss: 0.3216 - val_acc: 0.8933\n",
            "Epoch 52/100\n",
            "48000/48000 [==============================] - 4s 85us/step - loss: 0.2077 - acc: 0.9233 - val_loss: 0.3162 - val_acc: 0.8964\n",
            "Epoch 53/100\n",
            "48000/48000 [==============================] - 4s 86us/step - loss: 0.2094 - acc: 0.9220 - val_loss: 0.3408 - val_acc: 0.8897\n",
            "Epoch 54/100\n",
            "48000/48000 [==============================] - 5s 96us/step - loss: 0.2094 - acc: 0.9224 - val_loss: 0.3237 - val_acc: 0.8957\n",
            "Epoch 55/100\n",
            "48000/48000 [==============================] - 4s 84us/step - loss: 0.2046 - acc: 0.9241 - val_loss: 0.3240 - val_acc: 0.8920\n",
            "Epoch 56/100\n",
            "48000/48000 [==============================] - 4s 83us/step - loss: 0.2078 - acc: 0.9226 - val_loss: 0.3229 - val_acc: 0.8947\n",
            "Epoch 57/100\n",
            "48000/48000 [==============================] - 4s 89us/step - loss: 0.2084 - acc: 0.9229 - val_loss: 0.3390 - val_acc: 0.8909\n",
            "Epoch 58/100\n",
            "48000/48000 [==============================] - 4s 84us/step - loss: 0.2053 - acc: 0.9235 - val_loss: 0.3354 - val_acc: 0.8932\n",
            "Epoch 59/100\n",
            "48000/48000 [==============================] - 4s 86us/step - loss: 0.2008 - acc: 0.9252 - val_loss: 0.3215 - val_acc: 0.8946\n",
            "Epoch 60/100\n",
            "48000/48000 [==============================] - 4s 85us/step - loss: 0.1985 - acc: 0.9264 - val_loss: 0.3347 - val_acc: 0.8964\n",
            "Epoch 61/100\n",
            "48000/48000 [==============================] - 4s 83us/step - loss: 0.2018 - acc: 0.9253 - val_loss: 0.3416 - val_acc: 0.8956\n",
            "Epoch 62/100\n",
            "48000/48000 [==============================] - 4s 84us/step - loss: 0.1952 - acc: 0.9268 - val_loss: 0.3307 - val_acc: 0.8951\n",
            "Epoch 63/100\n",
            "48000/48000 [==============================] - 4s 84us/step - loss: 0.1982 - acc: 0.9255 - val_loss: 0.3250 - val_acc: 0.8963\n",
            "Epoch 64/100\n",
            "48000/48000 [==============================] - 4s 84us/step - loss: 0.1995 - acc: 0.9265 - val_loss: 0.3660 - val_acc: 0.8869\n",
            "Epoch 65/100\n",
            "48000/48000 [==============================] - 4s 87us/step - loss: 0.1963 - acc: 0.9277 - val_loss: 0.3404 - val_acc: 0.8944\n",
            "Epoch 66/100\n",
            "48000/48000 [==============================] - 4s 87us/step - loss: 0.1987 - acc: 0.9266 - val_loss: 0.3318 - val_acc: 0.8981\n",
            "Epoch 67/100\n",
            "48000/48000 [==============================] - 4s 85us/step - loss: 0.1916 - acc: 0.9286 - val_loss: 0.3515 - val_acc: 0.8935\n",
            "Epoch 68/100\n",
            "48000/48000 [==============================] - 4s 86us/step - loss: 0.1973 - acc: 0.9267 - val_loss: 0.3427 - val_acc: 0.8949\n",
            "Epoch 69/100\n",
            "48000/48000 [==============================] - 4s 87us/step - loss: 0.1919 - acc: 0.9290 - val_loss: 0.3369 - val_acc: 0.8963\n",
            "Epoch 70/100\n",
            "48000/48000 [==============================] - 4s 91us/step - loss: 0.1953 - acc: 0.9276 - val_loss: 0.3472 - val_acc: 0.8929\n",
            "Epoch 71/100\n",
            "48000/48000 [==============================] - 4s 89us/step - loss: 0.1899 - acc: 0.9303 - val_loss: 0.3390 - val_acc: 0.8956\n",
            "Epoch 72/100\n",
            "48000/48000 [==============================] - 4s 84us/step - loss: 0.1949 - acc: 0.9271 - val_loss: 0.3369 - val_acc: 0.8988\n",
            "Epoch 73/100\n",
            "48000/48000 [==============================] - 4s 82us/step - loss: 0.1862 - acc: 0.9289 - val_loss: 0.3488 - val_acc: 0.8928\n",
            "Epoch 74/100\n",
            "48000/48000 [==============================] - 4s 84us/step - loss: 0.1874 - acc: 0.9303 - val_loss: 0.3357 - val_acc: 0.8944\n",
            "Epoch 75/100\n",
            "48000/48000 [==============================] - 4s 83us/step - loss: 0.1843 - acc: 0.9314 - val_loss: 0.3492 - val_acc: 0.8932\n",
            "Epoch 76/100\n",
            "48000/48000 [==============================] - 4s 84us/step - loss: 0.1883 - acc: 0.9301 - val_loss: 0.3411 - val_acc: 0.8952\n",
            "Epoch 77/100\n",
            "48000/48000 [==============================] - 4s 84us/step - loss: 0.1829 - acc: 0.9322 - val_loss: 0.3474 - val_acc: 0.8967\n",
            "Epoch 78/100\n",
            "48000/48000 [==============================] - 4s 87us/step - loss: 0.1843 - acc: 0.9317 - val_loss: 0.3634 - val_acc: 0.8930\n",
            "Epoch 79/100\n",
            "48000/48000 [==============================] - 4s 84us/step - loss: 0.1845 - acc: 0.9317 - val_loss: 0.3378 - val_acc: 0.8997\n",
            "Epoch 80/100\n",
            "48000/48000 [==============================] - 4s 86us/step - loss: 0.1808 - acc: 0.9325 - val_loss: 0.3709 - val_acc: 0.8932\n",
            "Epoch 81/100\n",
            "48000/48000 [==============================] - 4s 92us/step - loss: 0.1827 - acc: 0.9317 - val_loss: 0.3446 - val_acc: 0.8949\n",
            "Epoch 82/100\n",
            "48000/48000 [==============================] - 4s 87us/step - loss: 0.1838 - acc: 0.9303 - val_loss: 0.3439 - val_acc: 0.8935\n",
            "Epoch 83/100\n",
            "48000/48000 [==============================] - 4s 86us/step - loss: 0.1818 - acc: 0.9328 - val_loss: 0.3419 - val_acc: 0.8942\n",
            "Epoch 84/100\n",
            "48000/48000 [==============================] - 4s 85us/step - loss: 0.1789 - acc: 0.9346 - val_loss: 0.3527 - val_acc: 0.8947\n",
            "Epoch 85/100\n",
            "48000/48000 [==============================] - 4s 86us/step - loss: 0.1777 - acc: 0.9336 - val_loss: 0.3443 - val_acc: 0.8973\n",
            "Epoch 86/100\n",
            "48000/48000 [==============================] - 4s 85us/step - loss: 0.1739 - acc: 0.9352 - val_loss: 0.3501 - val_acc: 0.8922\n",
            "Epoch 87/100\n",
            "48000/48000 [==============================] - 4s 85us/step - loss: 0.1786 - acc: 0.9335 - val_loss: 0.3441 - val_acc: 0.8980\n",
            "Epoch 88/100\n",
            "48000/48000 [==============================] - 4s 84us/step - loss: 0.1753 - acc: 0.9356 - val_loss: 0.3605 - val_acc: 0.8969\n",
            "Epoch 89/100\n",
            "48000/48000 [==============================] - 4s 83us/step - loss: 0.1827 - acc: 0.9319 - val_loss: 0.3478 - val_acc: 0.8965\n",
            "Epoch 90/100\n",
            "48000/48000 [==============================] - 4s 84us/step - loss: 0.1809 - acc: 0.9341 - val_loss: 0.3687 - val_acc: 0.8923\n",
            "Epoch 91/100\n",
            "48000/48000 [==============================] - 4s 84us/step - loss: 0.1741 - acc: 0.9359 - val_loss: 0.3588 - val_acc: 0.8958\n",
            "Epoch 92/100\n",
            "48000/48000 [==============================] - 4s 86us/step - loss: 0.1730 - acc: 0.9353 - val_loss: 0.3548 - val_acc: 0.8938\n",
            "Epoch 93/100\n",
            "48000/48000 [==============================] - 4s 86us/step - loss: 0.1735 - acc: 0.9350 - val_loss: 0.3662 - val_acc: 0.8931\n",
            "Epoch 94/100\n",
            "48000/48000 [==============================] - 4s 85us/step - loss: 0.1730 - acc: 0.9343 - val_loss: 0.3804 - val_acc: 0.8879\n",
            "Epoch 95/100\n",
            "48000/48000 [==============================] - 4s 85us/step - loss: 0.1752 - acc: 0.9356 - val_loss: 0.3568 - val_acc: 0.8963\n",
            "Epoch 96/100\n",
            "48000/48000 [==============================] - 4s 83us/step - loss: 0.1693 - acc: 0.9371 - val_loss: 0.3650 - val_acc: 0.8939\n",
            "Epoch 97/100\n",
            "48000/48000 [==============================] - 4s 84us/step - loss: 0.1681 - acc: 0.9376 - val_loss: 0.3644 - val_acc: 0.8927\n",
            "Epoch 98/100\n",
            "48000/48000 [==============================] - 4s 85us/step - loss: 0.1677 - acc: 0.9379 - val_loss: 0.3716 - val_acc: 0.8957\n",
            "Epoch 99/100\n",
            "48000/48000 [==============================] - 4s 85us/step - loss: 0.1695 - acc: 0.9376 - val_loss: 0.3818 - val_acc: 0.8946\n",
            "Epoch 100/100\n",
            "48000/48000 [==============================] - 4s 85us/step - loss: 0.1692 - acc: 0.9374 - val_loss: 0.3828 - val_acc: 0.8948\n",
            "10000/10000 [==============================] - 0s 28us/step\n"
          ],
          "name": "stdout"
        }
      ]
    },
    {
      "cell_type": "code",
      "metadata": {
        "id": "XjKQqWxULCH9",
        "colab_type": "code",
        "colab": {
          "base_uri": "https://localhost:8080/",
          "height": 547
        },
        "outputId": "e9de2fed-e85f-45dd-8418-30a1ca3b0990"
      },
      "source": [
        "plot_acc(hist_relu_fin4, title = \"Accuracy dropout\")\n",
        "plt.grid(True)"
      ],
      "execution_count": 37,
      "outputs": [
        {
          "output_type": "display_data",
          "data": {
            "image/png": "[encoded data removed]",
            "text/plain": [
              "<Figure size 432x288 with 1 Axes>"
            ]
          },
          "metadata": {
            "tags": [],
            "needs_background": "light"
          }
        },
        {
          "output_type": "display_data",
          "data": {
            "image/png": "[encoded data removed]",
            "text/plain": [
              "<Figure size 432x288 with 1 Axes>"
            ]
          },
          "metadata": {
            "tags": [],
            "needs_background": "light"
          }
        }
      ]
    },
    {
      "cell_type": "code",
      "metadata": {
        "id": "ktq9za0cLD9H",
        "colab_type": "code",
        "colab": {
          "base_uri": "https://localhost:8080/",
          "height": 547
        },
        "outputId": "947b6673-6122-438a-fff6-c75b5b778269"
      },
      "source": [
        "plot_loss(hist_relu_fin4, title = \"Loss dropout\")\n",
        "plt.grid(True)"
      ],
      "execution_count": 38,
      "outputs": [
        {
          "output_type": "display_data",
          "data": {
            "image/png": "[encoded data removed]",
            "text/plain": [
              "<Figure size 432x288 with 1 Axes>"
            ]
          },
          "metadata": {
            "tags": [],
            "needs_background": "light"
          }
        },
        {
          "output_type": "display_data",
          "data": {
            "image/png": "[encoded data removed]",
            "text/plain": [
              "<Figure size 432x288 with 1 Axes>"
            ]
          },
          "metadata": {
            "tags": [],
            "needs_background": "light"
          }
        }
      ]
    },
    {
      "cell_type": "code",
      "metadata": {
        "id": "VHXQQvYOLFWb",
        "colab_type": "code",
        "colab": {
          "base_uri": "https://localhost:8080/",
          "height": 35
        },
        "outputId": "8682d527-81ef-4a1f-bbe6-5b5936fafbdb"
      },
      "source": [
        "print(\"El accuracy con el dataset de test es: \", acc_nn_relu_fin4)"
      ],
      "execution_count": 39,
      "outputs": [
        {
          "output_type": "stream",
          "text": [
            "El accuracy con el dataset de test es:  0.8906999826431274\n"
          ],
          "name": "stdout"
        }
      ]
    },
    {
      "cell_type": "markdown",
      "metadata": {
        "id": "UFCBdYifLG_J",
        "colab_type": "text"
      },
      "source": [
        "Se evidencia notablemente el cambio en la curva de Loss al introducir capas de dropout"
      ]
    },
    {
      "cell_type": "markdown",
      "metadata": {
        "id": "fg18EfJiLMn4",
        "colab_type": "text"
      },
      "source": [
        "****\n",
        "**Considerando las gráficas se decide utilizar un batch de 30 que ya se estabiliza el accuracy y el loss aún no comienza a crecer**\n",
        "****"
      ]
    },
    {
      "cell_type": "markdown",
      "metadata": {
        "id": "mqTFBwhDLVBR",
        "colab_type": "text"
      },
      "source": [
        "### Batch normalization"
      ]
    },
    {
      "cell_type": "code",
      "metadata": {
        "id": "LbxZoFIILXN9",
        "colab_type": "code",
        "colab": {
          "base_uri": "https://localhost:8080/",
          "height": 1000
        },
        "outputId": "8db92bdb-0948-4827-b696-98e6abc70bdf"
      },
      "source": [
        "from keras.layers.normalization import BatchNormalization\n",
        "from keras.layers import Activation\n",
        "\n",
        "batch_size = 48 #cambio batch size\n",
        "epochs = 30 #cambio batch size\n",
        "\n",
        "#Learning rate decay\n",
        "batches_per_epoch = 48000/batch_size\n",
        "lr_decay = (1. / 0.5 - 1)/batches_per_epoch #50% del learning rate original\n",
        "keras.optimizers.Adam(lr=0.001, beta_1=0.9, beta_2=0.999, epsilon=1e-08, decay=lr_decay)\n",
        "\n",
        "NN_relu_fin5 = Sequential()\n",
        "\n",
        "NN_relu_fin5.add(Dense(128, input_shape=(784,), kernel_initializer = 'random_normal'))\n",
        "NN_relu_fin5.add(BatchNormalization())\n",
        "NN_relu_fin5.add(Activation('relu'))\n",
        "\n",
        "NN_relu_fin5.add(Dropout(0.2))\n",
        "\n",
        "NN_relu_fin5.add(Dense(64, kernel_initializer = 'random_normal'))\n",
        "NN_relu_fin5.add(BatchNormalization())\n",
        "NN_relu_fin5.add(Activation('relu'))\n",
        "\n",
        "NN_relu_fin5.add(Dropout(0.2))\n",
        "\n",
        "NN_relu_fin5.add(Dense(64, kernel_initializer = 'random_normal'))\n",
        "NN_relu_fin5.add(BatchNormalization())\n",
        "NN_relu_fin5.add(Activation('relu'))\n",
        "\n",
        "NN_relu_fin5.add(Dropout(0.2))\n",
        "\n",
        "NN_relu_fin5.add(Dense(10, kernel_initializer = 'random_normal'))\n",
        "NN_relu_fin5.add(BatchNormalization())\n",
        "NN_relu_fin5.add(Activation('softmax'))\n",
        "\n",
        "NN_relu_fin5.compile(optimizer = 'adam', \n",
        "                loss = 'categorical_crossentropy', \n",
        "                metrics = ['acc'])\n",
        "\n",
        "hist_relu_fin5 = NN_relu_fin5.fit(X_train, y_train, \n",
        "                       batch_size = batch_size, \n",
        "                       epochs = epochs, \n",
        "                       verbose = 1, \n",
        "                       validation_split=0.2)\n",
        "\n",
        "acc_nn_relu_fin5 = NN_relu_fin5.evaluate(X_test, y_test, verbose = 1)[1]"
      ],
      "execution_count": 40,
      "outputs": [
        {
          "output_type": "stream",
          "text": [
            "Train on 48000 samples, validate on 12000 samples\n",
            "Epoch 1/30\n",
            "48000/48000 [==============================] - 6s 122us/step - loss: 0.7844 - acc: 0.7767 - val_loss: 0.4711 - val_acc: 0.8515\n",
            "Epoch 2/30\n",
            "48000/48000 [==============================] - 5s 108us/step - loss: 0.5611 - acc: 0.8288 - val_loss: 0.5281 - val_acc: 0.8183\n",
            "Epoch 3/30\n",
            "48000/48000 [==============================] - 5s 110us/step - loss: 0.4933 - acc: 0.8426 - val_loss: 0.3933 - val_acc: 0.8658\n",
            "Epoch 4/30\n",
            "48000/48000 [==============================] - 5s 108us/step - loss: 0.4546 - acc: 0.8522 - val_loss: 0.3840 - val_acc: 0.8673\n",
            "Epoch 5/30\n",
            "48000/48000 [==============================] - 5s 107us/step - loss: 0.4286 - acc: 0.8596 - val_loss: 0.3676 - val_acc: 0.8712\n",
            "Epoch 6/30\n",
            "48000/48000 [==============================] - 5s 108us/step - loss: 0.4112 - acc: 0.8644 - val_loss: 0.3910 - val_acc: 0.8613\n",
            "Epoch 7/30\n",
            "48000/48000 [==============================] - 5s 109us/step - loss: 0.3919 - acc: 0.8693 - val_loss: 0.3825 - val_acc: 0.8587\n",
            "Epoch 8/30\n",
            "48000/48000 [==============================] - 5s 108us/step - loss: 0.3806 - acc: 0.8716 - val_loss: 0.3322 - val_acc: 0.8821\n",
            "Epoch 9/30\n",
            "48000/48000 [==============================] - 5s 110us/step - loss: 0.3630 - acc: 0.8776 - val_loss: 0.3278 - val_acc: 0.8855\n",
            "Epoch 10/30\n",
            "48000/48000 [==============================] - 5s 106us/step - loss: 0.3532 - acc: 0.8802 - val_loss: 0.3150 - val_acc: 0.8892\n",
            "Epoch 11/30\n",
            "48000/48000 [==============================] - 5s 108us/step - loss: 0.3445 - acc: 0.8825 - val_loss: 0.3235 - val_acc: 0.8863\n",
            "Epoch 12/30\n",
            "48000/48000 [==============================] - 5s 110us/step - loss: 0.3440 - acc: 0.8831 - val_loss: 0.3386 - val_acc: 0.8789\n",
            "Epoch 13/30\n",
            "48000/48000 [==============================] - 5s 109us/step - loss: 0.3310 - acc: 0.8856 - val_loss: 0.3116 - val_acc: 0.8898\n",
            "Epoch 14/30\n",
            "48000/48000 [==============================] - 5s 111us/step - loss: 0.3268 - acc: 0.8882 - val_loss: 0.3199 - val_acc: 0.8865\n",
            "Epoch 15/30\n",
            "48000/48000 [==============================] - 5s 108us/step - loss: 0.3178 - acc: 0.8910 - val_loss: 0.3383 - val_acc: 0.8777\n",
            "Epoch 16/30\n",
            "48000/48000 [==============================] - 5s 110us/step - loss: 0.3125 - acc: 0.8929 - val_loss: 0.3231 - val_acc: 0.8835\n",
            "Epoch 17/30\n",
            "48000/48000 [==============================] - 5s 110us/step - loss: 0.3072 - acc: 0.8947 - val_loss: 0.3351 - val_acc: 0.8798\n",
            "Epoch 18/30\n",
            "48000/48000 [==============================] - 5s 107us/step - loss: 0.3028 - acc: 0.8966 - val_loss: 0.3161 - val_acc: 0.8872\n",
            "Epoch 19/30\n",
            "48000/48000 [==============================] - 5s 108us/step - loss: 0.2988 - acc: 0.8971 - val_loss: 0.3048 - val_acc: 0.8912\n",
            "Epoch 20/30\n",
            "48000/48000 [==============================] - 5s 108us/step - loss: 0.2928 - acc: 0.8988 - val_loss: 0.3178 - val_acc: 0.8873\n",
            "Epoch 21/30\n",
            "48000/48000 [==============================] - 5s 111us/step - loss: 0.2882 - acc: 0.8995 - val_loss: 0.3276 - val_acc: 0.8826\n",
            "Epoch 22/30\n",
            "48000/48000 [==============================] - 6s 121us/step - loss: 0.2816 - acc: 0.9023 - val_loss: 0.3006 - val_acc: 0.8930\n",
            "Epoch 23/30\n",
            "48000/48000 [==============================] - 5s 110us/step - loss: 0.2816 - acc: 0.9032 - val_loss: 0.3053 - val_acc: 0.8943\n",
            "Epoch 24/30\n",
            "48000/48000 [==============================] - 5s 108us/step - loss: 0.2765 - acc: 0.9051 - val_loss: 0.3133 - val_acc: 0.8863\n",
            "Epoch 25/30\n",
            "48000/48000 [==============================] - 5s 109us/step - loss: 0.2711 - acc: 0.9071 - val_loss: 0.2988 - val_acc: 0.8932\n",
            "Epoch 26/30\n",
            "48000/48000 [==============================] - 5s 107us/step - loss: 0.2678 - acc: 0.9079 - val_loss: 0.3028 - val_acc: 0.8917\n",
            "Epoch 27/30\n",
            "48000/48000 [==============================] - 5s 107us/step - loss: 0.2679 - acc: 0.9069 - val_loss: 0.3171 - val_acc: 0.8841\n",
            "Epoch 28/30\n",
            "48000/48000 [==============================] - 5s 108us/step - loss: 0.2636 - acc: 0.9089 - val_loss: 0.3433 - val_acc: 0.8784\n",
            "Epoch 29/30\n",
            "48000/48000 [==============================] - 5s 108us/step - loss: 0.2589 - acc: 0.9088 - val_loss: 0.3180 - val_acc: 0.8881\n",
            "Epoch 30/30\n",
            "48000/48000 [==============================] - 5s 110us/step - loss: 0.2598 - acc: 0.9112 - val_loss: 0.3127 - val_acc: 0.8881\n",
            "10000/10000 [==============================] - 1s 59us/step\n"
          ],
          "name": "stdout"
        }
      ]
    },
    {
      "cell_type": "code",
      "metadata": {
        "id": "ScY7qHOFLa3N",
        "colab_type": "code",
        "colab": {
          "base_uri": "https://localhost:8080/",
          "height": 547
        },
        "outputId": "4f7af635-b213-4481-e46e-521833d3c76d"
      },
      "source": [
        "plot_acc(hist_relu_fin5, title = \"Accuracy batch normalization\")\n",
        "plt.grid(True)"
      ],
      "execution_count": 41,
      "outputs": [
        {
          "output_type": "display_data",
          "data": {
            "image/png": "[encoded data removed]",
            "text/plain": [
              "<Figure size 432x288 with 1 Axes>"
            ]
          },
          "metadata": {
            "tags": [],
            "needs_background": "light"
          }
        },
        {
          "output_type": "display_data",
          "data": {
            "image/png": "[encoded data removed]",
            "text/plain": [
              "<Figure size 432x288 with 1 Axes>"
            ]
          },
          "metadata": {
            "tags": [],
            "needs_background": "light"
          }
        }
      ]
    },
    {
      "cell_type": "code",
      "metadata": {
        "id": "1BbiY83cLcg7",
        "colab_type": "code",
        "colab": {
          "base_uri": "https://localhost:8080/",
          "height": 547
        },
        "outputId": "b9c358d8-d68e-4cc7-9ac2-d2f9b1be2cac"
      },
      "source": [
        "plot_loss(hist_relu_fin5, title = \"Loss batch normalization\")\n",
        "plt.grid(True)"
      ],
      "execution_count": 42,
      "outputs": [
        {
          "output_type": "display_data",
          "data": {
            "image/png": "[encoded data removed]",
            "text/plain": [
              "<Figure size 432x288 with 1 Axes>"
            ]
          },
          "metadata": {
            "tags": [],
            "needs_background": "light"
          }
        },
        {
          "output_type": "display_data",
          "data": {
            "image/png": "[encoded data removed]",
            "text/plain": [
              "<Figure size 432x288 with 1 Axes>"
            ]
          },
          "metadata": {
            "tags": [],
            "needs_background": "light"
          }
        }
      ]
    },
    {
      "cell_type": "code",
      "metadata": {
        "id": "F1iSRv3gLfZe",
        "colab_type": "code",
        "colab": {
          "base_uri": "https://localhost:8080/",
          "height": 35
        },
        "outputId": "0e5e0be6-306e-42c6-a961-f604b5ea44ee"
      },
      "source": [
        "print(\"El accuracy con el dataset de test es: \", acc_nn_relu_fin5)"
      ],
      "execution_count": 43,
      "outputs": [
        {
          "output_type": "stream",
          "text": [
            "El accuracy con el dataset de test es:  0.8834999799728394\n"
          ],
          "name": "stdout"
        }
      ]
    },
    {
      "cell_type": "markdown",
      "metadata": {
        "id": "pUnQJiK9Lg4E",
        "colab_type": "text"
      },
      "source": [
        "Se descarta el uso de batch normalization para esta red"
      ]
    },
    {
      "cell_type": "markdown",
      "metadata": {
        "id": "B5LcQgwUTFqb",
        "colab_type": "text"
      },
      "source": [
        "### Evaluación del modelo en datos de test"
      ]
    },
    {
      "cell_type": "markdown",
      "metadata": {
        "id": "4ldy0NmtTFqb",
        "colab_type": "text"
      },
      "source": [
        "Una vez elegido el que creemos que es nuestro mejor modelo a partir de la estimación que hemos visto en los datos de validación, es hora de utilizar los datos de test para ver cómo se comporta nuestro modelo ante nuevos datos. Si hemos hecho bien las cosas, este número debería ser parecido al valor de nuestra estimación vista en los datos de validación.\n",
        "\n",
        "**Pregunta 4.2**. Utilizando nuestro mejor modelo, obtener la accuracy resultante en el dataset de test. Comentar este resultado."
      ]
    },
    {
      "cell_type": "markdown",
      "metadata": {
        "id": "e_6xtab9Ltjs",
        "colab_type": "text"
      },
      "source": [
        "Se realiza la comparativa entre la red original del ejercicio 1 y la red final"
      ]
    },
    {
      "cell_type": "markdown",
      "metadata": {
        "id": "eQ6NK96rL1pk",
        "colab_type": "text"
      },
      "source": [
        "### Clasificador original ejercicio 1"
      ]
    },
    {
      "cell_type": "code",
      "metadata": {
        "id": "1AchhaHqTFqc",
        "colab_type": "code",
        "colab": {
          "base_uri": "https://localhost:8080/",
          "height": 1000
        },
        "outputId": "445b556c-41c1-451f-f7e4-4833868014a1"
      },
      "source": [
        "batch_size = 48 #cambio batch size\n",
        "epochs = 30 #cambio batch size\n",
        "#Inicializar la red\n",
        "classifier = Sequential()\n",
        "\n",
        "classifier.add(Dense(128, input_shape=(784,), activation = 'sigmoid', kernel_initializer = 'uniform'))\n",
        "classifier.add(Dense(64, activation = 'sigmoid', kernel_initializer = 'uniform'))\n",
        "classifier.add(Dense(10, activation = 'softmax', kernel_initializer = 'uniform'))\n",
        "classifier.compile(optimizer = 'SGD', loss = 'categorical_crossentropy', metrics = ['acc'])\n",
        "\n",
        "hist_classifier=classifier.fit(X_train, y_train, batch_size = batch_size, epochs = epochs, verbose = 1, validation_split=0.2)\n",
        "acc_classifier = classifier.evaluate(X_test, y_test, verbose = 1)[1]"
      ],
      "execution_count": 47,
      "outputs": [
        {
          "output_type": "stream",
          "text": [
            "Train on 48000 samples, validate on 12000 samples\n",
            "Epoch 1/30\n",
            "48000/48000 [==============================] - 3s 59us/step - loss: 2.3030 - acc: 0.1035 - val_loss: 2.3013 - val_acc: 0.1779\n",
            "Epoch 2/30\n",
            "48000/48000 [==============================] - 3s 57us/step - loss: 2.3002 - acc: 0.1145 - val_loss: 2.2978 - val_acc: 0.1030\n",
            "Epoch 3/30\n",
            "48000/48000 [==============================] - 3s 58us/step - loss: 2.2956 - acc: 0.1320 - val_loss: 2.2924 - val_acc: 0.1667\n",
            "Epoch 4/30\n",
            "48000/48000 [==============================] - 3s 56us/step - loss: 2.2832 - acc: 0.1890 - val_loss: 2.2698 - val_acc: 0.3163\n",
            "Epoch 5/30\n",
            "48000/48000 [==============================] - 3s 58us/step - loss: 2.2306 - acc: 0.2442 - val_loss: 2.1626 - val_acc: 0.3484\n",
            "Epoch 6/30\n",
            "48000/48000 [==============================] - 3s 57us/step - loss: 2.0111 - acc: 0.2861 - val_loss: 1.8529 - val_acc: 0.3301\n",
            "Epoch 7/30\n",
            "48000/48000 [==============================] - 3s 58us/step - loss: 1.7575 - acc: 0.3474 - val_loss: 1.6863 - val_acc: 0.4141\n",
            "Epoch 8/30\n",
            "48000/48000 [==============================] - 3s 58us/step - loss: 1.6323 - acc: 0.4092 - val_loss: 1.5732 - val_acc: 0.4648\n",
            "Epoch 9/30\n",
            "48000/48000 [==============================] - 3s 58us/step - loss: 1.5045 - acc: 0.4817 - val_loss: 1.4290 - val_acc: 0.4950\n",
            "Epoch 10/30\n",
            "48000/48000 [==============================] - 3s 59us/step - loss: 1.3655 - acc: 0.5366 - val_loss: 1.2999 - val_acc: 0.5809\n",
            "Epoch 11/30\n",
            "48000/48000 [==============================] - 3s 57us/step - loss: 1.2561 - acc: 0.5726 - val_loss: 1.2056 - val_acc: 0.5928\n",
            "Epoch 12/30\n",
            "48000/48000 [==============================] - 3s 57us/step - loss: 1.1729 - acc: 0.5891 - val_loss: 1.1302 - val_acc: 0.6019\n",
            "Epoch 13/30\n",
            "48000/48000 [==============================] - 3s 56us/step - loss: 1.1063 - acc: 0.5975 - val_loss: 1.0704 - val_acc: 0.6058\n",
            "Epoch 14/30\n",
            "48000/48000 [==============================] - 3s 58us/step - loss: 1.0533 - acc: 0.6061 - val_loss: 1.0227 - val_acc: 0.6213\n",
            "Epoch 15/30\n",
            "48000/48000 [==============================] - 3s 58us/step - loss: 1.0106 - acc: 0.6160 - val_loss: 0.9834 - val_acc: 0.6266\n",
            "Epoch 16/30\n",
            "48000/48000 [==============================] - 3s 57us/step - loss: 0.9741 - acc: 0.6261 - val_loss: 0.9507 - val_acc: 0.6386\n",
            "Epoch 17/30\n",
            "48000/48000 [==============================] - 3s 57us/step - loss: 0.9423 - acc: 0.6328 - val_loss: 0.9206 - val_acc: 0.6326\n",
            "Epoch 18/30\n",
            "48000/48000 [==============================] - 3s 58us/step - loss: 0.9143 - acc: 0.6430 - val_loss: 0.8958 - val_acc: 0.6530\n",
            "Epoch 19/30\n",
            "48000/48000 [==============================] - 3s 58us/step - loss: 0.8898 - acc: 0.6530 - val_loss: 0.8730 - val_acc: 0.6582\n",
            "Epoch 20/30\n",
            "48000/48000 [==============================] - 3s 57us/step - loss: 0.8681 - acc: 0.6607 - val_loss: 0.8523 - val_acc: 0.6704\n",
            "Epoch 21/30\n",
            "48000/48000 [==============================] - 3s 58us/step - loss: 0.8481 - acc: 0.6714 - val_loss: 0.8342 - val_acc: 0.6735\n",
            "Epoch 22/30\n",
            "48000/48000 [==============================] - 3s 58us/step - loss: 0.8298 - acc: 0.6808 - val_loss: 0.8158 - val_acc: 0.6989\n",
            "Epoch 23/30\n",
            "48000/48000 [==============================] - 3s 58us/step - loss: 0.8122 - acc: 0.6930 - val_loss: 0.7993 - val_acc: 0.7053\n",
            "Epoch 24/30\n",
            "48000/48000 [==============================] - 3s 58us/step - loss: 0.7954 - acc: 0.7017 - val_loss: 0.7824 - val_acc: 0.7128\n",
            "Epoch 25/30\n",
            "48000/48000 [==============================] - 3s 58us/step - loss: 0.7793 - acc: 0.7096 - val_loss: 0.7673 - val_acc: 0.7207\n",
            "Epoch 26/30\n",
            "48000/48000 [==============================] - 3s 57us/step - loss: 0.7637 - acc: 0.7168 - val_loss: 0.7507 - val_acc: 0.7229\n",
            "Epoch 27/30\n",
            "48000/48000 [==============================] - 3s 58us/step - loss: 0.7485 - acc: 0.7223 - val_loss: 0.7361 - val_acc: 0.7362\n",
            "Epoch 28/30\n",
            "48000/48000 [==============================] - 3s 58us/step - loss: 0.7339 - acc: 0.7280 - val_loss: 0.7218 - val_acc: 0.7352\n",
            "Epoch 29/30\n",
            "48000/48000 [==============================] - 3s 58us/step - loss: 0.7196 - acc: 0.7340 - val_loss: 0.7075 - val_acc: 0.7428\n",
            "Epoch 30/30\n",
            "48000/48000 [==============================] - 3s 56us/step - loss: 0.7058 - acc: 0.7400 - val_loss: 0.6941 - val_acc: 0.7510\n",
            "10000/10000 [==============================] - 0s 27us/step\n"
          ],
          "name": "stdout"
        }
      ]
    },
    {
      "cell_type": "markdown",
      "metadata": {
        "id": "ljv4F4cyL-4N",
        "colab_type": "text"
      },
      "source": [
        "### Clasificador final"
      ]
    },
    {
      "cell_type": "code",
      "metadata": {
        "id": "nWUO9jPkMBfn",
        "colab_type": "code",
        "colab": {
          "base_uri": "https://localhost:8080/",
          "height": 1000
        },
        "outputId": "a569c6b4-e8ac-432b-9da3-3769989eab9d"
      },
      "source": [
        "batch_size = 48 #cambio batch size\n",
        "epochs = 30 #cambio batch size\n",
        "\n",
        "#Learning rate decay\n",
        "batches_per_epoch = 48000/batch_size\n",
        "lr_decay = (1. / 0.5 - 1)/batches_per_epoch #50% del learning rate original\n",
        "keras.optimizers.Adam(lr=0.001, beta_1=0.9, beta_2=0.999, epsilon=1e-08, decay=lr_decay)\n",
        "\n",
        "NN_relu_fin = Sequential()\n",
        "\n",
        "NN_relu_fin.add(Dense(128, input_shape=(784,), activation = 'relu', kernel_initializer = 'random_normal'))\n",
        "NN_relu_fin.add(Dropout(0.2))\n",
        "NN_relu_fin.add(Dense(64, activation = 'relu', kernel_initializer = 'random_normal'))\n",
        "NN_relu_fin.add(Dropout(0.2))\n",
        "NN_relu_fin.add(Dense(64, activation = 'relu', kernel_initializer = 'random_normal'))\n",
        "NN_relu_fin.add(Dropout(0.2))\n",
        "NN_relu_fin.add(Dense(10, activation = 'softmax', kernel_initializer = 'random_normal'))\n",
        "\n",
        "NN_relu_fin.compile(optimizer = 'adam', \n",
        "                loss = 'categorical_crossentropy', \n",
        "                metrics = ['acc'])\n",
        "\n",
        "hist_relu_fin = NN_relu_fin.fit(X_train, y_train, \n",
        "                       batch_size = batch_size, \n",
        "                       epochs = epochs, \n",
        "                       verbose = 1, \n",
        "                       validation_split=0.2)\n",
        "\n",
        "acc_nn_relu_fin = NN_relu_fin.evaluate(X_test, y_test, verbose = 1)[1]"
      ],
      "execution_count": 45,
      "outputs": [
        {
          "output_type": "stream",
          "text": [
            "Train on 48000 samples, validate on 12000 samples\n",
            "Epoch 1/30\n",
            "48000/48000 [==============================] - 4s 90us/step - loss: 0.7069 - acc: 0.7412 - val_loss: 0.4901 - val_acc: 0.8210\n",
            "Epoch 2/30\n",
            "48000/48000 [==============================] - 4s 83us/step - loss: 0.4643 - acc: 0.8375 - val_loss: 0.4110 - val_acc: 0.8481\n",
            "Epoch 3/30\n",
            "48000/48000 [==============================] - 4s 84us/step - loss: 0.4204 - acc: 0.8508 - val_loss: 0.3759 - val_acc: 0.8649\n",
            "Epoch 4/30\n",
            "48000/48000 [==============================] - 4s 86us/step - loss: 0.3905 - acc: 0.8613 - val_loss: 0.3521 - val_acc: 0.8738\n",
            "Epoch 5/30\n",
            "48000/48000 [==============================] - 4s 86us/step - loss: 0.3760 - acc: 0.8670 - val_loss: 0.3477 - val_acc: 0.8725\n",
            "Epoch 6/30\n",
            "48000/48000 [==============================] - 4s 86us/step - loss: 0.3564 - acc: 0.8715 - val_loss: 0.3524 - val_acc: 0.8744\n",
            "Epoch 7/30\n",
            "48000/48000 [==============================] - 4s 84us/step - loss: 0.3482 - acc: 0.8740 - val_loss: 0.3430 - val_acc: 0.8760\n",
            "Epoch 8/30\n",
            "48000/48000 [==============================] - 4s 84us/step - loss: 0.3382 - acc: 0.8775 - val_loss: 0.3280 - val_acc: 0.8792\n",
            "Epoch 9/30\n",
            "48000/48000 [==============================] - 4s 85us/step - loss: 0.3302 - acc: 0.8803 - val_loss: 0.3324 - val_acc: 0.8841\n",
            "Epoch 10/30\n",
            "48000/48000 [==============================] - 4s 85us/step - loss: 0.3190 - acc: 0.8835 - val_loss: 0.3267 - val_acc: 0.8843\n",
            "Epoch 11/30\n",
            "48000/48000 [==============================] - 4s 88us/step - loss: 0.3153 - acc: 0.8850 - val_loss: 0.3289 - val_acc: 0.8831\n",
            "Epoch 12/30\n",
            "48000/48000 [==============================] - 4s 86us/step - loss: 0.3086 - acc: 0.8886 - val_loss: 0.3274 - val_acc: 0.8827\n",
            "Epoch 13/30\n",
            "48000/48000 [==============================] - 4s 85us/step - loss: 0.3048 - acc: 0.8877 - val_loss: 0.3203 - val_acc: 0.8854\n",
            "Epoch 14/30\n",
            "48000/48000 [==============================] - 4s 84us/step - loss: 0.3007 - acc: 0.8905 - val_loss: 0.3170 - val_acc: 0.8865\n",
            "Epoch 15/30\n",
            "48000/48000 [==============================] - 4s 86us/step - loss: 0.2939 - acc: 0.8931 - val_loss: 0.3199 - val_acc: 0.8891\n",
            "Epoch 16/30\n",
            "48000/48000 [==============================] - 4s 86us/step - loss: 0.2928 - acc: 0.8937 - val_loss: 0.3163 - val_acc: 0.8883\n",
            "Epoch 17/30\n",
            "48000/48000 [==============================] - 4s 85us/step - loss: 0.2850 - acc: 0.8962 - val_loss: 0.3129 - val_acc: 0.8877\n",
            "Epoch 18/30\n",
            "48000/48000 [==============================] - 4s 85us/step - loss: 0.2839 - acc: 0.8964 - val_loss: 0.3152 - val_acc: 0.8858\n",
            "Epoch 19/30\n",
            "48000/48000 [==============================] - 4s 85us/step - loss: 0.2798 - acc: 0.8978 - val_loss: 0.3106 - val_acc: 0.8892\n",
            "Epoch 20/30\n",
            "48000/48000 [==============================] - 4s 84us/step - loss: 0.2785 - acc: 0.8977 - val_loss: 0.3200 - val_acc: 0.8888\n",
            "Epoch 21/30\n",
            "48000/48000 [==============================] - 4s 83us/step - loss: 0.2747 - acc: 0.8985 - val_loss: 0.3159 - val_acc: 0.8911\n",
            "Epoch 22/30\n",
            "48000/48000 [==============================] - 4s 83us/step - loss: 0.2736 - acc: 0.8990 - val_loss: 0.3096 - val_acc: 0.8894\n",
            "Epoch 23/30\n",
            "48000/48000 [==============================] - 4s 83us/step - loss: 0.2651 - acc: 0.9030 - val_loss: 0.3176 - val_acc: 0.8919\n",
            "Epoch 24/30\n",
            "48000/48000 [==============================] - 4s 84us/step - loss: 0.2628 - acc: 0.9039 - val_loss: 0.3066 - val_acc: 0.8924\n",
            "Epoch 25/30\n",
            "48000/48000 [==============================] - 4s 84us/step - loss: 0.2622 - acc: 0.9051 - val_loss: 0.3268 - val_acc: 0.8881\n",
            "Epoch 26/30\n",
            "48000/48000 [==============================] - 4s 84us/step - loss: 0.2603 - acc: 0.9037 - val_loss: 0.3151 - val_acc: 0.8913\n",
            "Epoch 27/30\n",
            "48000/48000 [==============================] - 4s 86us/step - loss: 0.2561 - acc: 0.9055 - val_loss: 0.3099 - val_acc: 0.8934\n",
            "Epoch 28/30\n",
            "48000/48000 [==============================] - 4s 86us/step - loss: 0.2527 - acc: 0.9078 - val_loss: 0.3115 - val_acc: 0.8923\n",
            "Epoch 29/30\n",
            "48000/48000 [==============================] - 4s 85us/step - loss: 0.2525 - acc: 0.9067 - val_loss: 0.3159 - val_acc: 0.8917\n",
            "Epoch 30/30\n",
            "48000/48000 [==============================] - 4s 85us/step - loss: 0.2533 - acc: 0.9070 - val_loss: 0.3110 - val_acc: 0.8923\n",
            "10000/10000 [==============================] - 0s 30us/step\n"
          ],
          "name": "stdout"
        }
      ]
    },
    {
      "cell_type": "markdown",
      "metadata": {
        "id": "ESp9uLJTMH-k",
        "colab_type": "text"
      },
      "source": [
        "### Comparativa de redes"
      ]
    },
    {
      "cell_type": "code",
      "metadata": {
        "id": "H2hYGiRoMKGz",
        "colab_type": "code",
        "colab": {
          "base_uri": "https://localhost:8080/",
          "height": 295
        },
        "outputId": "7bbbc78b-5c07-491c-c198-06c36b3b5b4b"
      },
      "source": [
        "plot_compare_losses2(hist_relu_fin, hist_classifier, \n",
        "                    name1=\"Red final\", name2=\"Red original\", \n",
        "                    title = \"Comparativa de losses\")"
      ],
      "execution_count": 48,
      "outputs": [
        {
          "output_type": "display_data",
          "data": {
            "image/png": "[encoded data removed]",
            "text/plain": [
              "<Figure size 432x288 with 1 Axes>"
            ]
          },
          "metadata": {
            "tags": [],
            "needs_background": "light"
          }
        }
      ]
    },
    {
      "cell_type": "code",
      "metadata": {
        "id": "m8qMz61_MQto",
        "colab_type": "code",
        "colab": {
          "base_uri": "https://localhost:8080/",
          "height": 295
        },
        "outputId": "08886cdc-02ed-4b36-e6a4-918f738c9c7b"
      },
      "source": [
        "plot_compare_accs2(hist_relu_fin, hist_classifier, \n",
        "                    name1=\"Red final\", name2=\"Red original\", \n",
        "                    title = \"Comparativa de accuracy\")"
      ],
      "execution_count": 49,
      "outputs": [
        {
          "output_type": "display_data",
          "data": {
            "image/png": "[encoded data removed]",
            "text/plain": [
              "<Figure size 432x288 with 1 Axes>"
            ]
          },
          "metadata": {
            "tags": [],
            "needs_background": "light"
          }
        }
      ]
    },
    {
      "cell_type": "code",
      "metadata": {
        "id": "exsK-4v2MSKR",
        "colab_type": "code",
        "colab": {
          "base_uri": "https://localhost:8080/",
          "height": 69
        },
        "outputId": "2b3694b7-3d45-4547-9db8-96377b625037"
      },
      "source": [
        "print(\"Las comparativas de accuracy con el dataset de test es:\\n\", \n",
        "      acc_nn_relu_fin, \"para la red final\\n\", \n",
        "      acc_classifier, \"para la red original\")"
      ],
      "execution_count": 50,
      "outputs": [
        {
          "output_type": "stream",
          "text": [
            "Las comparativas de accuracy con el dataset de test es:\n",
            " 0.8827999830245972 para la red final\n",
            " 0.7414000034332275 para la red original\n"
          ],
          "name": "stdout"
        }
      ]
    },
    {
      "cell_type": "code",
      "metadata": {
        "id": "x4NZeWfujJIc",
        "colab_type": "code",
        "colab": {}
      },
      "source": [
        ""
      ],
      "execution_count": 0,
      "outputs": []
    }
  ]
}